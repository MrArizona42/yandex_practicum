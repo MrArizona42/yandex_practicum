{
 "cells": [
  {
   "cell_type": "markdown",
   "id": "981c2ee0-37c0-401b-b954-f4a2c75ee44d",
   "metadata": {},
   "source": [
    "# Телекоммуникации"
   ]
  },
  {
   "cell_type": "markdown",
   "id": "a5bba39a",
   "metadata": {},
   "source": [
    "Оператор связи «ТелеДом» хочет бороться с оттоком клиентов. Для этого его сотрудники начнут предлагать промокоды и специальные условия всем, кто планирует отказаться от услуг связи. Чтобы заранее находить таких пользователей, «ТелеДому» нужна модель, которая будет предсказывать, разорвёт ли абонент договор. Команда оператора собрала персональные данные о некоторых клиентах, информацию об их тарифах и услугах. Ваша задача — обучить на этих данных модель для прогноза оттока клиентов.\n",
    "\n",
    "Описание услуг  \n",
    "Оператор предоставляет два основных типа услуг: \n",
    "* Стационарную телефонную связь. Телефон можно подключить к нескольким линиям одновременно.\n",
    "* Интернет. Подключение может быть двух типов: через телефонную линию (DSL, от англ. digital subscriber line — «цифровая абонентская линия») или оптоволоконный кабель (Fiber optic).\n",
    "\n",
    "Также доступны такие услуги:  \n",
    "* Интернет-безопасность: антивирус (DeviceProtection) и блокировка небезопасных сайтов (OnlineSecurity);\n",
    "* Выделенная линия технической поддержки (TechSupport);\n",
    "* Облачное хранилище файлов для резервного копирования данных (OnlineBackup);\n",
    "* Стриминговое телевидение (StreamingTV) и каталог фильмов (StreamingMovies).\n",
    "\n",
    "Клиенты могут платить за услуги каждый месяц или заключить договор на 1–2 года. Возможно оплатить счёт разными способами, а также получить электронный чек."
   ]
  },
  {
   "cell_type": "markdown",
   "id": "eaaf6802",
   "metadata": {},
   "source": [
    "Цель работы.\n",
    "* Выполнить предварительный анализ данных и предобработку данных.\n",
    "* Выполнить исследовательский анализ данных.\n",
    "* Выполнить подготовку данных для применения с разными моделями.\n",
    "* Обучить несколько моделей и сравнить результаты.\n",
    "* Условия: Train-test split 3:1, сравнение моделей на кросс-валидации, целевая метрика - ROC-AUC.\n",
    "* Минимальный скор на тестовой выборке ROC-AUC 0.85.\n",
    "* Выводы, рекомендации\n"
   ]
  },
  {
   "cell_type": "markdown",
   "id": "15a2f7bd-d3ae-46c3-95d3-6bfa30d1dd4a",
   "metadata": {},
   "source": [
    "## Import, EDA"
   ]
  },
  {
   "cell_type": "code",
   "execution_count": 1,
   "id": "43aa8c60",
   "metadata": {},
   "outputs": [],
   "source": [
    "# !pip install --upgrade phik catboost scikit-learn"
   ]
  },
  {
   "cell_type": "code",
   "execution_count": 2,
   "id": "4c2afc15-a06b-4463-b208-6389b5fe2fcd",
   "metadata": {},
   "outputs": [],
   "source": [
    "import warnings\n",
    "\n",
    "import numpy as np\n",
    "import pandas as pd\n",
    "import seaborn as sns\n",
    "import matplotlib.pyplot as plt\n",
    "\n",
    "from catboost import CatBoostClassifier\n",
    "from phik import phik_matrix\n",
    "from prettytable import PrettyTable\n",
    "from sklearn.compose import ColumnTransformer\n",
    "from sklearn.ensemble import RandomForestClassifier\n",
    "from sklearn.linear_model import LogisticRegression, Ridge\n",
    "from sklearn.metrics import roc_auc_score, roc_curve, auc\n",
    "from sklearn.model_selection import (\n",
    "    GridSearchCV,\n",
    "    train_test_split,\n",
    "    cross_val_score\n",
    ")\n",
    "from sklearn.pipeline import Pipeline\n",
    "from sklearn.preprocessing import (\n",
    "    StandardScaler,\n",
    "    OneHotEncoder\n",
    ")\n",
    "\n",
    "warnings.filterwarnings('ignore')\n",
    "\n",
    "RANDOM_STATE = 271123"
   ]
  },
  {
   "cell_type": "markdown",
   "id": "c036277e-fbf0-4456-a022-7ee45b41a034",
   "metadata": {},
   "source": [
    "### Contract data"
   ]
  },
  {
   "cell_type": "code",
   "execution_count": 3,
   "id": "3740af0c-b989-403c-8c44-e8fada5c9d45",
   "metadata": {},
   "outputs": [
    {
     "data": {
      "text/plain": [
       "Index(['customerID', 'BeginDate', 'EndDate', 'Type', 'PaperlessBilling',\n",
       "       'PaymentMethod', 'MonthlyCharges', 'TotalCharges'],\n",
       "      dtype='object')"
      ]
     },
     "execution_count": 3,
     "metadata": {},
     "output_type": "execute_result"
    }
   ],
   "source": [
    "contract_data = pd.read_csv('C:/Users/anton/OneDrive/data_science/practicum_projects/datasets/contract_new.csv')\n",
    "contract_data.columns"
   ]
  },
  {
   "cell_type": "code",
   "execution_count": 4,
   "id": "33c18f40-6882-4e36-bb14-d560e7bc4664",
   "metadata": {},
   "outputs": [],
   "source": [
    "contract_data.rename(columns={'customerID':'customer_id',\n",
    "                             'BeginDate':'begin_date',\n",
    "                             'EndDate':'end_date',\n",
    "                             'Type':'type',\n",
    "                             'PaperlessBilling':'paperless_billing',\n",
    "                             'PaymentMethod':'payment_method',\n",
    "                             'MonthlyCharges':'monthly_charges',\n",
    "                             'TotalCharges':'total_charges'},\n",
    "                    inplace=True)"
   ]
  },
  {
   "cell_type": "code",
   "execution_count": 5,
   "id": "f74dda93-7e1d-4bb1-ad87-add2ed4890e7",
   "metadata": {},
   "outputs": [
    {
     "data": {
      "text/html": [
       "<div>\n",
       "<style scoped>\n",
       "    .dataframe tbody tr th:only-of-type {\n",
       "        vertical-align: middle;\n",
       "    }\n",
       "\n",
       "    .dataframe tbody tr th {\n",
       "        vertical-align: top;\n",
       "    }\n",
       "\n",
       "    .dataframe thead th {\n",
       "        text-align: right;\n",
       "    }\n",
       "</style>\n",
       "<table border=\"1\" class=\"dataframe\">\n",
       "  <thead>\n",
       "    <tr style=\"text-align: right;\">\n",
       "      <th></th>\n",
       "      <th>customer_id</th>\n",
       "      <th>begin_date</th>\n",
       "      <th>end_date</th>\n",
       "      <th>type</th>\n",
       "      <th>paperless_billing</th>\n",
       "      <th>payment_method</th>\n",
       "      <th>monthly_charges</th>\n",
       "      <th>total_charges</th>\n",
       "    </tr>\n",
       "  </thead>\n",
       "  <tbody>\n",
       "    <tr>\n",
       "      <th>0</th>\n",
       "      <td>7590-VHVEG</td>\n",
       "      <td>2020-01-01</td>\n",
       "      <td>No</td>\n",
       "      <td>Month-to-month</td>\n",
       "      <td>Yes</td>\n",
       "      <td>Electronic check</td>\n",
       "      <td>29.85</td>\n",
       "      <td>31.04</td>\n",
       "    </tr>\n",
       "    <tr>\n",
       "      <th>1</th>\n",
       "      <td>5575-GNVDE</td>\n",
       "      <td>2017-04-01</td>\n",
       "      <td>No</td>\n",
       "      <td>One year</td>\n",
       "      <td>No</td>\n",
       "      <td>Mailed check</td>\n",
       "      <td>56.95</td>\n",
       "      <td>2071.84</td>\n",
       "    </tr>\n",
       "    <tr>\n",
       "      <th>2</th>\n",
       "      <td>3668-QPYBK</td>\n",
       "      <td>2019-10-01</td>\n",
       "      <td>No</td>\n",
       "      <td>Month-to-month</td>\n",
       "      <td>Yes</td>\n",
       "      <td>Mailed check</td>\n",
       "      <td>53.85</td>\n",
       "      <td>226.17</td>\n",
       "    </tr>\n",
       "    <tr>\n",
       "      <th>3</th>\n",
       "      <td>7795-CFOCW</td>\n",
       "      <td>2016-05-01</td>\n",
       "      <td>No</td>\n",
       "      <td>One year</td>\n",
       "      <td>No</td>\n",
       "      <td>Bank transfer (automatic)</td>\n",
       "      <td>42.30</td>\n",
       "      <td>1960.6</td>\n",
       "    </tr>\n",
       "    <tr>\n",
       "      <th>4</th>\n",
       "      <td>9237-HQITU</td>\n",
       "      <td>2019-09-01</td>\n",
       "      <td>No</td>\n",
       "      <td>Month-to-month</td>\n",
       "      <td>Yes</td>\n",
       "      <td>Electronic check</td>\n",
       "      <td>70.70</td>\n",
       "      <td>353.5</td>\n",
       "    </tr>\n",
       "  </tbody>\n",
       "</table>\n",
       "</div>"
      ],
      "text/plain": [
       "  customer_id  begin_date end_date            type paperless_billing  \\\n",
       "0  7590-VHVEG  2020-01-01       No  Month-to-month               Yes   \n",
       "1  5575-GNVDE  2017-04-01       No        One year                No   \n",
       "2  3668-QPYBK  2019-10-01       No  Month-to-month               Yes   \n",
       "3  7795-CFOCW  2016-05-01       No        One year                No   \n",
       "4  9237-HQITU  2019-09-01       No  Month-to-month               Yes   \n",
       "\n",
       "              payment_method  monthly_charges total_charges  \n",
       "0           Electronic check            29.85         31.04  \n",
       "1               Mailed check            56.95       2071.84  \n",
       "2               Mailed check            53.85        226.17  \n",
       "3  Bank transfer (automatic)            42.30        1960.6  \n",
       "4           Electronic check            70.70         353.5  "
      ]
     },
     "execution_count": 5,
     "metadata": {},
     "output_type": "execute_result"
    }
   ],
   "source": [
    "contract_data.head()"
   ]
  },
  {
   "cell_type": "code",
   "execution_count": 6,
   "id": "fbd91981-b297-4279-8e00-c81173358c1d",
   "metadata": {},
   "outputs": [
    {
     "name": "stdout",
     "output_type": "stream",
     "text": [
      "<class 'pandas.core.frame.DataFrame'>\n",
      "RangeIndex: 7043 entries, 0 to 7042\n",
      "Data columns (total 8 columns):\n",
      " #   Column             Non-Null Count  Dtype  \n",
      "---  ------             --------------  -----  \n",
      " 0   customer_id        7043 non-null   object \n",
      " 1   begin_date         7043 non-null   object \n",
      " 2   end_date           7043 non-null   object \n",
      " 3   type               7043 non-null   object \n",
      " 4   paperless_billing  7043 non-null   object \n",
      " 5   payment_method     7043 non-null   object \n",
      " 6   monthly_charges    7043 non-null   float64\n",
      " 7   total_charges      7043 non-null   object \n",
      "dtypes: float64(1), object(7)\n",
      "memory usage: 440.3+ KB\n"
     ]
    }
   ],
   "source": [
    "contract_data.info()"
   ]
  },
  {
   "cell_type": "code",
   "execution_count": 7,
   "id": "48695991-c923-4ded-9168-cc13bcd09f8d",
   "metadata": {},
   "outputs": [
    {
     "data": {
      "text/plain": [
       "customer_id                  object\n",
       "begin_date           datetime64[ns]\n",
       "end_date             datetime64[ns]\n",
       "type                         object\n",
       "paperless_billing            object\n",
       "payment_method               object\n",
       "monthly_charges             float64\n",
       "total_charges               float64\n",
       "dtype: object"
      ]
     },
     "execution_count": 7,
     "metadata": {},
     "output_type": "execute_result"
    }
   ],
   "source": [
    "# Изменим типы данных\n",
    "contract_data['begin_date'] = pd.to_datetime(contract_data['begin_date'])\n",
    "contract_data['end_date'] = pd.to_datetime(contract_data['end_date'], errors='coerce')\n",
    "contract_data['total_charges'] = pd.to_numeric(contract_data['total_charges'], errors='coerce')\n",
    "contract_data.dtypes"
   ]
  },
  {
   "cell_type": "code",
   "execution_count": 8,
   "id": "e9fe061d-4861-492a-822a-8af72eb57ebd",
   "metadata": {},
   "outputs": [
    {
     "data": {
      "text/html": [
       "<div>\n",
       "<style scoped>\n",
       "    .dataframe tbody tr th:only-of-type {\n",
       "        vertical-align: middle;\n",
       "    }\n",
       "\n",
       "    .dataframe tbody tr th {\n",
       "        vertical-align: top;\n",
       "    }\n",
       "\n",
       "    .dataframe thead th {\n",
       "        text-align: right;\n",
       "    }\n",
       "</style>\n",
       "<table border=\"1\" class=\"dataframe\">\n",
       "  <thead>\n",
       "    <tr style=\"text-align: right;\">\n",
       "      <th></th>\n",
       "      <th>begin_date</th>\n",
       "      <th>end_date</th>\n",
       "      <th>monthly_charges</th>\n",
       "      <th>total_charges</th>\n",
       "    </tr>\n",
       "  </thead>\n",
       "  <tbody>\n",
       "    <tr>\n",
       "      <th>count</th>\n",
       "      <td>7043</td>\n",
       "      <td>1101</td>\n",
       "      <td>7043.000000</td>\n",
       "      <td>7032.000000</td>\n",
       "    </tr>\n",
       "    <tr>\n",
       "      <th>mean</th>\n",
       "      <td>2017-04-30 13:01:50.918642688</td>\n",
       "      <td>2018-03-12 18:21:15.204359680</td>\n",
       "      <td>64.761692</td>\n",
       "      <td>2118.621822</td>\n",
       "    </tr>\n",
       "    <tr>\n",
       "      <th>min</th>\n",
       "      <td>2013-10-01 00:00:00</td>\n",
       "      <td>2014-06-01 00:00:00</td>\n",
       "      <td>18.250000</td>\n",
       "      <td>19.050000</td>\n",
       "    </tr>\n",
       "    <tr>\n",
       "      <th>25%</th>\n",
       "      <td>2015-06-01 00:00:00</td>\n",
       "      <td>2017-05-01 00:00:00</td>\n",
       "      <td>35.500000</td>\n",
       "      <td>439.745000</td>\n",
       "    </tr>\n",
       "    <tr>\n",
       "      <th>50%</th>\n",
       "      <td>2017-09-01 00:00:00</td>\n",
       "      <td>2018-06-01 00:00:00</td>\n",
       "      <td>70.350000</td>\n",
       "      <td>1345.275000</td>\n",
       "    </tr>\n",
       "    <tr>\n",
       "      <th>75%</th>\n",
       "      <td>2019-04-01 00:00:00</td>\n",
       "      <td>2019-04-01 00:00:00</td>\n",
       "      <td>89.850000</td>\n",
       "      <td>3239.317500</td>\n",
       "    </tr>\n",
       "    <tr>\n",
       "      <th>max</th>\n",
       "      <td>2020-02-01 00:00:00</td>\n",
       "      <td>2020-01-01 00:00:00</td>\n",
       "      <td>118.750000</td>\n",
       "      <td>9221.380000</td>\n",
       "    </tr>\n",
       "    <tr>\n",
       "      <th>std</th>\n",
       "      <td>NaN</td>\n",
       "      <td>NaN</td>\n",
       "      <td>30.090047</td>\n",
       "      <td>2112.736199</td>\n",
       "    </tr>\n",
       "  </tbody>\n",
       "</table>\n",
       "</div>"
      ],
      "text/plain": [
       "                          begin_date                       end_date  \\\n",
       "count                           7043                           1101   \n",
       "mean   2017-04-30 13:01:50.918642688  2018-03-12 18:21:15.204359680   \n",
       "min              2013-10-01 00:00:00            2014-06-01 00:00:00   \n",
       "25%              2015-06-01 00:00:00            2017-05-01 00:00:00   \n",
       "50%              2017-09-01 00:00:00            2018-06-01 00:00:00   \n",
       "75%              2019-04-01 00:00:00            2019-04-01 00:00:00   \n",
       "max              2020-02-01 00:00:00            2020-01-01 00:00:00   \n",
       "std                              NaN                            NaN   \n",
       "\n",
       "       monthly_charges  total_charges  \n",
       "count      7043.000000    7032.000000  \n",
       "mean         64.761692    2118.621822  \n",
       "min          18.250000      19.050000  \n",
       "25%          35.500000     439.745000  \n",
       "50%          70.350000    1345.275000  \n",
       "75%          89.850000    3239.317500  \n",
       "max         118.750000    9221.380000  \n",
       "std          30.090047    2112.736199  "
      ]
     },
     "execution_count": 8,
     "metadata": {},
     "output_type": "execute_result"
    }
   ],
   "source": [
    "contract_data.describe()"
   ]
  },
  {
   "cell_type": "markdown",
   "id": "36c008b1-2a4c-4a29-9fca-bdb315e83c0b",
   "metadata": {},
   "source": [
    "Для лучшей наглядности построим графики по годам"
   ]
  },
  {
   "cell_type": "code",
   "execution_count": 9,
   "id": "da58ba25-759b-46d3-a59f-6cadc4fc10cd",
   "metadata": {},
   "outputs": [
    {
     "data": {
      "text/html": [
       "<div>\n",
       "<style scoped>\n",
       "    .dataframe tbody tr th:only-of-type {\n",
       "        vertical-align: middle;\n",
       "    }\n",
       "\n",
       "    .dataframe tbody tr th {\n",
       "        vertical-align: top;\n",
       "    }\n",
       "\n",
       "    .dataframe thead th {\n",
       "        text-align: right;\n",
       "    }\n",
       "</style>\n",
       "<table border=\"1\" class=\"dataframe\">\n",
       "  <thead>\n",
       "    <tr style=\"text-align: right;\">\n",
       "      <th></th>\n",
       "      <th>begin</th>\n",
       "      <th>end</th>\n",
       "      <th>increase</th>\n",
       "      <th>current_total</th>\n",
       "    </tr>\n",
       "  </thead>\n",
       "  <tbody>\n",
       "    <tr>\n",
       "      <th>2013.0</th>\n",
       "      <td>8</td>\n",
       "      <td>NaN</td>\n",
       "      <td>NaN</td>\n",
       "      <td>NaN</td>\n",
       "    </tr>\n",
       "    <tr>\n",
       "      <th>2014.0</th>\n",
       "      <td>1344</td>\n",
       "      <td>7.0</td>\n",
       "      <td>1337.0</td>\n",
       "      <td>1337.0</td>\n",
       "    </tr>\n",
       "    <tr>\n",
       "      <th>2015.0</th>\n",
       "      <td>852</td>\n",
       "      <td>62.0</td>\n",
       "      <td>790.0</td>\n",
       "      <td>2127.0</td>\n",
       "    </tr>\n",
       "    <tr>\n",
       "      <th>2016.0</th>\n",
       "      <td>763</td>\n",
       "      <td>140.0</td>\n",
       "      <td>623.0</td>\n",
       "      <td>2750.0</td>\n",
       "    </tr>\n",
       "    <tr>\n",
       "      <th>2017.0</th>\n",
       "      <td>845</td>\n",
       "      <td>235.0</td>\n",
       "      <td>610.0</td>\n",
       "      <td>3360.0</td>\n",
       "    </tr>\n",
       "    <tr>\n",
       "      <th>2018.0</th>\n",
       "      <td>1030</td>\n",
       "      <td>285.0</td>\n",
       "      <td>745.0</td>\n",
       "      <td>4105.0</td>\n",
       "    </tr>\n",
       "    <tr>\n",
       "      <th>2019.0</th>\n",
       "      <td>1957</td>\n",
       "      <td>333.0</td>\n",
       "      <td>1624.0</td>\n",
       "      <td>5729.0</td>\n",
       "    </tr>\n",
       "    <tr>\n",
       "      <th>2020.0</th>\n",
       "      <td>244</td>\n",
       "      <td>39.0</td>\n",
       "      <td>205.0</td>\n",
       "      <td>5934.0</td>\n",
       "    </tr>\n",
       "  </tbody>\n",
       "</table>\n",
       "</div>"
      ],
      "text/plain": [
       "        begin    end  increase  current_total\n",
       "2013.0      8    NaN       NaN            NaN\n",
       "2014.0   1344    7.0    1337.0         1337.0\n",
       "2015.0    852   62.0     790.0         2127.0\n",
       "2016.0    763  140.0     623.0         2750.0\n",
       "2017.0    845  235.0     610.0         3360.0\n",
       "2018.0   1030  285.0     745.0         4105.0\n",
       "2019.0   1957  333.0    1624.0         5729.0\n",
       "2020.0    244   39.0     205.0         5934.0"
      ]
     },
     "metadata": {},
     "output_type": "display_data"
    },
    {
     "data": {
      "image/png": "[encoded data removed]",
      "text/plain": [
       "<Figure size 640x480 with 1 Axes>"
      ]
     },
     "metadata": {},
     "output_type": "display_data"
    },
    {
     "name": "stdout",
     "output_type": "stream",
     "text": [
      "Количество новых клиентов, пришедших в 2019 году на 118.0% больше, чем в 2018 году\n",
      "\n"
     ]
    },
    {
     "data": {
      "image/png": "[encoded data removed]",
      "text/plain": [
       "<Figure size 640x480 with 1 Axes>"
      ]
     },
     "metadata": {},
     "output_type": "display_data"
    },
    {
     "data": {
      "image/png": "[encoded data removed]",
      "text/plain": [
       "<Figure size 640x480 with 1 Axes>"
      ]
     },
     "metadata": {},
     "output_type": "display_data"
    }
   ],
   "source": [
    "hist1 = contract_data['begin_date'].dt.year.value_counts()\n",
    "hist2 = contract_data['end_date'].dt.year.value_counts()\n",
    "\n",
    "data_by_year = pd.DataFrame({'begin':hist1,\n",
    "                            'end':hist2})\n",
    "\n",
    "data_by_year['increase'] = data_by_year['begin'] - data_by_year['end']\n",
    "data_by_year['current_total'] = data_by_year['increase'].cumsum()\n",
    "display(data_by_year)\n",
    "\n",
    "data_by_year['begin'].sort_index().plot(\n",
    "    kind='bar',\n",
    "    title='Количество новых клиентов по годам'\n",
    ")\n",
    "plt.show()\n",
    "\n",
    "print('Количество новых клиентов, пришедших в 2019 году на {:.1%} больше, чем в 2018 году'.format(\n",
    "    (data_by_year.loc[2019, 'increase'] - data_by_year.loc[2018, 'increase']) / \\\n",
    "      data_by_year.loc[2018, 'increase']))\n",
    "print()\n",
    "\n",
    "data_by_year['end'].sort_index().plot(\n",
    "    kind='bar',\n",
    "    title='Количество ушедших клиентов по годам'\n",
    ")\n",
    "plt.show()\n",
    "\n",
    "data_by_year['current_total'].sort_index().plot(\n",
    "    kind='bar',\n",
    "    title='Клиентская база по годам'\n",
    ")\n",
    "plt.show()"
   ]
  },
  {
   "cell_type": "markdown",
   "id": "7196de2d-dd54-4fbb-afef-ad2cc1aceec7",
   "metadata": {},
   "source": [
    "<div class=\"alert alert-info\">\n",
    "<b>Промежуточный вывод</b>\n",
    "\n",
    "Начиная с 2013 года клиентская база растет. Количество приходящих клиентов в год до 2016 года плавно снижалось, но в 2019 году был рост в 118% по сравнению с предыдущим годом. Количество уходящих клиентов тоже растет с ростом клиентской базы."
   ]
  },
  {
   "cell_type": "markdown",
   "id": "11237c94-e280-4b37-aeb2-98d35cab84c3",
   "metadata": {},
   "source": [
    "Categorical features"
   ]
  },
  {
   "cell_type": "code",
   "execution_count": 10,
   "id": "32431c02-6a8b-41dd-b782-6591841a2bfb",
   "metadata": {},
   "outputs": [
    {
     "name": "stdout",
     "output_type": "stream",
     "text": [
      "Cat features:\n",
      "['type', 'paperless_billing', 'payment_method']\n",
      "\n",
      "Summary for categirucal columns:\n",
      "+-------------------+------------------------------------------+\n",
      "|    Column name    |                  Values                  |\n",
      "+-------------------+------------------------------------------+\n",
      "|        type       |   ['Month-to-month', 'One year', 'Two    |\n",
      "|                   |                  year']                  |\n",
      "+-------------------+------------------------------------------+\n",
      "| paperless_billing |              ['Yes', 'No']               |\n",
      "+-------------------+------------------------------------------+\n",
      "|   payment_method  |   ['Electronic check', 'Mailed check',   |\n",
      "|                   |   'Bank transfer (automatic)', 'Credit   |\n",
      "|                   |            card (automatic)']            |\n",
      "+-------------------+------------------------------------------+\n",
      "\n",
      "Column name: type\n",
      "+----------------+---------------+\n",
      "|     Value      | Proportion, % |\n",
      "+----------------+---------------+\n",
      "| Month-to-month |      55.0     |\n",
      "|    Two year    |      24.0     |\n",
      "|    One year    |      21.0     |\n",
      "+----------------+---------------+\n",
      "\n",
      "Column name: paperless_billing\n",
      "+-------+---------------+\n",
      "| Value | Proportion, % |\n",
      "+-------+---------------+\n",
      "|  Yes  |      59.0     |\n",
      "|   No  |      41.0     |\n",
      "+-------+---------------+\n",
      "\n",
      "Column name: payment_method\n",
      "+---------------------------+---------------+\n",
      "|           Value           | Proportion, % |\n",
      "+---------------------------+---------------+\n",
      "|      Electronic check     |      34.0     |\n",
      "|        Mailed check       |      23.0     |\n",
      "| Bank transfer (automatic) |      22.0     |\n",
      "|  Credit card (automatic)  |      22.0     |\n",
      "+---------------------------+---------------+\n",
      "\n"
     ]
    }
   ],
   "source": [
    "def summary_cat(data):\n",
    "    cat_features = data.select_dtypes(include='object').columns.tolist()\n",
    "    try:\n",
    "        cat_features.remove('customer_id')\n",
    "    except:\n",
    "        pass\n",
    "    print(f'Cat features:\\n{cat_features}\\n')\n",
    "    \n",
    "    summary = PrettyTable()\n",
    "    summary.field_names = ['Column name', 'Values']\n",
    "    for col in cat_features:\n",
    "        uniq_in_col = data[col].unique().tolist()\n",
    "        summary.add_row([col, uniq_in_col], divider=True)\n",
    "    summary.max_width['Values'] = 40\n",
    "    print(f'Summary for categirucal columns:')\n",
    "    print(summary)\n",
    "    print()\n",
    "\n",
    "    for col in cat_features:\n",
    "        uniq_count = round(data[col].value_counts(dropna=False, normalize=True) * 100)\n",
    "        x = PrettyTable()\n",
    "        x.field_names = ['Value', 'Proportion, %']\n",
    "        \n",
    "        for index, value in uniq_count.items():\n",
    "            x.add_row([index, value])\n",
    "        print(f'Column name: {col}')\n",
    "        print(x)\n",
    "        print()\n",
    "    return\n",
    "\n",
    "summary_cat(contract_data)"
   ]
  },
  {
   "cell_type": "markdown",
   "id": "6f752975-802a-4f7c-8127-ac47afffaef3",
   "metadata": {},
   "source": [
    "<div class=\"alert alert-info\">\n",
    "<b>Промежуточный вывод</b>\n",
    "\n",
    "Большинство клиентов пользуются помесячной оплатой услуг  \n",
    "Большинство клиентов используют электронные документы на оплату"
   ]
  },
  {
   "cell_type": "code",
   "execution_count": 11,
   "id": "27d94e6b-0e23-40bd-9b01-c7ed5a7c17c5",
   "metadata": {},
   "outputs": [
    {
     "data": {
      "image/png": "[encoded data removed]",
      "text/plain": [
       "<Figure size 640x480 with 1 Axes>"
      ]
     },
     "metadata": {},
     "output_type": "display_data"
    },
    {
     "name": "stdout",
     "output_type": "stream",
     "text": [
      "Доля клиентов с платежами до 30$: 23.5%, средний платеж: 21.5$\n",
      "Остальные платят в среднем 78.0$\n",
      "\n"
     ]
    },
    {
     "data": {
      "image/png": "[encoded data removed]",
      "text/plain": [
       "<Figure size 640x480 with 1 Axes>"
      ]
     },
     "metadata": {},
     "output_type": "display_data"
    }
   ],
   "source": [
    "contract_data['monthly_charges'].hist(bins=25)\n",
    "plt.title('Monthly charges')\n",
    "plt.show()\n",
    "\n",
    "lower_30 = len(contract_data[contract_data['monthly_charges'] < 30]) / len(contract_data)\n",
    "lower_30_mean = contract_data[contract_data['monthly_charges'] < 30]['monthly_charges'].mean()\n",
    "print(f'Доля клиентов с платежами до 30$: {lower_30:.1%}, средний платеж: {lower_30_mean:.1f}$')\n",
    "\n",
    "higher_30_mean = contract_data[contract_data['monthly_charges'] > 30]['monthly_charges'].mean()\n",
    "print(f'Остальные платят в среднем {higher_30_mean:.1f}$')\n",
    "print()\n",
    "\n",
    "contract_data['total_charges'].hist()\n",
    "plt.title('Total charges')\n",
    "plt.show()"
   ]
  },
  {
   "cell_type": "markdown",
   "id": "61bf1125-09d0-4cd2-97b4-f09cf0191c69",
   "metadata": {},
   "source": [
    "<div class=\"alert alert-info\">\n",
    "<b>Промежуточный вывод</b>\n",
    "\n",
    "Клиентов можно условно разбить на 2 категории: с платежами до 30\\\\$, и с платежами выше 30\\\\$. Первая группа составляет 23.5% выборки со средним платежом 21.5\\\\$. У второй группы средний платеж составляет 78\\\\$"
   ]
  },
  {
   "cell_type": "markdown",
   "id": "103499a1-dc03-4e4c-9e56-758f0929a248",
   "metadata": {},
   "source": [
    "### Personal data"
   ]
  },
  {
   "cell_type": "code",
   "execution_count": 12,
   "id": "c6712db9-5c2e-4d61-a716-09b0a64b9cd5",
   "metadata": {},
   "outputs": [
    {
     "data": {
      "text/plain": [
       "Index(['customerID', 'gender', 'SeniorCitizen', 'Partner', 'Dependents'], dtype='object')"
      ]
     },
     "execution_count": 12,
     "metadata": {},
     "output_type": "execute_result"
    }
   ],
   "source": [
    "personal_data = pd.read_csv('C:/Users/anton/OneDrive/data_science/practicum_projects/datasets/personal_new.csv')\n",
    "personal_data.columns"
   ]
  },
  {
   "cell_type": "code",
   "execution_count": 13,
   "id": "2e6a9f43-426c-44b1-8a42-e10a8414a02d",
   "metadata": {},
   "outputs": [],
   "source": [
    "personal_data.rename(columns={'customerID':'customer_id',\n",
    "                     'SeniorCitizen':'senior_citizen',\n",
    "                     'Partner':'partner',\n",
    "                     'Dependents':'dependents'},\n",
    "                    inplace=True)"
   ]
  },
  {
   "cell_type": "code",
   "execution_count": 14,
   "id": "c4f2dec6-f991-415a-838a-c1dd83fb1105",
   "metadata": {},
   "outputs": [
    {
     "data": {
      "text/html": [
       "<div>\n",
       "<style scoped>\n",
       "    .dataframe tbody tr th:only-of-type {\n",
       "        vertical-align: middle;\n",
       "    }\n",
       "\n",
       "    .dataframe tbody tr th {\n",
       "        vertical-align: top;\n",
       "    }\n",
       "\n",
       "    .dataframe thead th {\n",
       "        text-align: right;\n",
       "    }\n",
       "</style>\n",
       "<table border=\"1\" class=\"dataframe\">\n",
       "  <thead>\n",
       "    <tr style=\"text-align: right;\">\n",
       "      <th></th>\n",
       "      <th>customer_id</th>\n",
       "      <th>gender</th>\n",
       "      <th>senior_citizen</th>\n",
       "      <th>partner</th>\n",
       "      <th>dependents</th>\n",
       "    </tr>\n",
       "  </thead>\n",
       "  <tbody>\n",
       "    <tr>\n",
       "      <th>0</th>\n",
       "      <td>7590-VHVEG</td>\n",
       "      <td>Female</td>\n",
       "      <td>0</td>\n",
       "      <td>Yes</td>\n",
       "      <td>No</td>\n",
       "    </tr>\n",
       "    <tr>\n",
       "      <th>1</th>\n",
       "      <td>5575-GNVDE</td>\n",
       "      <td>Male</td>\n",
       "      <td>0</td>\n",
       "      <td>No</td>\n",
       "      <td>No</td>\n",
       "    </tr>\n",
       "    <tr>\n",
       "      <th>2</th>\n",
       "      <td>3668-QPYBK</td>\n",
       "      <td>Male</td>\n",
       "      <td>0</td>\n",
       "      <td>No</td>\n",
       "      <td>No</td>\n",
       "    </tr>\n",
       "    <tr>\n",
       "      <th>3</th>\n",
       "      <td>7795-CFOCW</td>\n",
       "      <td>Male</td>\n",
       "      <td>0</td>\n",
       "      <td>No</td>\n",
       "      <td>No</td>\n",
       "    </tr>\n",
       "    <tr>\n",
       "      <th>4</th>\n",
       "      <td>9237-HQITU</td>\n",
       "      <td>Female</td>\n",
       "      <td>0</td>\n",
       "      <td>No</td>\n",
       "      <td>No</td>\n",
       "    </tr>\n",
       "  </tbody>\n",
       "</table>\n",
       "</div>"
      ],
      "text/plain": [
       "  customer_id  gender  senior_citizen partner dependents\n",
       "0  7590-VHVEG  Female               0     Yes         No\n",
       "1  5575-GNVDE    Male               0      No         No\n",
       "2  3668-QPYBK    Male               0      No         No\n",
       "3  7795-CFOCW    Male               0      No         No\n",
       "4  9237-HQITU  Female               0      No         No"
      ]
     },
     "execution_count": 14,
     "metadata": {},
     "output_type": "execute_result"
    }
   ],
   "source": [
    "personal_data.head()"
   ]
  },
  {
   "cell_type": "code",
   "execution_count": 15,
   "id": "a082d9d0-4945-464a-affc-8781bafab354",
   "metadata": {},
   "outputs": [
    {
     "name": "stdout",
     "output_type": "stream",
     "text": [
      "<class 'pandas.core.frame.DataFrame'>\n",
      "RangeIndex: 7043 entries, 0 to 7042\n",
      "Data columns (total 5 columns):\n",
      " #   Column          Non-Null Count  Dtype \n",
      "---  ------          --------------  ----- \n",
      " 0   customer_id     7043 non-null   object\n",
      " 1   gender          7043 non-null   object\n",
      " 2   senior_citizen  7043 non-null   int64 \n",
      " 3   partner         7043 non-null   object\n",
      " 4   dependents      7043 non-null   object\n",
      "dtypes: int64(1), object(4)\n",
      "memory usage: 275.2+ KB\n"
     ]
    }
   ],
   "source": [
    "personal_data.info()"
   ]
  },
  {
   "cell_type": "code",
   "execution_count": 16,
   "id": "0c6fe545-7474-43e9-bcf2-9dde363bec25",
   "metadata": {},
   "outputs": [],
   "source": [
    "# Изменение типов данных\n",
    "personal_data['senior_citizen'] = personal_data['senior_citizen'].astype('str')"
   ]
  },
  {
   "cell_type": "code",
   "execution_count": 17,
   "id": "29bb4a05-da95-4b73-97c2-08e6ad1c4304",
   "metadata": {},
   "outputs": [
    {
     "name": "stdout",
     "output_type": "stream",
     "text": [
      "Cat features:\n",
      "['gender', 'senior_citizen', 'partner', 'dependents']\n",
      "\n",
      "Summary for categirucal columns:\n",
      "+----------------+--------------------+\n",
      "|  Column name   |       Values       |\n",
      "+----------------+--------------------+\n",
      "|     gender     | ['Female', 'Male'] |\n",
      "+----------------+--------------------+\n",
      "| senior_citizen |     ['0', '1']     |\n",
      "+----------------+--------------------+\n",
      "|    partner     |   ['Yes', 'No']    |\n",
      "+----------------+--------------------+\n",
      "|   dependents   |   ['No', 'Yes']    |\n",
      "+----------------+--------------------+\n",
      "\n",
      "Column name: gender\n",
      "+--------+---------------+\n",
      "| Value  | Proportion, % |\n",
      "+--------+---------------+\n",
      "|  Male  |      50.0     |\n",
      "| Female |      50.0     |\n",
      "+--------+---------------+\n",
      "\n",
      "Column name: senior_citizen\n",
      "+-------+---------------+\n",
      "| Value | Proportion, % |\n",
      "+-------+---------------+\n",
      "|   0   |      84.0     |\n",
      "|   1   |      16.0     |\n",
      "+-------+---------------+\n",
      "\n",
      "Column name: partner\n",
      "+-------+---------------+\n",
      "| Value | Proportion, % |\n",
      "+-------+---------------+\n",
      "|   No  |      52.0     |\n",
      "|  Yes  |      48.0     |\n",
      "+-------+---------------+\n",
      "\n",
      "Column name: dependents\n",
      "+-------+---------------+\n",
      "| Value | Proportion, % |\n",
      "+-------+---------------+\n",
      "|   No  |      70.0     |\n",
      "|  Yes  |      30.0     |\n",
      "+-------+---------------+\n",
      "\n"
     ]
    }
   ],
   "source": [
    "summary_cat(personal_data)"
   ]
  },
  {
   "cell_type": "markdown",
   "id": "116b913a-38c5-47e2-b579-e6f36a49ea3b",
   "metadata": {},
   "source": [
    "<div class=\"alert alert-info\">\n",
    "<b>Промежуточный вывод</b>\n",
    "\n",
    "Оба пола присутствуют в выборке почти поровну  \n",
    "Людей пенсионного возраста около 16%  \n",
    "Количество замужних и нет тоже примерно поровну  \n",
    "Клиентов с детьми около 30%"
   ]
  },
  {
   "cell_type": "markdown",
   "id": "eb82d115-aff0-48b6-824e-f8575ec79b24",
   "metadata": {},
   "source": [
    "### Internet data"
   ]
  },
  {
   "cell_type": "code",
   "execution_count": 18,
   "id": "2fddefb5-4696-4ec4-9a26-ede0a0494557",
   "metadata": {},
   "outputs": [
    {
     "data": {
      "text/plain": [
       "Index(['customerID', 'InternetService', 'OnlineSecurity', 'OnlineBackup',\n",
       "       'DeviceProtection', 'TechSupport', 'StreamingTV', 'StreamingMovies'],\n",
       "      dtype='object')"
      ]
     },
     "execution_count": 18,
     "metadata": {},
     "output_type": "execute_result"
    }
   ],
   "source": [
    "internet_data = pd.read_csv('C:/Users/anton/OneDrive/data_science/practicum_projects/datasets/internet_new.csv')\n",
    "internet_data.columns"
   ]
  },
  {
   "cell_type": "code",
   "execution_count": 19,
   "id": "b183cddd-e858-4070-8d55-bc6890459b53",
   "metadata": {},
   "outputs": [],
   "source": [
    "internet_data.rename(columns={'customerID':'customer_id',\n",
    "                              'InternetService':'internet_service',\n",
    "                              'OnlineSecurity':'online_security',\n",
    "                              'OnlineBackup':'online_backup',\n",
    "                              'DeviceProtection':'device_protection',\n",
    "                              'TechSupport':'tech_support',\n",
    "                              'StreamingTV':'streaming_tv',\n",
    "                              'StreamingMovies':'streaming_movies'},\n",
    "                    inplace=True)"
   ]
  },
  {
   "cell_type": "code",
   "execution_count": 20,
   "id": "f314c995-d507-4932-b66c-8cf938fd34b8",
   "metadata": {},
   "outputs": [
    {
     "data": {
      "text/html": [
       "<div>\n",
       "<style scoped>\n",
       "    .dataframe tbody tr th:only-of-type {\n",
       "        vertical-align: middle;\n",
       "    }\n",
       "\n",
       "    .dataframe tbody tr th {\n",
       "        vertical-align: top;\n",
       "    }\n",
       "\n",
       "    .dataframe thead th {\n",
       "        text-align: right;\n",
       "    }\n",
       "</style>\n",
       "<table border=\"1\" class=\"dataframe\">\n",
       "  <thead>\n",
       "    <tr style=\"text-align: right;\">\n",
       "      <th></th>\n",
       "      <th>customer_id</th>\n",
       "      <th>internet_service</th>\n",
       "      <th>online_security</th>\n",
       "      <th>online_backup</th>\n",
       "      <th>device_protection</th>\n",
       "      <th>tech_support</th>\n",
       "      <th>streaming_tv</th>\n",
       "      <th>streaming_movies</th>\n",
       "    </tr>\n",
       "  </thead>\n",
       "  <tbody>\n",
       "    <tr>\n",
       "      <th>0</th>\n",
       "      <td>7590-VHVEG</td>\n",
       "      <td>DSL</td>\n",
       "      <td>No</td>\n",
       "      <td>Yes</td>\n",
       "      <td>No</td>\n",
       "      <td>No</td>\n",
       "      <td>No</td>\n",
       "      <td>No</td>\n",
       "    </tr>\n",
       "    <tr>\n",
       "      <th>1</th>\n",
       "      <td>5575-GNVDE</td>\n",
       "      <td>DSL</td>\n",
       "      <td>Yes</td>\n",
       "      <td>No</td>\n",
       "      <td>Yes</td>\n",
       "      <td>No</td>\n",
       "      <td>No</td>\n",
       "      <td>No</td>\n",
       "    </tr>\n",
       "    <tr>\n",
       "      <th>2</th>\n",
       "      <td>3668-QPYBK</td>\n",
       "      <td>DSL</td>\n",
       "      <td>Yes</td>\n",
       "      <td>Yes</td>\n",
       "      <td>No</td>\n",
       "      <td>No</td>\n",
       "      <td>No</td>\n",
       "      <td>No</td>\n",
       "    </tr>\n",
       "    <tr>\n",
       "      <th>3</th>\n",
       "      <td>7795-CFOCW</td>\n",
       "      <td>DSL</td>\n",
       "      <td>Yes</td>\n",
       "      <td>No</td>\n",
       "      <td>Yes</td>\n",
       "      <td>Yes</td>\n",
       "      <td>No</td>\n",
       "      <td>No</td>\n",
       "    </tr>\n",
       "    <tr>\n",
       "      <th>4</th>\n",
       "      <td>9237-HQITU</td>\n",
       "      <td>Fiber optic</td>\n",
       "      <td>No</td>\n",
       "      <td>No</td>\n",
       "      <td>No</td>\n",
       "      <td>No</td>\n",
       "      <td>No</td>\n",
       "      <td>No</td>\n",
       "    </tr>\n",
       "  </tbody>\n",
       "</table>\n",
       "</div>"
      ],
      "text/plain": [
       "  customer_id internet_service online_security online_backup  \\\n",
       "0  7590-VHVEG              DSL              No           Yes   \n",
       "1  5575-GNVDE              DSL             Yes            No   \n",
       "2  3668-QPYBK              DSL             Yes           Yes   \n",
       "3  7795-CFOCW              DSL             Yes            No   \n",
       "4  9237-HQITU      Fiber optic              No            No   \n",
       "\n",
       "  device_protection tech_support streaming_tv streaming_movies  \n",
       "0                No           No           No               No  \n",
       "1               Yes           No           No               No  \n",
       "2                No           No           No               No  \n",
       "3               Yes          Yes           No               No  \n",
       "4                No           No           No               No  "
      ]
     },
     "execution_count": 20,
     "metadata": {},
     "output_type": "execute_result"
    }
   ],
   "source": [
    "internet_data.head()"
   ]
  },
  {
   "cell_type": "code",
   "execution_count": 21,
   "id": "ff64c49a-f2c9-405c-9089-055e7da9b266",
   "metadata": {},
   "outputs": [
    {
     "name": "stdout",
     "output_type": "stream",
     "text": [
      "Cat features:\n",
      "['internet_service', 'online_security', 'online_backup', 'device_protection', 'tech_support', 'streaming_tv', 'streaming_movies']\n",
      "\n",
      "Summary for categirucal columns:\n",
      "+-------------------+------------------------+\n",
      "|    Column name    |         Values         |\n",
      "+-------------------+------------------------+\n",
      "|  internet_service | ['DSL', 'Fiber optic'] |\n",
      "+-------------------+------------------------+\n",
      "|  online_security  |     ['No', 'Yes']      |\n",
      "+-------------------+------------------------+\n",
      "|   online_backup   |     ['Yes', 'No']      |\n",
      "+-------------------+------------------------+\n",
      "| device_protection |     ['No', 'Yes']      |\n",
      "+-------------------+------------------------+\n",
      "|    tech_support   |     ['No', 'Yes']      |\n",
      "+-------------------+------------------------+\n",
      "|    streaming_tv   |     ['No', 'Yes']      |\n",
      "+-------------------+------------------------+\n",
      "|  streaming_movies |     ['No', 'Yes']      |\n",
      "+-------------------+------------------------+\n",
      "\n",
      "Column name: internet_service\n",
      "+-------------+---------------+\n",
      "|    Value    | Proportion, % |\n",
      "+-------------+---------------+\n",
      "| Fiber optic |      56.0     |\n",
      "|     DSL     |      44.0     |\n",
      "+-------------+---------------+\n",
      "\n",
      "Column name: online_security\n",
      "+-------+---------------+\n",
      "| Value | Proportion, % |\n",
      "+-------+---------------+\n",
      "|   No  |      63.0     |\n",
      "|  Yes  |      37.0     |\n",
      "+-------+---------------+\n",
      "\n",
      "Column name: online_backup\n",
      "+-------+---------------+\n",
      "| Value | Proportion, % |\n",
      "+-------+---------------+\n",
      "|   No  |      56.0     |\n",
      "|  Yes  |      44.0     |\n",
      "+-------+---------------+\n",
      "\n",
      "Column name: device_protection\n",
      "+-------+---------------+\n",
      "| Value | Proportion, % |\n",
      "+-------+---------------+\n",
      "|   No  |      56.0     |\n",
      "|  Yes  |      44.0     |\n",
      "+-------+---------------+\n",
      "\n",
      "Column name: tech_support\n",
      "+-------+---------------+\n",
      "| Value | Proportion, % |\n",
      "+-------+---------------+\n",
      "|   No  |      63.0     |\n",
      "|  Yes  |      37.0     |\n",
      "+-------+---------------+\n",
      "\n",
      "Column name: streaming_tv\n",
      "+-------+---------------+\n",
      "| Value | Proportion, % |\n",
      "+-------+---------------+\n",
      "|   No  |      51.0     |\n",
      "|  Yes  |      49.0     |\n",
      "+-------+---------------+\n",
      "\n",
      "Column name: streaming_movies\n",
      "+-------+---------------+\n",
      "| Value | Proportion, % |\n",
      "+-------+---------------+\n",
      "|   No  |      50.0     |\n",
      "|  Yes  |      50.0     |\n",
      "+-------+---------------+\n",
      "\n"
     ]
    }
   ],
   "source": [
    "summary_cat(internet_data)"
   ]
  },
  {
   "cell_type": "markdown",
   "id": "396125d9-a494-4b2f-90dd-8dc80b0fd53d",
   "metadata": {},
   "source": [
    "<div class=\"alert alert-info\">\n",
    "<b>Промежуточный вывод</b>\n",
    "\n",
    "Большинство имеет интернет по оптике  \n",
    "Самые популярные сервисы - стриминговые услуги. Остальные - менее популярны."
   ]
  },
  {
   "cell_type": "markdown",
   "id": "b34fd289-2883-4b19-958e-0c20a8b8d945",
   "metadata": {},
   "source": [
    "### Phone data"
   ]
  },
  {
   "cell_type": "code",
   "execution_count": 22,
   "id": "6fe12a0d-f8c6-4f17-b465-a7ffbff0c984",
   "metadata": {},
   "outputs": [
    {
     "data": {
      "text/plain": [
       "Index(['customerID', 'MultipleLines'], dtype='object')"
      ]
     },
     "execution_count": 22,
     "metadata": {},
     "output_type": "execute_result"
    }
   ],
   "source": [
    "phone_data = pd.read_csv('C:/Users/anton/OneDrive/data_science/practicum_projects/datasets/phone_new.csv')\n",
    "phone_data.columns"
   ]
  },
  {
   "cell_type": "code",
   "execution_count": 23,
   "id": "3906595e-0a3f-43ea-a17f-c09bc081f44d",
   "metadata": {},
   "outputs": [],
   "source": [
    "phone_data.rename(columns={'customerID':'customer_id',\n",
    "                          'MultipleLines':'multiple_lines'},\n",
    "                 inplace=True)"
   ]
  },
  {
   "cell_type": "code",
   "execution_count": 24,
   "id": "915cf5e0-b814-4fcc-86e7-9d65208491e8",
   "metadata": {},
   "outputs": [
    {
     "data": {
      "text/html": [
       "<div>\n",
       "<style scoped>\n",
       "    .dataframe tbody tr th:only-of-type {\n",
       "        vertical-align: middle;\n",
       "    }\n",
       "\n",
       "    .dataframe tbody tr th {\n",
       "        vertical-align: top;\n",
       "    }\n",
       "\n",
       "    .dataframe thead th {\n",
       "        text-align: right;\n",
       "    }\n",
       "</style>\n",
       "<table border=\"1\" class=\"dataframe\">\n",
       "  <thead>\n",
       "    <tr style=\"text-align: right;\">\n",
       "      <th></th>\n",
       "      <th>customer_id</th>\n",
       "      <th>multiple_lines</th>\n",
       "    </tr>\n",
       "  </thead>\n",
       "  <tbody>\n",
       "    <tr>\n",
       "      <th>0</th>\n",
       "      <td>5575-GNVDE</td>\n",
       "      <td>No</td>\n",
       "    </tr>\n",
       "    <tr>\n",
       "      <th>1</th>\n",
       "      <td>3668-QPYBK</td>\n",
       "      <td>No</td>\n",
       "    </tr>\n",
       "    <tr>\n",
       "      <th>2</th>\n",
       "      <td>9237-HQITU</td>\n",
       "      <td>No</td>\n",
       "    </tr>\n",
       "    <tr>\n",
       "      <th>3</th>\n",
       "      <td>9305-CDSKC</td>\n",
       "      <td>Yes</td>\n",
       "    </tr>\n",
       "    <tr>\n",
       "      <th>4</th>\n",
       "      <td>1452-KIOVK</td>\n",
       "      <td>Yes</td>\n",
       "    </tr>\n",
       "  </tbody>\n",
       "</table>\n",
       "</div>"
      ],
      "text/plain": [
       "  customer_id multiple_lines\n",
       "0  5575-GNVDE             No\n",
       "1  3668-QPYBK             No\n",
       "2  9237-HQITU             No\n",
       "3  9305-CDSKC            Yes\n",
       "4  1452-KIOVK            Yes"
      ]
     },
     "execution_count": 24,
     "metadata": {},
     "output_type": "execute_result"
    }
   ],
   "source": [
    "phone_data.head()"
   ]
  },
  {
   "cell_type": "code",
   "execution_count": 25,
   "id": "552f9869-8a39-454d-b4e3-7d29ab0803f5",
   "metadata": {},
   "outputs": [
    {
     "name": "stdout",
     "output_type": "stream",
     "text": [
      "Cat features:\n",
      "['multiple_lines']\n",
      "\n",
      "Summary for categirucal columns:\n",
      "+----------------+---------------+\n",
      "|  Column name   |     Values    |\n",
      "+----------------+---------------+\n",
      "| multiple_lines | ['No', 'Yes'] |\n",
      "+----------------+---------------+\n",
      "\n",
      "Column name: multiple_lines\n",
      "+-------+---------------+\n",
      "| Value | Proportion, % |\n",
      "+-------+---------------+\n",
      "|   No  |      53.0     |\n",
      "|  Yes  |      47.0     |\n",
      "+-------+---------------+\n",
      "\n"
     ]
    }
   ],
   "source": [
    "summary_cat(phone_data)"
   ]
  },
  {
   "cell_type": "markdown",
   "id": "c3349abc-9862-4370-87b6-e9257786c92c",
   "metadata": {},
   "source": [
    "<div class=\"alert alert-info\">\n",
    "<b>Промежуточный вывод</b>\n",
    "\n",
    "Почти половина клиентов имеют телефон с несколькими линиями"
   ]
  },
  {
   "cell_type": "markdown",
   "id": "25f4baac-07b6-4602-867a-bb05ab211c3a",
   "metadata": {},
   "source": [
    "### Merge"
   ]
  },
  {
   "cell_type": "code",
   "execution_count": 26,
   "id": "d686dc72-37bd-44ca-af50-ac00bef749fc",
   "metadata": {},
   "outputs": [
    {
     "name": "stdout",
     "output_type": "stream",
     "text": [
      "7043 7043 5517 6361\n"
     ]
    }
   ],
   "source": [
    "print(len(contract_data), len(personal_data), len(internet_data), len(phone_data))"
   ]
  },
  {
   "cell_type": "markdown",
   "id": "28611b5c-e877-4579-a841-8e00e3ed7b8c",
   "metadata": {},
   "source": [
    "<div class=\"alert alert-info\">\n",
    "<b>Промежуточный вывод</b>\n",
    "\n",
    "Учитывая, что дубликатов customer_id в датасетах нет, то присоединять будем все таблицы к contract_data \"левым\" способом по customer_id"
   ]
  },
  {
   "cell_type": "code",
   "execution_count": 27,
   "id": "51e310fc-172c-4b5d-a916-222887211edf",
   "metadata": {},
   "outputs": [
    {
     "data": {
      "text/html": [
       "<div>\n",
       "<style scoped>\n",
       "    .dataframe tbody tr th:only-of-type {\n",
       "        vertical-align: middle;\n",
       "    }\n",
       "\n",
       "    .dataframe tbody tr th {\n",
       "        vertical-align: top;\n",
       "    }\n",
       "\n",
       "    .dataframe thead th {\n",
       "        text-align: right;\n",
       "    }\n",
       "</style>\n",
       "<table border=\"1\" class=\"dataframe\">\n",
       "  <thead>\n",
       "    <tr style=\"text-align: right;\">\n",
       "      <th></th>\n",
       "      <th>customer_id</th>\n",
       "      <th>begin_date</th>\n",
       "      <th>end_date</th>\n",
       "      <th>type</th>\n",
       "      <th>paperless_billing</th>\n",
       "      <th>payment_method</th>\n",
       "      <th>monthly_charges</th>\n",
       "      <th>total_charges</th>\n",
       "      <th>gender</th>\n",
       "      <th>senior_citizen</th>\n",
       "      <th>partner</th>\n",
       "      <th>dependents</th>\n",
       "      <th>internet_service</th>\n",
       "      <th>online_security</th>\n",
       "      <th>online_backup</th>\n",
       "      <th>device_protection</th>\n",
       "      <th>tech_support</th>\n",
       "      <th>streaming_tv</th>\n",
       "      <th>streaming_movies</th>\n",
       "      <th>multiple_lines</th>\n",
       "    </tr>\n",
       "  </thead>\n",
       "  <tbody>\n",
       "    <tr>\n",
       "      <th>0</th>\n",
       "      <td>7590-VHVEG</td>\n",
       "      <td>2020-01-01</td>\n",
       "      <td>NaT</td>\n",
       "      <td>Month-to-month</td>\n",
       "      <td>Yes</td>\n",
       "      <td>Electronic check</td>\n",
       "      <td>29.85</td>\n",
       "      <td>31.04</td>\n",
       "      <td>Female</td>\n",
       "      <td>0</td>\n",
       "      <td>Yes</td>\n",
       "      <td>No</td>\n",
       "      <td>DSL</td>\n",
       "      <td>No</td>\n",
       "      <td>Yes</td>\n",
       "      <td>No</td>\n",
       "      <td>No</td>\n",
       "      <td>No</td>\n",
       "      <td>No</td>\n",
       "      <td>NaN</td>\n",
       "    </tr>\n",
       "    <tr>\n",
       "      <th>1</th>\n",
       "      <td>5575-GNVDE</td>\n",
       "      <td>2017-04-01</td>\n",
       "      <td>NaT</td>\n",
       "      <td>One year</td>\n",
       "      <td>No</td>\n",
       "      <td>Mailed check</td>\n",
       "      <td>56.95</td>\n",
       "      <td>2071.84</td>\n",
       "      <td>Male</td>\n",
       "      <td>0</td>\n",
       "      <td>No</td>\n",
       "      <td>No</td>\n",
       "      <td>DSL</td>\n",
       "      <td>Yes</td>\n",
       "      <td>No</td>\n",
       "      <td>Yes</td>\n",
       "      <td>No</td>\n",
       "      <td>No</td>\n",
       "      <td>No</td>\n",
       "      <td>No</td>\n",
       "    </tr>\n",
       "    <tr>\n",
       "      <th>2</th>\n",
       "      <td>3668-QPYBK</td>\n",
       "      <td>2019-10-01</td>\n",
       "      <td>NaT</td>\n",
       "      <td>Month-to-month</td>\n",
       "      <td>Yes</td>\n",
       "      <td>Mailed check</td>\n",
       "      <td>53.85</td>\n",
       "      <td>226.17</td>\n",
       "      <td>Male</td>\n",
       "      <td>0</td>\n",
       "      <td>No</td>\n",
       "      <td>No</td>\n",
       "      <td>DSL</td>\n",
       "      <td>Yes</td>\n",
       "      <td>Yes</td>\n",
       "      <td>No</td>\n",
       "      <td>No</td>\n",
       "      <td>No</td>\n",
       "      <td>No</td>\n",
       "      <td>No</td>\n",
       "    </tr>\n",
       "    <tr>\n",
       "      <th>3</th>\n",
       "      <td>7795-CFOCW</td>\n",
       "      <td>2016-05-01</td>\n",
       "      <td>NaT</td>\n",
       "      <td>One year</td>\n",
       "      <td>No</td>\n",
       "      <td>Bank transfer (automatic)</td>\n",
       "      <td>42.30</td>\n",
       "      <td>1960.60</td>\n",
       "      <td>Male</td>\n",
       "      <td>0</td>\n",
       "      <td>No</td>\n",
       "      <td>No</td>\n",
       "      <td>DSL</td>\n",
       "      <td>Yes</td>\n",
       "      <td>No</td>\n",
       "      <td>Yes</td>\n",
       "      <td>Yes</td>\n",
       "      <td>No</td>\n",
       "      <td>No</td>\n",
       "      <td>NaN</td>\n",
       "    </tr>\n",
       "    <tr>\n",
       "      <th>4</th>\n",
       "      <td>9237-HQITU</td>\n",
       "      <td>2019-09-01</td>\n",
       "      <td>NaT</td>\n",
       "      <td>Month-to-month</td>\n",
       "      <td>Yes</td>\n",
       "      <td>Electronic check</td>\n",
       "      <td>70.70</td>\n",
       "      <td>353.50</td>\n",
       "      <td>Female</td>\n",
       "      <td>0</td>\n",
       "      <td>No</td>\n",
       "      <td>No</td>\n",
       "      <td>Fiber optic</td>\n",
       "      <td>No</td>\n",
       "      <td>No</td>\n",
       "      <td>No</td>\n",
       "      <td>No</td>\n",
       "      <td>No</td>\n",
       "      <td>No</td>\n",
       "      <td>No</td>\n",
       "    </tr>\n",
       "  </tbody>\n",
       "</table>\n",
       "</div>"
      ],
      "text/plain": [
       "  customer_id begin_date end_date            type paperless_billing  \\\n",
       "0  7590-VHVEG 2020-01-01      NaT  Month-to-month               Yes   \n",
       "1  5575-GNVDE 2017-04-01      NaT        One year                No   \n",
       "2  3668-QPYBK 2019-10-01      NaT  Month-to-month               Yes   \n",
       "3  7795-CFOCW 2016-05-01      NaT        One year                No   \n",
       "4  9237-HQITU 2019-09-01      NaT  Month-to-month               Yes   \n",
       "\n",
       "              payment_method  monthly_charges  total_charges  gender  \\\n",
       "0           Electronic check            29.85          31.04  Female   \n",
       "1               Mailed check            56.95        2071.84    Male   \n",
       "2               Mailed check            53.85         226.17    Male   \n",
       "3  Bank transfer (automatic)            42.30        1960.60    Male   \n",
       "4           Electronic check            70.70         353.50  Female   \n",
       "\n",
       "  senior_citizen partner dependents internet_service online_security  \\\n",
       "0              0     Yes         No              DSL              No   \n",
       "1              0      No         No              DSL             Yes   \n",
       "2              0      No         No              DSL             Yes   \n",
       "3              0      No         No              DSL             Yes   \n",
       "4              0      No         No      Fiber optic              No   \n",
       "\n",
       "  online_backup device_protection tech_support streaming_tv streaming_movies  \\\n",
       "0           Yes                No           No           No               No   \n",
       "1            No               Yes           No           No               No   \n",
       "2           Yes                No           No           No               No   \n",
       "3            No               Yes          Yes           No               No   \n",
       "4            No                No           No           No               No   \n",
       "\n",
       "  multiple_lines  \n",
       "0            NaN  \n",
       "1             No  \n",
       "2             No  \n",
       "3            NaN  \n",
       "4             No  "
      ]
     },
     "execution_count": 27,
     "metadata": {},
     "output_type": "execute_result"
    }
   ],
   "source": [
    "data = contract_data.merge(personal_data, how='left', left_on='customer_id', right_on='customer_id')\n",
    "data = data.merge(internet_data, how='left', left_on='customer_id', right_on='customer_id')\n",
    "data = data.merge(phone_data, how='left', left_on='customer_id', right_on='customer_id')\n",
    "data.head()"
   ]
  },
  {
   "cell_type": "markdown",
   "id": "7b1d8748-fe92-4ea1-a2bb-849856bbdc52",
   "metadata": {},
   "source": [
    "### Duplicates"
   ]
  },
  {
   "cell_type": "code",
   "execution_count": 28,
   "id": "64127df2-52d0-4c96-9334-7afb5a1d6b11",
   "metadata": {},
   "outputs": [
    {
     "data": {
      "text/html": [
       "<div>\n",
       "<style scoped>\n",
       "    .dataframe tbody tr th:only-of-type {\n",
       "        vertical-align: middle;\n",
       "    }\n",
       "\n",
       "    .dataframe tbody tr th {\n",
       "        vertical-align: top;\n",
       "    }\n",
       "\n",
       "    .dataframe thead th {\n",
       "        text-align: right;\n",
       "    }\n",
       "</style>\n",
       "<table border=\"1\" class=\"dataframe\">\n",
       "  <thead>\n",
       "    <tr style=\"text-align: right;\">\n",
       "      <th></th>\n",
       "      <th>customer_id</th>\n",
       "      <th>begin_date</th>\n",
       "      <th>end_date</th>\n",
       "      <th>type</th>\n",
       "      <th>paperless_billing</th>\n",
       "      <th>payment_method</th>\n",
       "      <th>monthly_charges</th>\n",
       "      <th>total_charges</th>\n",
       "      <th>gender</th>\n",
       "      <th>senior_citizen</th>\n",
       "      <th>partner</th>\n",
       "      <th>dependents</th>\n",
       "      <th>internet_service</th>\n",
       "      <th>online_security</th>\n",
       "      <th>online_backup</th>\n",
       "      <th>device_protection</th>\n",
       "      <th>tech_support</th>\n",
       "      <th>streaming_tv</th>\n",
       "      <th>streaming_movies</th>\n",
       "      <th>multiple_lines</th>\n",
       "    </tr>\n",
       "  </thead>\n",
       "  <tbody>\n",
       "  </tbody>\n",
       "</table>\n",
       "</div>"
      ],
      "text/plain": [
       "Empty DataFrame\n",
       "Columns: [customer_id, begin_date, end_date, type, paperless_billing, payment_method, monthly_charges, total_charges, gender, senior_citizen, partner, dependents, internet_service, online_security, online_backup, device_protection, tech_support, streaming_tv, streaming_movies, multiple_lines]\n",
       "Index: []"
      ]
     },
     "execution_count": 28,
     "metadata": {},
     "output_type": "execute_result"
    }
   ],
   "source": [
    "data[data.duplicated(keep=False)]"
   ]
  },
  {
   "cell_type": "markdown",
   "id": "08c4eec3-72fe-4115-9400-34ef0d11214f",
   "metadata": {},
   "source": [
    "<div class=\"alert alert-info\">\n",
    "<b>Промежуточный вывод</b>\n",
    "\n",
    "Дубликатов в датасете нет"
   ]
  },
  {
   "cell_type": "markdown",
   "id": "a199449f-db06-47c2-b677-c1c38772001a",
   "metadata": {},
   "source": [
    "### New features"
   ]
  },
  {
   "cell_type": "code",
   "execution_count": 29,
   "id": "797ec595-13f9-4d8c-89d2-e81732450e52",
   "metadata": {},
   "outputs": [],
   "source": [
    "# Добавляем целевой признак\n",
    "data['label'] = np.where(data['end_date'].isna(), 0, 1)\n",
    "data['label'].value_counts()\n",
    "\n",
    "# Добавляем продолжительность контракта\n",
    "upload_date = pd.to_datetime('2020-02-01')\n",
    "\n",
    "data['duration'] = np.where(data['end_date'].isna(),\n",
    "                           (upload_date - data['begin_date']).dt.days,\n",
    "                           (data['end_date'] - data['begin_date']).dt.days)\n",
    "\n",
    "# Добавляем год начала контракта\n",
    "data['begin_year'] = data['begin_date'].dt.year.astype('str')\n",
    "\n",
    "# Убираем дату окончания контракта\n",
    "data.drop('end_date', axis=1, inplace=True)\n",
    "\n",
    "# Убираем ID клиентов\n",
    "data.drop('customer_id', axis=1, inplace=True)"
   ]
  },
  {
   "cell_type": "markdown",
   "id": "cc20484b-004f-43a7-a5e5-2b8b0076a956",
   "metadata": {},
   "source": [
    "### EDA"
   ]
  },
  {
   "cell_type": "code",
   "execution_count": 30,
   "id": "5e458805-c3f9-4c47-9699-c0f4c6c8a38b",
   "metadata": {},
   "outputs": [
    {
     "data": {
      "text/html": [
       "<div>\n",
       "<style scoped>\n",
       "    .dataframe tbody tr th:only-of-type {\n",
       "        vertical-align: middle;\n",
       "    }\n",
       "\n",
       "    .dataframe tbody tr th {\n",
       "        vertical-align: top;\n",
       "    }\n",
       "\n",
       "    .dataframe thead th {\n",
       "        text-align: right;\n",
       "    }\n",
       "</style>\n",
       "<table border=\"1\" class=\"dataframe\">\n",
       "  <thead>\n",
       "    <tr style=\"text-align: right;\">\n",
       "      <th></th>\n",
       "      <th>begin_date</th>\n",
       "      <th>type</th>\n",
       "      <th>paperless_billing</th>\n",
       "      <th>payment_method</th>\n",
       "      <th>monthly_charges</th>\n",
       "      <th>total_charges</th>\n",
       "      <th>gender</th>\n",
       "      <th>senior_citizen</th>\n",
       "      <th>partner</th>\n",
       "      <th>dependents</th>\n",
       "      <th>...</th>\n",
       "      <th>online_security</th>\n",
       "      <th>online_backup</th>\n",
       "      <th>device_protection</th>\n",
       "      <th>tech_support</th>\n",
       "      <th>streaming_tv</th>\n",
       "      <th>streaming_movies</th>\n",
       "      <th>multiple_lines</th>\n",
       "      <th>label</th>\n",
       "      <th>duration</th>\n",
       "      <th>begin_year</th>\n",
       "    </tr>\n",
       "  </thead>\n",
       "  <tbody>\n",
       "    <tr>\n",
       "      <th>0</th>\n",
       "      <td>2020-01-01</td>\n",
       "      <td>Month-to-month</td>\n",
       "      <td>Yes</td>\n",
       "      <td>Electronic check</td>\n",
       "      <td>29.85</td>\n",
       "      <td>31.04</td>\n",
       "      <td>Female</td>\n",
       "      <td>0</td>\n",
       "      <td>Yes</td>\n",
       "      <td>No</td>\n",
       "      <td>...</td>\n",
       "      <td>No</td>\n",
       "      <td>Yes</td>\n",
       "      <td>No</td>\n",
       "      <td>No</td>\n",
       "      <td>No</td>\n",
       "      <td>No</td>\n",
       "      <td>NaN</td>\n",
       "      <td>0</td>\n",
       "      <td>31.0</td>\n",
       "      <td>2020</td>\n",
       "    </tr>\n",
       "    <tr>\n",
       "      <th>1</th>\n",
       "      <td>2017-04-01</td>\n",
       "      <td>One year</td>\n",
       "      <td>No</td>\n",
       "      <td>Mailed check</td>\n",
       "      <td>56.95</td>\n",
       "      <td>2071.84</td>\n",
       "      <td>Male</td>\n",
       "      <td>0</td>\n",
       "      <td>No</td>\n",
       "      <td>No</td>\n",
       "      <td>...</td>\n",
       "      <td>Yes</td>\n",
       "      <td>No</td>\n",
       "      <td>Yes</td>\n",
       "      <td>No</td>\n",
       "      <td>No</td>\n",
       "      <td>No</td>\n",
       "      <td>No</td>\n",
       "      <td>0</td>\n",
       "      <td>1036.0</td>\n",
       "      <td>2017</td>\n",
       "    </tr>\n",
       "    <tr>\n",
       "      <th>2</th>\n",
       "      <td>2019-10-01</td>\n",
       "      <td>Month-to-month</td>\n",
       "      <td>Yes</td>\n",
       "      <td>Mailed check</td>\n",
       "      <td>53.85</td>\n",
       "      <td>226.17</td>\n",
       "      <td>Male</td>\n",
       "      <td>0</td>\n",
       "      <td>No</td>\n",
       "      <td>No</td>\n",
       "      <td>...</td>\n",
       "      <td>Yes</td>\n",
       "      <td>Yes</td>\n",
       "      <td>No</td>\n",
       "      <td>No</td>\n",
       "      <td>No</td>\n",
       "      <td>No</td>\n",
       "      <td>No</td>\n",
       "      <td>0</td>\n",
       "      <td>123.0</td>\n",
       "      <td>2019</td>\n",
       "    </tr>\n",
       "    <tr>\n",
       "      <th>3</th>\n",
       "      <td>2016-05-01</td>\n",
       "      <td>One year</td>\n",
       "      <td>No</td>\n",
       "      <td>Bank transfer (automatic)</td>\n",
       "      <td>42.30</td>\n",
       "      <td>1960.60</td>\n",
       "      <td>Male</td>\n",
       "      <td>0</td>\n",
       "      <td>No</td>\n",
       "      <td>No</td>\n",
       "      <td>...</td>\n",
       "      <td>Yes</td>\n",
       "      <td>No</td>\n",
       "      <td>Yes</td>\n",
       "      <td>Yes</td>\n",
       "      <td>No</td>\n",
       "      <td>No</td>\n",
       "      <td>NaN</td>\n",
       "      <td>0</td>\n",
       "      <td>1371.0</td>\n",
       "      <td>2016</td>\n",
       "    </tr>\n",
       "    <tr>\n",
       "      <th>4</th>\n",
       "      <td>2019-09-01</td>\n",
       "      <td>Month-to-month</td>\n",
       "      <td>Yes</td>\n",
       "      <td>Electronic check</td>\n",
       "      <td>70.70</td>\n",
       "      <td>353.50</td>\n",
       "      <td>Female</td>\n",
       "      <td>0</td>\n",
       "      <td>No</td>\n",
       "      <td>No</td>\n",
       "      <td>...</td>\n",
       "      <td>No</td>\n",
       "      <td>No</td>\n",
       "      <td>No</td>\n",
       "      <td>No</td>\n",
       "      <td>No</td>\n",
       "      <td>No</td>\n",
       "      <td>No</td>\n",
       "      <td>0</td>\n",
       "      <td>153.0</td>\n",
       "      <td>2019</td>\n",
       "    </tr>\n",
       "  </tbody>\n",
       "</table>\n",
       "<p>5 rows × 21 columns</p>\n",
       "</div>"
      ],
      "text/plain": [
       "  begin_date            type paperless_billing             payment_method  \\\n",
       "0 2020-01-01  Month-to-month               Yes           Electronic check   \n",
       "1 2017-04-01        One year                No               Mailed check   \n",
       "2 2019-10-01  Month-to-month               Yes               Mailed check   \n",
       "3 2016-05-01        One year                No  Bank transfer (automatic)   \n",
       "4 2019-09-01  Month-to-month               Yes           Electronic check   \n",
       "\n",
       "   monthly_charges  total_charges  gender senior_citizen partner dependents  \\\n",
       "0            29.85          31.04  Female              0     Yes         No   \n",
       "1            56.95        2071.84    Male              0      No         No   \n",
       "2            53.85         226.17    Male              0      No         No   \n",
       "3            42.30        1960.60    Male              0      No         No   \n",
       "4            70.70         353.50  Female              0      No         No   \n",
       "\n",
       "   ... online_security online_backup device_protection tech_support  \\\n",
       "0  ...              No           Yes                No           No   \n",
       "1  ...             Yes            No               Yes           No   \n",
       "2  ...             Yes           Yes                No           No   \n",
       "3  ...             Yes            No               Yes          Yes   \n",
       "4  ...              No            No                No           No   \n",
       "\n",
       "  streaming_tv streaming_movies multiple_lines label  duration  begin_year  \n",
       "0           No               No            NaN     0      31.0        2020  \n",
       "1           No               No             No     0    1036.0        2017  \n",
       "2           No               No             No     0     123.0        2019  \n",
       "3           No               No            NaN     0    1371.0        2016  \n",
       "4           No               No             No     0     153.0        2019  \n",
       "\n",
       "[5 rows x 21 columns]"
      ]
     },
     "execution_count": 30,
     "metadata": {},
     "output_type": "execute_result"
    }
   ],
   "source": [
    "data.head()"
   ]
  },
  {
   "cell_type": "code",
   "execution_count": 31,
   "id": "9331885e-c520-4383-aa45-040792a39fa4",
   "metadata": {},
   "outputs": [
    {
     "name": "stdout",
     "output_type": "stream",
     "text": [
      "interval columns not set, guessing: ['monthly_charges', 'total_charges', 'label', 'duration']\n"
     ]
    },
    {
     "data": {
      "text/html": [
       "<style type=\"text/css\">\n",
       "#T_aab45_row0_col0 {\n",
       "  background-color: #b40426;\n",
       "  color: #f1f1f1;\n",
       "}\n",
       "#T_aab45_row1_col0 {\n",
       "  background-color: #ca3b37;\n",
       "  color: #f1f1f1;\n",
       "}\n",
       "#T_aab45_row2_col0 {\n",
       "  background-color: #f18d6f;\n",
       "  color: #f1f1f1;\n",
       "}\n",
       "#T_aab45_row3_col0 {\n",
       "  background-color: #f5c4ac;\n",
       "  color: #000000;\n",
       "}\n",
       "#T_aab45_row4_col0 {\n",
       "  background-color: #efcebd;\n",
       "  color: #000000;\n",
       "}\n",
       "#T_aab45_row5_col0, #T_aab45_row6_col0 {\n",
       "  background-color: #d3dbe7;\n",
       "  color: #000000;\n",
       "}\n",
       "#T_aab45_row7_col0 {\n",
       "  background-color: #cedaeb;\n",
       "  color: #000000;\n",
       "}\n",
       "#T_aab45_row8_col0 {\n",
       "  background-color: #ccd9ed;\n",
       "  color: #000000;\n",
       "}\n",
       "#T_aab45_row9_col0 {\n",
       "  background-color: #c7d7f0;\n",
       "  color: #000000;\n",
       "}\n",
       "#T_aab45_row10_col0 {\n",
       "  background-color: #c6d6f1;\n",
       "  color: #000000;\n",
       "}\n",
       "#T_aab45_row11_col0 {\n",
       "  background-color: #b6cefa;\n",
       "  color: #000000;\n",
       "}\n",
       "#T_aab45_row12_col0 {\n",
       "  background-color: #80a3fa;\n",
       "  color: #f1f1f1;\n",
       "}\n",
       "#T_aab45_row13_col0 {\n",
       "  background-color: #799cf8;\n",
       "  color: #f1f1f1;\n",
       "}\n",
       "#T_aab45_row14_col0 {\n",
       "  background-color: #7597f6;\n",
       "  color: #f1f1f1;\n",
       "}\n",
       "#T_aab45_row15_col0 {\n",
       "  background-color: #6f92f3;\n",
       "  color: #f1f1f1;\n",
       "}\n",
       "#T_aab45_row16_col0 {\n",
       "  background-color: #6c8ff1;\n",
       "  color: #f1f1f1;\n",
       "}\n",
       "#T_aab45_row17_col0 {\n",
       "  background-color: #6687ed;\n",
       "  color: #f1f1f1;\n",
       "}\n",
       "#T_aab45_row18_col0 {\n",
       "  background-color: #536edd;\n",
       "  color: #f1f1f1;\n",
       "}\n",
       "#T_aab45_row19_col0 {\n",
       "  background-color: #3b4cc0;\n",
       "  color: #f1f1f1;\n",
       "}\n",
       "</style>\n",
       "<table id=\"T_aab45\">\n",
       "  <thead>\n",
       "    <tr>\n",
       "      <th class=\"blank level0\" >&nbsp;</th>\n",
       "      <th id=\"T_aab45_level0_col0\" class=\"col_heading level0 col0\" >label</th>\n",
       "    </tr>\n",
       "  </thead>\n",
       "  <tbody>\n",
       "    <tr>\n",
       "      <th id=\"T_aab45_level0_row0\" class=\"row_heading level0 row0\" >begin_year</th>\n",
       "      <td id=\"T_aab45_row0_col0\" class=\"data row0 col0\" >0.479112</td>\n",
       "    </tr>\n",
       "    <tr>\n",
       "      <th id=\"T_aab45_level0_row1\" class=\"row_heading level0 row1\" >begin_date</th>\n",
       "      <td id=\"T_aab45_row1_col0\" class=\"data row1 col0\" >0.450254</td>\n",
       "    </tr>\n",
       "    <tr>\n",
       "      <th id=\"T_aab45_level0_row2\" class=\"row_heading level0 row2\" >duration</th>\n",
       "      <td id=\"T_aab45_row2_col0\" class=\"data row2 col0\" >0.374569</td>\n",
       "    </tr>\n",
       "    <tr>\n",
       "      <th id=\"T_aab45_level0_row3\" class=\"row_heading level0 row3\" >total_charges</th>\n",
       "      <td id=\"T_aab45_row3_col0\" class=\"data row3 col0\" >0.303758</td>\n",
       "    </tr>\n",
       "    <tr>\n",
       "      <th id=\"T_aab45_level0_row4\" class=\"row_heading level0 row4\" >multiple_lines</th>\n",
       "      <td id=\"T_aab45_row4_col0\" class=\"data row4 col0\" >0.283076</td>\n",
       "    </tr>\n",
       "    <tr>\n",
       "      <th id=\"T_aab45_level0_row5\" class=\"row_heading level0 row5\" >partner</th>\n",
       "      <td id=\"T_aab45_row5_col0\" class=\"data row5 col0\" >0.226688</td>\n",
       "    </tr>\n",
       "    <tr>\n",
       "      <th id=\"T_aab45_level0_row6\" class=\"row_heading level0 row6\" >monthly_charges</th>\n",
       "      <td id=\"T_aab45_row6_col0\" class=\"data row6 col0\" >0.225925</td>\n",
       "    </tr>\n",
       "    <tr>\n",
       "      <th id=\"T_aab45_level0_row7\" class=\"row_heading level0 row7\" >online_backup</th>\n",
       "      <td id=\"T_aab45_row7_col0\" class=\"data row7 col0\" >0.218638</td>\n",
       "    </tr>\n",
       "    <tr>\n",
       "      <th id=\"T_aab45_level0_row8\" class=\"row_heading level0 row8\" >payment_method</th>\n",
       "      <td id=\"T_aab45_row8_col0\" class=\"data row8 col0\" >0.214832</td>\n",
       "    </tr>\n",
       "    <tr>\n",
       "      <th id=\"T_aab45_level0_row9\" class=\"row_heading level0 row9\" >streaming_movies</th>\n",
       "      <td id=\"T_aab45_row9_col0\" class=\"data row9 col0\" >0.208651</td>\n",
       "    </tr>\n",
       "    <tr>\n",
       "      <th id=\"T_aab45_level0_row10\" class=\"row_heading level0 row10\" >device_protection</th>\n",
       "      <td id=\"T_aab45_row10_col0\" class=\"data row10 col0\" >0.205516</td>\n",
       "    </tr>\n",
       "    <tr>\n",
       "      <th id=\"T_aab45_level0_row11\" class=\"row_heading level0 row11\" >streaming_tv</th>\n",
       "      <td id=\"T_aab45_row11_col0\" class=\"data row11 col0\" >0.182185</td>\n",
       "    </tr>\n",
       "    <tr>\n",
       "      <th id=\"T_aab45_level0_row12\" class=\"row_heading level0 row12\" >online_security</th>\n",
       "      <td id=\"T_aab45_row12_col0\" class=\"data row12 col0\" >0.107962</td>\n",
       "    </tr>\n",
       "    <tr>\n",
       "      <th id=\"T_aab45_level0_row13\" class=\"row_heading level0 row13\" >internet_service</th>\n",
       "      <td id=\"T_aab45_row13_col0\" class=\"data row13 col0\" >0.098956</td>\n",
       "    </tr>\n",
       "    <tr>\n",
       "      <th id=\"T_aab45_level0_row14\" class=\"row_heading level0 row14\" >type</th>\n",
       "      <td id=\"T_aab45_row14_col0\" class=\"data row14 col0\" >0.094015</td>\n",
       "    </tr>\n",
       "    <tr>\n",
       "      <th id=\"T_aab45_level0_row15\" class=\"row_heading level0 row15\" >senior_citizen</th>\n",
       "      <td id=\"T_aab45_row15_col0\" class=\"data row15 col0\" >0.086159</td>\n",
       "    </tr>\n",
       "    <tr>\n",
       "      <th id=\"T_aab45_level0_row16\" class=\"row_heading level0 row16\" >paperless_billing</th>\n",
       "      <td id=\"T_aab45_row16_col0\" class=\"data row16 col0\" >0.083398</td>\n",
       "    </tr>\n",
       "    <tr>\n",
       "      <th id=\"T_aab45_level0_row17\" class=\"row_heading level0 row17\" >tech_support</th>\n",
       "      <td id=\"T_aab45_row17_col0\" class=\"data row17 col0\" >0.073561</td>\n",
       "    </tr>\n",
       "    <tr>\n",
       "      <th id=\"T_aab45_level0_row18\" class=\"row_heading level0 row18\" >dependents</th>\n",
       "      <td id=\"T_aab45_row18_col0\" class=\"data row18 col0\" >0.046871</td>\n",
       "    </tr>\n",
       "    <tr>\n",
       "      <th id=\"T_aab45_level0_row19\" class=\"row_heading level0 row19\" >gender</th>\n",
       "      <td id=\"T_aab45_row19_col0\" class=\"data row19 col0\" >0.008581</td>\n",
       "    </tr>\n",
       "  </tbody>\n",
       "</table>\n"
      ],
      "text/plain": [
       "<pandas.io.formats.style.Styler at 0x136167a0350>"
      ]
     },
     "execution_count": 31,
     "metadata": {},
     "output_type": "execute_result"
    }
   ],
   "source": [
    "phik_matrix_result = phik_matrix(data)\n",
    "phik_label = pd.DataFrame(phik_matrix_result['label'].drop('label'))\n",
    "phik_label.sort_values('label', ascending=False).style.background_gradient(cmap='coolwarm')"
   ]
  },
  {
   "cell_type": "markdown",
   "id": "396f33a4-3b58-4102-9260-f10bec0531fd",
   "metadata": {},
   "source": [
    "<div class=\"alert alert-info\">\n",
    "<b>Промежуточный вывод</b>\n",
    "\n",
    "Наибольшее влияние на целевой признак оказывают:\n",
    "1. Дата начала контракта.\n",
    "2. Общие затраты на связь\n",
    "3. Наличие нескольких линий телефона\n",
    "\n",
    "Среди признаков \"дата начала\", \"год начала\", \"продолжительность контракта\" предлагаю оставить только \"год начала\", т.к. он имеет наибольший коэффициент  \n",
    "Наименьшее влияние на таргет оказывают: пол клиента, наличие детей или пенсионный возраст."
   ]
  },
  {
   "cell_type": "code",
   "execution_count": 32,
   "id": "2d84e1f0-f24e-4359-bb1d-9fc10bf1af28",
   "metadata": {},
   "outputs": [
    {
     "name": "stdout",
     "output_type": "stream",
     "text": [
      "interval columns not set, guessing: ['monthly_charges', 'total_charges', 'label', 'duration']\n"
     ]
    },
    {
     "data": {
      "image/png": "[encoded data removed]",
      "text/plain": [
       "<Figure size 800x600 with 2 Axes>"
      ]
     },
     "metadata": {},
     "output_type": "display_data"
    }
   ],
   "source": [
    "# Пересчитаем матрицу без отброшенных столбцов\n",
    "phik_matrix_result = phik_matrix(data)\n",
    "\n",
    "plt.figure(figsize=(8, 6))\n",
    "sns.heatmap(phik_matrix_result, cmap='coolwarm')\n",
    "plt.title(\"Phik Matrix\")\n",
    "plt.show()"
   ]
  },
  {
   "cell_type": "markdown",
   "id": "d42698b2-fc57-4593-8d93-db17fcd0f2c0",
   "metadata": {},
   "source": [
    "<div class=\"alert alert-info\">\n",
    "<b>Промежуточный вывод</b>\n",
    "\n",
    "На хитмапе можно заметить, что размеры ежемесячных платежей в основном зависят от подключенного интернета и наличия стриминговых пакетов ТВ и фильмов. Выделяется признак `internet_service`, который оказывает наибольшее влияние на ежемесячные платежи.  \n",
    "На общий размер платежей же больше влияют год начала пользования услугами и наличие нескольких телефонных линий.  \n",
    "Еще можно заметить, что разделение услуг по половому признаку пользователя практически отсутствует - все группы пользуются всеми услугами одинаково.\n",
    "\n",
    "Рассмотрим распределение таргера по отдельным признакам"
   ]
  },
  {
   "cell_type": "code",
   "execution_count": 33,
   "id": "9d906338-07b7-481c-8328-5926ecb3ca52",
   "metadata": {},
   "outputs": [
    {
     "data": {
      "text/html": [
       "<div>\n",
       "<style scoped>\n",
       "    .dataframe tbody tr th:only-of-type {\n",
       "        vertical-align: middle;\n",
       "    }\n",
       "\n",
       "    .dataframe tbody tr th {\n",
       "        vertical-align: top;\n",
       "    }\n",
       "\n",
       "    .dataframe thead th {\n",
       "        text-align: right;\n",
       "    }\n",
       "</style>\n",
       "<table border=\"1\" class=\"dataframe\">\n",
       "  <thead>\n",
       "    <tr style=\"text-align: right;\">\n",
       "      <th></th>\n",
       "      <th>count</th>\n",
       "      <th>mean</th>\n",
       "    </tr>\n",
       "    <tr>\n",
       "      <th>begin_year</th>\n",
       "      <th></th>\n",
       "      <th></th>\n",
       "    </tr>\n",
       "  </thead>\n",
       "  <tbody>\n",
       "    <tr>\n",
       "      <th>2013</th>\n",
       "      <td>8</td>\n",
       "      <td>0.250000</td>\n",
       "    </tr>\n",
       "    <tr>\n",
       "      <th>2014</th>\n",
       "      <td>1344</td>\n",
       "      <td>0.319940</td>\n",
       "    </tr>\n",
       "    <tr>\n",
       "      <th>2015</th>\n",
       "      <td>852</td>\n",
       "      <td>0.326291</td>\n",
       "    </tr>\n",
       "    <tr>\n",
       "      <th>2016</th>\n",
       "      <td>763</td>\n",
       "      <td>0.246396</td>\n",
       "    </tr>\n",
       "    <tr>\n",
       "      <th>2017</th>\n",
       "      <td>845</td>\n",
       "      <td>0.125444</td>\n",
       "    </tr>\n",
       "    <tr>\n",
       "      <th>2018</th>\n",
       "      <td>1030</td>\n",
       "      <td>0.069903</td>\n",
       "    </tr>\n",
       "    <tr>\n",
       "      <th>2019</th>\n",
       "      <td>1957</td>\n",
       "      <td>0.012775</td>\n",
       "    </tr>\n",
       "    <tr>\n",
       "      <th>2020</th>\n",
       "      <td>244</td>\n",
       "      <td>0.000000</td>\n",
       "    </tr>\n",
       "  </tbody>\n",
       "</table>\n",
       "</div>"
      ],
      "text/plain": [
       "            count      mean\n",
       "begin_year                 \n",
       "2013            8  0.250000\n",
       "2014         1344  0.319940\n",
       "2015          852  0.326291\n",
       "2016          763  0.246396\n",
       "2017          845  0.125444\n",
       "2018         1030  0.069903\n",
       "2019         1957  0.012775\n",
       "2020          244  0.000000"
      ]
     },
     "execution_count": 33,
     "metadata": {},
     "output_type": "execute_result"
    }
   ],
   "source": [
    "data.groupby('begin_year', dropna=False)['label'].agg(['count', 'mean'])"
   ]
  },
  {
   "cell_type": "code",
   "execution_count": 34,
   "id": "d228fae8-4c2f-42a4-b46d-ed9a1d9711cf",
   "metadata": {},
   "outputs": [
    {
     "data": {
      "text/html": [
       "<div>\n",
       "<style scoped>\n",
       "    .dataframe tbody tr th:only-of-type {\n",
       "        vertical-align: middle;\n",
       "    }\n",
       "\n",
       "    .dataframe tbody tr th {\n",
       "        vertical-align: top;\n",
       "    }\n",
       "\n",
       "    .dataframe thead th {\n",
       "        text-align: right;\n",
       "    }\n",
       "</style>\n",
       "<table border=\"1\" class=\"dataframe\">\n",
       "  <thead>\n",
       "    <tr style=\"text-align: right;\">\n",
       "      <th></th>\n",
       "      <th>count</th>\n",
       "      <th>mean</th>\n",
       "    </tr>\n",
       "    <tr>\n",
       "      <th>m_charge_cats</th>\n",
       "      <th></th>\n",
       "      <th></th>\n",
       "    </tr>\n",
       "  </thead>\n",
       "  <tbody>\n",
       "    <tr>\n",
       "      <th>min</th>\n",
       "      <td>1420</td>\n",
       "      <td>0.097887</td>\n",
       "    </tr>\n",
       "    <tr>\n",
       "      <th>min-avg</th>\n",
       "      <td>1397</td>\n",
       "      <td>0.109520</td>\n",
       "    </tr>\n",
       "    <tr>\n",
       "      <th>avg</th>\n",
       "      <td>1411</td>\n",
       "      <td>0.126152</td>\n",
       "    </tr>\n",
       "    <tr>\n",
       "      <th>avg-high</th>\n",
       "      <td>1407</td>\n",
       "      <td>0.181947</td>\n",
       "    </tr>\n",
       "    <tr>\n",
       "      <th>high</th>\n",
       "      <td>1408</td>\n",
       "      <td>0.266335</td>\n",
       "    </tr>\n",
       "  </tbody>\n",
       "</table>\n",
       "</div>"
      ],
      "text/plain": [
       "               count      mean\n",
       "m_charge_cats                 \n",
       "min             1420  0.097887\n",
       "min-avg         1397  0.109520\n",
       "avg             1411  0.126152\n",
       "avg-high        1407  0.181947\n",
       "high            1408  0.266335"
      ]
     },
     "execution_count": 34,
     "metadata": {},
     "output_type": "execute_result"
    }
   ],
   "source": [
    "# Вспомогательные признаки для проверки распределения по категориям  \n",
    "# Категории для числовых признаков\n",
    "data['m_charge_cats'] = pd.qcut(data['monthly_charges'], 5, labels=['min','min-avg','avg','avg-high','high'])\n",
    "data['t_charge_cats'] = pd.qcut(data['total_charges'], 5, labels=['min','min-avg','avg','avg-high','high'])\n",
    "\n",
    "data.groupby('m_charge_cats', dropna=False)['label'].agg(['count', 'mean'])"
   ]
  },
  {
   "cell_type": "code",
   "execution_count": 35,
   "id": "4fe5edd7-8d73-43db-92b9-a712eb2330ba",
   "metadata": {},
   "outputs": [
    {
     "data": {
      "text/html": [
       "<div>\n",
       "<style scoped>\n",
       "    .dataframe tbody tr th:only-of-type {\n",
       "        vertical-align: middle;\n",
       "    }\n",
       "\n",
       "    .dataframe tbody tr th {\n",
       "        vertical-align: top;\n",
       "    }\n",
       "\n",
       "    .dataframe thead th {\n",
       "        text-align: right;\n",
       "    }\n",
       "</style>\n",
       "<table border=\"1\" class=\"dataframe\">\n",
       "  <thead>\n",
       "    <tr style=\"text-align: right;\">\n",
       "      <th></th>\n",
       "      <th>count</th>\n",
       "      <th>mean</th>\n",
       "    </tr>\n",
       "    <tr>\n",
       "      <th>t_charge_cats</th>\n",
       "      <th></th>\n",
       "      <th></th>\n",
       "    </tr>\n",
       "  </thead>\n",
       "  <tbody>\n",
       "    <tr>\n",
       "      <th>min</th>\n",
       "      <td>1407</td>\n",
       "      <td>0.046908</td>\n",
       "    </tr>\n",
       "    <tr>\n",
       "      <th>min-avg</th>\n",
       "      <td>1408</td>\n",
       "      <td>0.125000</td>\n",
       "    </tr>\n",
       "    <tr>\n",
       "      <th>avg</th>\n",
       "      <td>1404</td>\n",
       "      <td>0.178775</td>\n",
       "    </tr>\n",
       "    <tr>\n",
       "      <th>avg-high</th>\n",
       "      <td>1406</td>\n",
       "      <td>0.291607</td>\n",
       "    </tr>\n",
       "    <tr>\n",
       "      <th>high</th>\n",
       "      <td>1407</td>\n",
       "      <td>0.140725</td>\n",
       "    </tr>\n",
       "    <tr>\n",
       "      <th>NaN</th>\n",
       "      <td>11</td>\n",
       "      <td>0.000000</td>\n",
       "    </tr>\n",
       "  </tbody>\n",
       "</table>\n",
       "</div>"
      ],
      "text/plain": [
       "               count      mean\n",
       "t_charge_cats                 \n",
       "min             1407  0.046908\n",
       "min-avg         1408  0.125000\n",
       "avg             1404  0.178775\n",
       "avg-high        1406  0.291607\n",
       "high            1407  0.140725\n",
       "NaN               11  0.000000"
      ]
     },
     "execution_count": 35,
     "metadata": {},
     "output_type": "execute_result"
    }
   ],
   "source": [
    "data.groupby('t_charge_cats', dropna=False)['label'].agg(['count', 'mean'])"
   ]
  },
  {
   "cell_type": "code",
   "execution_count": 36,
   "id": "9f36eeb2-4557-4152-95c0-30d3e16ba61e",
   "metadata": {},
   "outputs": [
    {
     "data": {
      "text/html": [
       "<div>\n",
       "<style scoped>\n",
       "    .dataframe tbody tr th:only-of-type {\n",
       "        vertical-align: middle;\n",
       "    }\n",
       "\n",
       "    .dataframe tbody tr th {\n",
       "        vertical-align: top;\n",
       "    }\n",
       "\n",
       "    .dataframe thead th {\n",
       "        text-align: right;\n",
       "    }\n",
       "</style>\n",
       "<table border=\"1\" class=\"dataframe\">\n",
       "  <thead>\n",
       "    <tr style=\"text-align: right;\">\n",
       "      <th></th>\n",
       "      <th>count</th>\n",
       "      <th>mean</th>\n",
       "    </tr>\n",
       "    <tr>\n",
       "      <th>multiple_lines</th>\n",
       "      <th></th>\n",
       "      <th></th>\n",
       "    </tr>\n",
       "  </thead>\n",
       "  <tbody>\n",
       "    <tr>\n",
       "      <th>No</th>\n",
       "      <td>3390</td>\n",
       "      <td>0.094395</td>\n",
       "    </tr>\n",
       "    <tr>\n",
       "      <th>Yes</th>\n",
       "      <td>2971</td>\n",
       "      <td>0.228206</td>\n",
       "    </tr>\n",
       "    <tr>\n",
       "      <th>NaN</th>\n",
       "      <td>682</td>\n",
       "      <td>0.151026</td>\n",
       "    </tr>\n",
       "  </tbody>\n",
       "</table>\n",
       "</div>"
      ],
      "text/plain": [
       "                count      mean\n",
       "multiple_lines                 \n",
       "No               3390  0.094395\n",
       "Yes              2971  0.228206\n",
       "NaN               682  0.151026"
      ]
     },
     "execution_count": 36,
     "metadata": {},
     "output_type": "execute_result"
    }
   ],
   "source": [
    "data.groupby('multiple_lines', dropna=False)['label'].agg(['count', 'mean'])"
   ]
  },
  {
   "cell_type": "code",
   "execution_count": 37,
   "id": "74bfe42f-b792-4c50-bddb-93ed392ad61f",
   "metadata": {},
   "outputs": [
    {
     "data": {
      "text/html": [
       "<div>\n",
       "<style scoped>\n",
       "    .dataframe tbody tr th:only-of-type {\n",
       "        vertical-align: middle;\n",
       "    }\n",
       "\n",
       "    .dataframe tbody tr th {\n",
       "        vertical-align: top;\n",
       "    }\n",
       "\n",
       "    .dataframe thead th {\n",
       "        text-align: right;\n",
       "    }\n",
       "</style>\n",
       "<table border=\"1\" class=\"dataframe\">\n",
       "  <thead>\n",
       "    <tr style=\"text-align: right;\">\n",
       "      <th></th>\n",
       "      <th>count</th>\n",
       "      <th>mean</th>\n",
       "    </tr>\n",
       "    <tr>\n",
       "      <th>online_backup</th>\n",
       "      <th></th>\n",
       "      <th></th>\n",
       "    </tr>\n",
       "  </thead>\n",
       "  <tbody>\n",
       "    <tr>\n",
       "      <th>No</th>\n",
       "      <td>3088</td>\n",
       "      <td>0.123381</td>\n",
       "    </tr>\n",
       "    <tr>\n",
       "      <th>Yes</th>\n",
       "      <td>2429</td>\n",
       "      <td>0.230548</td>\n",
       "    </tr>\n",
       "    <tr>\n",
       "      <th>NaN</th>\n",
       "      <td>1526</td>\n",
       "      <td>0.104849</td>\n",
       "    </tr>\n",
       "  </tbody>\n",
       "</table>\n",
       "</div>"
      ],
      "text/plain": [
       "               count      mean\n",
       "online_backup                 \n",
       "No              3088  0.123381\n",
       "Yes             2429  0.230548\n",
       "NaN             1526  0.104849"
      ]
     },
     "execution_count": 37,
     "metadata": {},
     "output_type": "execute_result"
    }
   ],
   "source": [
    "data.groupby('online_backup', dropna=False)['label'].agg(['count', 'mean'])"
   ]
  },
  {
   "cell_type": "code",
   "execution_count": 38,
   "id": "1bf4d3fc-bf73-4f73-b216-7d04e3d02398",
   "metadata": {},
   "outputs": [
    {
     "data": {
      "text/html": [
       "<div>\n",
       "<style scoped>\n",
       "    .dataframe tbody tr th:only-of-type {\n",
       "        vertical-align: middle;\n",
       "    }\n",
       "\n",
       "    .dataframe tbody tr th {\n",
       "        vertical-align: top;\n",
       "    }\n",
       "\n",
       "    .dataframe thead th {\n",
       "        text-align: right;\n",
       "    }\n",
       "</style>\n",
       "<table border=\"1\" class=\"dataframe\">\n",
       "  <thead>\n",
       "    <tr style=\"text-align: right;\">\n",
       "      <th></th>\n",
       "      <th>count</th>\n",
       "      <th>mean</th>\n",
       "    </tr>\n",
       "    <tr>\n",
       "      <th>streaming_movies</th>\n",
       "      <th></th>\n",
       "      <th></th>\n",
       "    </tr>\n",
       "  </thead>\n",
       "  <tbody>\n",
       "    <tr>\n",
       "      <th>No</th>\n",
       "      <td>2785</td>\n",
       "      <td>0.120287</td>\n",
       "    </tr>\n",
       "    <tr>\n",
       "      <th>Yes</th>\n",
       "      <td>2732</td>\n",
       "      <td>0.221816</td>\n",
       "    </tr>\n",
       "    <tr>\n",
       "      <th>NaN</th>\n",
       "      <td>1526</td>\n",
       "      <td>0.104849</td>\n",
       "    </tr>\n",
       "  </tbody>\n",
       "</table>\n",
       "</div>"
      ],
      "text/plain": [
       "                  count      mean\n",
       "streaming_movies                 \n",
       "No                 2785  0.120287\n",
       "Yes                2732  0.221816\n",
       "NaN                1526  0.104849"
      ]
     },
     "execution_count": 38,
     "metadata": {},
     "output_type": "execute_result"
    }
   ],
   "source": [
    "data.groupby('streaming_movies', dropna=False)['label'].agg(['count', 'mean'])"
   ]
  },
  {
   "cell_type": "code",
   "execution_count": 39,
   "id": "d56b3c26-2723-423e-ab41-ef143fa0cbba",
   "metadata": {},
   "outputs": [
    {
     "data": {
      "text/html": [
       "<div>\n",
       "<style scoped>\n",
       "    .dataframe tbody tr th:only-of-type {\n",
       "        vertical-align: middle;\n",
       "    }\n",
       "\n",
       "    .dataframe tbody tr th {\n",
       "        vertical-align: top;\n",
       "    }\n",
       "\n",
       "    .dataframe thead th {\n",
       "        text-align: right;\n",
       "    }\n",
       "</style>\n",
       "<table border=\"1\" class=\"dataframe\">\n",
       "  <thead>\n",
       "    <tr style=\"text-align: right;\">\n",
       "      <th></th>\n",
       "      <th>count</th>\n",
       "      <th>mean</th>\n",
       "    </tr>\n",
       "    <tr>\n",
       "      <th>streaming_tv</th>\n",
       "      <th></th>\n",
       "      <th></th>\n",
       "    </tr>\n",
       "  </thead>\n",
       "  <tbody>\n",
       "    <tr>\n",
       "      <th>No</th>\n",
       "      <td>2810</td>\n",
       "      <td>0.127046</td>\n",
       "    </tr>\n",
       "    <tr>\n",
       "      <th>Yes</th>\n",
       "      <td>2707</td>\n",
       "      <td>0.215737</td>\n",
       "    </tr>\n",
       "    <tr>\n",
       "      <th>NaN</th>\n",
       "      <td>1526</td>\n",
       "      <td>0.104849</td>\n",
       "    </tr>\n",
       "  </tbody>\n",
       "</table>\n",
       "</div>"
      ],
      "text/plain": [
       "              count      mean\n",
       "streaming_tv                 \n",
       "No             2810  0.127046\n",
       "Yes            2707  0.215737\n",
       "NaN            1526  0.104849"
      ]
     },
     "execution_count": 39,
     "metadata": {},
     "output_type": "execute_result"
    }
   ],
   "source": [
    "data.groupby('streaming_tv', dropna=False)['label'].agg(['count', 'mean'])"
   ]
  },
  {
   "cell_type": "code",
   "execution_count": 40,
   "id": "cebd7f28-974e-4ad3-b201-2ab5ee0fc3be",
   "metadata": {},
   "outputs": [
    {
     "data": {
      "text/html": [
       "<div>\n",
       "<style scoped>\n",
       "    .dataframe tbody tr th:only-of-type {\n",
       "        vertical-align: middle;\n",
       "    }\n",
       "\n",
       "    .dataframe tbody tr th {\n",
       "        vertical-align: top;\n",
       "    }\n",
       "\n",
       "    .dataframe thead th {\n",
       "        text-align: right;\n",
       "    }\n",
       "</style>\n",
       "<table border=\"1\" class=\"dataframe\">\n",
       "  <thead>\n",
       "    <tr style=\"text-align: right;\">\n",
       "      <th></th>\n",
       "      <th>count</th>\n",
       "      <th>mean</th>\n",
       "    </tr>\n",
       "    <tr>\n",
       "      <th>partner</th>\n",
       "      <th></th>\n",
       "      <th></th>\n",
       "    </tr>\n",
       "  </thead>\n",
       "  <tbody>\n",
       "    <tr>\n",
       "      <th>No</th>\n",
       "      <td>3641</td>\n",
       "      <td>0.104916</td>\n",
       "    </tr>\n",
       "    <tr>\n",
       "      <th>Yes</th>\n",
       "      <td>3402</td>\n",
       "      <td>0.211346</td>\n",
       "    </tr>\n",
       "  </tbody>\n",
       "</table>\n",
       "</div>"
      ],
      "text/plain": [
       "         count      mean\n",
       "partner                 \n",
       "No        3641  0.104916\n",
       "Yes       3402  0.211346"
      ]
     },
     "execution_count": 40,
     "metadata": {},
     "output_type": "execute_result"
    }
   ],
   "source": [
    "data.groupby('partner', dropna=False)['label'].agg(['count', 'mean'])"
   ]
  },
  {
   "cell_type": "markdown",
   "id": "f0448f67-64a9-4060-9320-720648569854",
   "metadata": {},
   "source": [
    "<div class=\"alert alert-info\">\n",
    "<b>Промежуточный вывод</b>  \n",
    "\n",
    "Чем давнее пришел клиент - тем выше риск его ухода.  \n",
    "Чем выше ещемесячные платежи - тем выше вероятность прекращения договора  \n",
    "С общими расходами примерно то же - чем выше расходы, тем выше вероятность ухода клиента. Но у группы клиентов в самыми высокми общими затратами риск ухода ниже.  \n",
    "Наличие различных услуг повышает риск ухода клиента (одновременно с размером платежей)  \n",
    "Факт состояния в браке также повышает риск ухода.  \n",
    "\n",
    "Основываясь на топ признаков по влиянию их на таргет, можно сделать вывод, что средний клиент, который хочет прекратить текущий договор:\n",
    "* Пришел довольно давно\n",
    "* Платит большую сумму в месяц\n",
    "* Возможно, имеет такие подключенные услуги как: телефон на несколько линий, облачное хранилище, стриминговые сервисы."
   ]
  },
  {
   "cell_type": "code",
   "execution_count": 41,
   "id": "d5b0237a-116e-4518-a48c-3c97b030b0e7",
   "metadata": {},
   "outputs": [],
   "source": [
    "# Удаляем вспомогательные признаки\n",
    "data.drop(['m_charge_cats','t_charge_cats'], axis=1, inplace=True)\n",
    "\n",
    "# Убираем лишние признаки\n",
    "data.drop(['begin_date', 'begin_year'], axis=1, inplace=True)"
   ]
  },
  {
   "cell_type": "markdown",
   "id": "ae4b3e15-83f5-4bf8-a8bc-9a2ea40527f6",
   "metadata": {},
   "source": [
    "### Nan"
   ]
  },
  {
   "cell_type": "code",
   "execution_count": 42,
   "id": "5e1b1c0e-26b2-4dde-b61e-d541fb41fff1",
   "metadata": {},
   "outputs": [
    {
     "data": {
      "text/plain": [
       "internet_service     0.216669\n",
       "online_security      0.216669\n",
       "streaming_movies     0.216669\n",
       "streaming_tv         0.216669\n",
       "tech_support         0.216669\n",
       "device_protection    0.216669\n",
       "online_backup        0.216669\n",
       "multiple_lines       0.096834\n",
       "total_charges        0.001562\n",
       "label                0.000000\n",
       "type                 0.000000\n",
       "paperless_billing    0.000000\n",
       "dependents           0.000000\n",
       "partner              0.000000\n",
       "senior_citizen       0.000000\n",
       "gender               0.000000\n",
       "monthly_charges      0.000000\n",
       "payment_method       0.000000\n",
       "duration             0.000000\n",
       "dtype: float64"
      ]
     },
     "execution_count": 42,
     "metadata": {},
     "output_type": "execute_result"
    }
   ],
   "source": [
    "data.isna().mean().sort_values(ascending=False)"
   ]
  },
  {
   "cell_type": "code",
   "execution_count": 43,
   "id": "282e2d7f-dc58-4d90-9672-8eba3f86affa",
   "metadata": {},
   "outputs": [],
   "source": [
    "# Заполняем пропуски\n",
    "list_na = ['internet_service', 'online_security', 'streaming_movies', 'streaming_tv',\n",
    "      'tech_support', 'device_protection', 'online_backup', 'multiple_lines']\n",
    "for i in list_na:\n",
    "    data[i].fillna('unknown', inplace=True)\n",
    "\n",
    "data['total_charges'].fillna(data['total_charges'].median(), inplace=True)"
   ]
  },
  {
   "cell_type": "code",
   "execution_count": 44,
   "id": "613db80b-473f-454b-a8ad-bb48b5086cb6",
   "metadata": {},
   "outputs": [
    {
     "data": {
      "text/plain": [
       "type                 0.0\n",
       "online_security      0.0\n",
       "label                0.0\n",
       "multiple_lines       0.0\n",
       "streaming_movies     0.0\n",
       "streaming_tv         0.0\n",
       "tech_support         0.0\n",
       "device_protection    0.0\n",
       "online_backup        0.0\n",
       "internet_service     0.0\n",
       "paperless_billing    0.0\n",
       "dependents           0.0\n",
       "partner              0.0\n",
       "senior_citizen       0.0\n",
       "gender               0.0\n",
       "total_charges        0.0\n",
       "monthly_charges      0.0\n",
       "payment_method       0.0\n",
       "duration             0.0\n",
       "dtype: float64"
      ]
     },
     "execution_count": 44,
     "metadata": {},
     "output_type": "execute_result"
    }
   ],
   "source": [
    "# Проверяем\n",
    "data.isna().mean().sort_values(ascending=False)"
   ]
  },
  {
   "cell_type": "markdown",
   "id": "5096d10d-c57e-45e5-8c7d-d8a99e96fef6",
   "metadata": {},
   "source": [
    "## Preprocessing"
   ]
  },
  {
   "cell_type": "code",
   "execution_count": 45,
   "id": "8e3bf02b-0b0c-4bcb-a9d7-be983f6db93a",
   "metadata": {},
   "outputs": [
    {
     "data": {
      "text/plain": [
       "'Categorical features:'"
      ]
     },
     "metadata": {},
     "output_type": "display_data"
    },
    {
     "data": {
      "text/plain": [
       "['type',\n",
       " 'paperless_billing',\n",
       " 'payment_method',\n",
       " 'gender',\n",
       " 'senior_citizen',\n",
       " 'partner',\n",
       " 'dependents',\n",
       " 'internet_service',\n",
       " 'online_security',\n",
       " 'online_backup',\n",
       " 'device_protection',\n",
       " 'tech_support',\n",
       " 'streaming_tv',\n",
       " 'streaming_movies',\n",
       " 'multiple_lines']"
      ]
     },
     "metadata": {},
     "output_type": "display_data"
    },
    {
     "name": "stdout",
     "output_type": "stream",
     "text": [
      "\n"
     ]
    },
    {
     "data": {
      "text/plain": [
       "'Numerical features:'"
      ]
     },
     "metadata": {},
     "output_type": "display_data"
    },
    {
     "data": {
      "text/plain": [
       "['monthly_charges', 'total_charges', 'duration']"
      ]
     },
     "metadata": {},
     "output_type": "display_data"
    }
   ],
   "source": [
    "# Делим признаки на категориальные и числовые\n",
    "cat_features = data.select_dtypes(include=[object, 'category']).columns.tolist()\n",
    "num_features = data.select_dtypes(include=['number']).drop('label', axis=1).columns.tolist()\n",
    "display('Categorical features:', cat_features)\n",
    "print()\n",
    "display('Numerical features:', num_features)"
   ]
  },
  {
   "cell_type": "code",
   "execution_count": 46,
   "id": "59950d78-0651-4ce0-ad50-48261ce914e9",
   "metadata": {},
   "outputs": [
    {
     "data": {
      "text/plain": [
       "{'label'}"
      ]
     },
     "execution_count": 46,
     "metadata": {},
     "output_type": "execute_result"
    }
   ],
   "source": [
    "# Проверяем, что в списки вошли все признаки\n",
    "set(data.columns.tolist()) - set(cat_features) - set(num_features)"
   ]
  },
  {
   "cell_type": "code",
   "execution_count": 47,
   "id": "f94fc332-28a0-4732-bf05-fe562c11a54a",
   "metadata": {},
   "outputs": [
    {
     "data": {
      "text/plain": [
       "((5282, 18), (1761, 18), (5282,), (1761,))"
      ]
     },
     "execution_count": 47,
     "metadata": {},
     "output_type": "execute_result"
    }
   ],
   "source": [
    "# train-test split\n",
    "X, X_test, y, y_test = train_test_split(\n",
    "    data.drop('label', axis=1), data['label'],\n",
    "    test_size=0.25,\n",
    "    stratify=data['label'],\n",
    "    shuffle=True,\n",
    "    random_state=RANDOM_STATE\n",
    ")\n",
    "\n",
    "X.shape, X_test.shape, y.shape, y_test.shape"
   ]
  },
  {
   "cell_type": "code",
   "execution_count": 48,
   "id": "f258fe74-91f9-477d-9764-b0da7e4d2e74",
   "metadata": {},
   "outputs": [],
   "source": [
    "# Пайплайны для предобработки\n",
    "num_transformer = Pipeline(steps=[\n",
    "    ('scaler', StandardScaler())\n",
    "])\n",
    "\n",
    "cat_transformer = Pipeline(steps=[\n",
    "    ('onehot', OneHotEncoder(drop='first', handle_unknown='ignore'))\n",
    "])\n",
    "\n",
    "# ColumnTransformer\n",
    "preprocessor = ColumnTransformer(\n",
    "    transformers=[\n",
    "        ('num', num_transformer, num_features),\n",
    "        ('cat', cat_transformer, cat_features)\n",
    "    ])"
   ]
  },
  {
   "cell_type": "code",
   "execution_count": 49,
   "id": "9aad84e2-1146-458d-8696-c3daeeb699c1",
   "metadata": {},
   "outputs": [
    {
     "data": {
      "text/plain": [
       "((5282, 29), (1761, 29))"
      ]
     },
     "execution_count": 49,
     "metadata": {},
     "output_type": "execute_result"
    }
   ],
   "source": [
    "# Проверяем, что предобработчик работает\n",
    "X_tf = preprocessor.fit_transform(X)\n",
    "X_test_tf = preprocessor.transform(X_test)\n",
    "X_tf.shape, X_test_tf.shape"
   ]
  },
  {
   "cell_type": "markdown",
   "id": "2899aac1-2098-4cf4-8220-34b2dd157422",
   "metadata": {},
   "source": [
    "## Models"
   ]
  },
  {
   "cell_type": "markdown",
   "id": "c7a642f0-76aa-44ec-af5e-9cf929c0d620",
   "metadata": {},
   "source": [
    "### Logistic regression"
   ]
  },
  {
   "cell_type": "code",
   "execution_count": 50,
   "id": "b1134df6-a3c0-4b5f-800b-60cdcc42ea40",
   "metadata": {},
   "outputs": [
    {
     "name": "stdout",
     "output_type": "stream",
     "text": [
      "Best parameters:  {}\n",
      "Best score: 0.77\n",
      "CPU times: total: 281 ms\n",
      "Wall time: 293 ms\n"
     ]
    }
   ],
   "source": [
    "%%time\n",
    "\n",
    "model_lr = LogisticRegression()\n",
    "pipe_lr = Pipeline(steps=[('preprocessor', preprocessor),\n",
    "                        ('classifier', model_lr)])\n",
    "\n",
    "params_lr = {}\n",
    "\n",
    "grids_lr = GridSearchCV(pipe_lr, params_lr, cv=5, scoring='roc_auc')\n",
    "\n",
    "grids_lr.fit(X, y)\n",
    "\n",
    "print(\"Best parameters: \", grids_lr.best_params_)\n",
    "print(\"Best score: {:.2f}\".format(grids_lr.best_score_))"
   ]
  },
  {
   "cell_type": "markdown",
   "id": "6b4556b4-7e63-439a-acd4-43208a02fe48",
   "metadata": {},
   "source": [
    "### Ridge"
   ]
  },
  {
   "cell_type": "code",
   "execution_count": 51,
   "id": "30336d9f-55d3-43b4-80f8-ad85013fb5b8",
   "metadata": {},
   "outputs": [
    {
     "name": "stdout",
     "output_type": "stream",
     "text": [
      "Best parameters:  {'classifier__alpha': 1}\n",
      "Best score: 0.77\n",
      "CPU times: total: 5.66 s\n",
      "Wall time: 1.1 s\n"
     ]
    }
   ],
   "source": [
    "%%time\n",
    "\n",
    "model_ridge = Ridge()\n",
    "pipe_ridge = Pipeline(steps=[('preprocessor', preprocessor),\n",
    "                        ('classifier', model_ridge)])\n",
    "\n",
    "params_ridge = {\n",
    "    'classifier__alpha': [0.001, 0.01, 0.1, 1, 10, 100]\n",
    "}\n",
    "\n",
    "grids_ridge = GridSearchCV(pipe_ridge, params_ridge, cv=5, scoring='roc_auc')\n",
    "\n",
    "grids_ridge.fit(X, y)\n",
    "\n",
    "print(\"Best parameters: \", grids_ridge.best_params_)\n",
    "print(\"Best score: {:.2f}\".format(grids_ridge.best_score_))"
   ]
  },
  {
   "cell_type": "markdown",
   "id": "6fe00c28-8324-4461-bdbe-ff722a6a9c8c",
   "metadata": {},
   "source": [
    "Регуляризация L2 результата не дала"
   ]
  },
  {
   "cell_type": "markdown",
   "id": "b6a80d6f-c3aa-497b-b640-4a4d93aff63e",
   "metadata": {},
   "source": [
    "### Random Forest"
   ]
  },
  {
   "cell_type": "code",
   "execution_count": 52,
   "id": "43efbf3b-b2b6-43a0-9f05-7a716a8615fe",
   "metadata": {},
   "outputs": [
    {
     "name": "stdout",
     "output_type": "stream",
     "text": [
      "Fitting 5 folds for each of 108 candidates, totalling 540 fits\n",
      "Best parameters:  {'classifier__max_depth': 10, 'classifier__min_samples_leaf': 1, 'classifier__min_samples_split': 10, 'classifier__n_estimators': 200}\n",
      "Best score: 0.83\n",
      "CPU times: total: 5min 34s\n",
      "Wall time: 5min 35s\n"
     ]
    }
   ],
   "source": [
    "%%time\n",
    "\n",
    "model_forest = RandomForestClassifier(random_state=RANDOM_STATE)\n",
    "pipe_forest = Pipeline(steps=[('preprocessor', preprocessor),\n",
    "                        ('classifier', model_forest)])\n",
    "\n",
    "params_forest = {\n",
    "    'classifier__n_estimators': [50, 100, 200],\n",
    "    'classifier__max_depth': [None, 10, 20, 30],\n",
    "    'classifier__min_samples_split': [2, 5, 10],\n",
    "    'classifier__min_samples_leaf': [1, 2, 4]\n",
    "}\n",
    "\n",
    "grids_forest = GridSearchCV(pipe_forest, params_forest, cv=5, scoring='roc_auc', verbose=1)\n",
    "\n",
    "grids_forest.fit(X, y)\n",
    "\n",
    "print(\"Best parameters: \", grids_forest.best_params_)\n",
    "print(\"Best score: {:.2f}\".format(grids_forest.best_score_))"
   ]
  },
  {
   "cell_type": "markdown",
   "id": "7b2d8753-6ded-468f-89e6-61049724997c",
   "metadata": {},
   "source": [
    "### Catboost"
   ]
  },
  {
   "cell_type": "markdown",
   "id": "c9ec2a1f-f4c9-451e-9151-adee1cb17090",
   "metadata": {},
   "source": [
    "<div class=\"alert alert-info\">\n",
    "<b>Промежуточный вывод</b>\n",
    "\n",
    "Для Catboost я тоже буду использовать предобработанные признаки, т.к. с ними он работает быстрее, а результат тот же."
   ]
  },
  {
   "cell_type": "code",
   "execution_count": 53,
   "id": "e403e59f-8bda-465c-b288-07ad273c35ac",
   "metadata": {},
   "outputs": [
    {
     "name": "stdout",
     "output_type": "stream",
     "text": [
      "Fitting 5 folds for each of 16 candidates, totalling 80 fits\n",
      "Best parameters:  {'classifier__iterations': 1000, 'classifier__learning_rate': 0.1}\n",
      "Best score: 0.91\n",
      "CPU times: total: 1min 35s\n",
      "Wall time: 1min 47s\n"
     ]
    }
   ],
   "source": [
    "%%time\n",
    "\n",
    "model_catb = CatBoostClassifier(verbose=0, random_state=RANDOM_STATE)\n",
    "pipe_catb = Pipeline(steps=[('preprocessor', preprocessor),\n",
    "                        ('classifier', model_catb)])\n",
    "\n",
    "params_catb = {\n",
    "    'classifier__iterations': [100, 200, 500, 1000],\n",
    "    'classifier__learning_rate': [0.01, 0.05, 0.1, 0.2]\n",
    "}\n",
    "\n",
    "grids_catb = GridSearchCV(pipe_catb, params_catb, cv=5, scoring='roc_auc', verbose=1)\n",
    "\n",
    "grids_catb.fit(X, y)\n",
    "\n",
    "print(\"Best parameters: \", grids_catb.best_params_)\n",
    "print(\"Best score: {:.2f}\".format(grids_catb.best_score_))"
   ]
  },
  {
   "cell_type": "markdown",
   "id": "8ca5fc07-1dca-425a-8b7e-8ffc2e145d4d",
   "metadata": {},
   "source": [
    "## Test"
   ]
  },
  {
   "cell_type": "code",
   "execution_count": 54,
   "id": "9ce61199",
   "metadata": {},
   "outputs": [
    {
     "data": {
      "text/plain": [
       "{'classifier__iterations': 1000, 'classifier__learning_rate': 0.1}"
      ]
     },
     "execution_count": 54,
     "metadata": {},
     "output_type": "execute_result"
    }
   ],
   "source": [
    "grids_catb.best_params_"
   ]
  },
  {
   "cell_type": "code",
   "execution_count": 55,
   "id": "0183b012",
   "metadata": {},
   "outputs": [
    {
     "name": "stdout",
     "output_type": "stream",
     "text": [
      "Результат ROC-AUC на тестовой выборке: 0.92\n"
     ]
    }
   ],
   "source": [
    "best_model = CatBoostClassifier(\n",
    "    verbose=0,\n",
    "    random_state=RANDOM_STATE,\n",
    "    iterations=1000,\n",
    "    learning_rate=0.1\n",
    ")\n",
    "\n",
    "best_model.fit(X, y, cat_features=cat_features)\n",
    "predictions_test = best_model.predict_proba(X_test)\n",
    "test_score = roc_auc_score(y_test, predictions_test[:,1])\n",
    "print(\"Результат ROC-AUC на тестовой выборке: {:.2f}\".format(test_score))"
   ]
  },
  {
   "cell_type": "markdown",
   "id": "69f65521-0a50-4e62-8765-0d56d72014d9",
   "metadata": {},
   "source": [
    "Результат на тесте ROC-AUC = 0.92"
   ]
  },
  {
   "cell_type": "code",
   "execution_count": 56,
   "id": "14bcd8f1",
   "metadata": {},
   "outputs": [],
   "source": [
    "# Вывод feature importance\n",
    "feature_importances = best_model.get_feature_importance()\n",
    "feature_names = best_model.feature_names_\n",
    "\n",
    "importances = pd.DataFrame({'feature_names':feature_names,\n",
    "                            'feature_importance':feature_importances})\n",
    "importances = importances.merge(phik_label, how='left', left_on='feature_names', right_on=phik_label.index).\\\n",
    "        rename(columns={'label':'phik_coef'}).sort_values('feature_importance', ascending=False).\\\n",
    "        reset_index(drop=True)"
   ]
  },
  {
   "cell_type": "code",
   "execution_count": 57,
   "id": "e9a9e455",
   "metadata": {},
   "outputs": [
    {
     "data": {
      "text/html": [
       "<style type=\"text/css\">\n",
       "#T_fbdaf_row0_col1, #T_fbdaf_row0_col2 {\n",
       "  background-color: #7f2704;\n",
       "  color: #f1f1f1;\n",
       "}\n",
       "#T_fbdaf_row1_col1 {\n",
       "  background-color: #fdbd83;\n",
       "  color: #000000;\n",
       "}\n",
       "#T_fbdaf_row1_col2, #T_fbdaf_row6_col2 {\n",
       "  background-color: #f4711c;\n",
       "  color: #f1f1f1;\n",
       "}\n",
       "#T_fbdaf_row2_col1 {\n",
       "  background-color: #fdc28b;\n",
       "  color: #000000;\n",
       "}\n",
       "#T_fbdaf_row2_col2 {\n",
       "  background-color: #c14002;\n",
       "  color: #f1f1f1;\n",
       "}\n",
       "#T_fbdaf_row3_col1 {\n",
       "  background-color: #fdd3a7;\n",
       "  color: #000000;\n",
       "}\n",
       "#T_fbdaf_row3_col2 {\n",
       "  background-color: #fdd3a9;\n",
       "  color: #000000;\n",
       "}\n",
       "#T_fbdaf_row4_col1 {\n",
       "  background-color: #fee6ce;\n",
       "  color: #000000;\n",
       "}\n",
       "#T_fbdaf_row4_col2 {\n",
       "  background-color: #f77a27;\n",
       "  color: #f1f1f1;\n",
       "}\n",
       "#T_fbdaf_row5_col1 {\n",
       "  background-color: #fee8d2;\n",
       "  color: #000000;\n",
       "}\n",
       "#T_fbdaf_row5_col2 {\n",
       "  background-color: #d84801;\n",
       "  color: #f1f1f1;\n",
       "}\n",
       "#T_fbdaf_row6_col1 {\n",
       "  background-color: #feeddb;\n",
       "  color: #000000;\n",
       "}\n",
       "#T_fbdaf_row7_col1 {\n",
       "  background-color: #ffefdf;\n",
       "  color: #000000;\n",
       "}\n",
       "#T_fbdaf_row7_col2 {\n",
       "  background-color: #f98230;\n",
       "  color: #f1f1f1;\n",
       "}\n",
       "#T_fbdaf_row8_col1 {\n",
       "  background-color: #ffefe0;\n",
       "  color: #000000;\n",
       "}\n",
       "#T_fbdaf_row8_col2 {\n",
       "  background-color: #fdca99;\n",
       "  color: #000000;\n",
       "}\n",
       "#T_fbdaf_row9_col1 {\n",
       "  background-color: #fff1e3;\n",
       "  color: #000000;\n",
       "}\n",
       "#T_fbdaf_row9_col2 {\n",
       "  background-color: #f67824;\n",
       "  color: #f1f1f1;\n",
       "}\n",
       "#T_fbdaf_row10_col1, #T_fbdaf_row11_col1, #T_fbdaf_row12_col1 {\n",
       "  background-color: #fff4e8;\n",
       "  color: #000000;\n",
       "}\n",
       "#T_fbdaf_row10_col2 {\n",
       "  background-color: #feddbc;\n",
       "  color: #000000;\n",
       "}\n",
       "#T_fbdaf_row11_col2 {\n",
       "  background-color: #fee9d3;\n",
       "  color: #000000;\n",
       "}\n",
       "#T_fbdaf_row12_col2, #T_fbdaf_row16_col1, #T_fbdaf_row17_col1 {\n",
       "  background-color: #fff5eb;\n",
       "  color: #000000;\n",
       "}\n",
       "#T_fbdaf_row13_col1 {\n",
       "  background-color: #fff4e9;\n",
       "  color: #000000;\n",
       "}\n",
       "#T_fbdaf_row13_col2 {\n",
       "  background-color: #f9802d;\n",
       "  color: #f1f1f1;\n",
       "}\n",
       "#T_fbdaf_row14_col1, #T_fbdaf_row15_col1 {\n",
       "  background-color: #fff5ea;\n",
       "  color: #000000;\n",
       "}\n",
       "#T_fbdaf_row14_col2 {\n",
       "  background-color: #fd9446;\n",
       "  color: #000000;\n",
       "}\n",
       "#T_fbdaf_row15_col2 {\n",
       "  background-color: #fdd8b2;\n",
       "  color: #000000;\n",
       "}\n",
       "#T_fbdaf_row16_col2 {\n",
       "  background-color: #fdd1a3;\n",
       "  color: #000000;\n",
       "}\n",
       "#T_fbdaf_row17_col2 {\n",
       "  background-color: #fdd7af;\n",
       "  color: #000000;\n",
       "}\n",
       "</style>\n",
       "<table id=\"T_fbdaf\">\n",
       "  <thead>\n",
       "    <tr>\n",
       "      <th class=\"blank level0\" >&nbsp;</th>\n",
       "      <th id=\"T_fbdaf_level0_col0\" class=\"col_heading level0 col0\" >feature_names</th>\n",
       "      <th id=\"T_fbdaf_level0_col1\" class=\"col_heading level0 col1\" >feature_importance</th>\n",
       "      <th id=\"T_fbdaf_level0_col2\" class=\"col_heading level0 col2\" >phik_coef</th>\n",
       "    </tr>\n",
       "  </thead>\n",
       "  <tbody>\n",
       "    <tr>\n",
       "      <th id=\"T_fbdaf_level0_row0\" class=\"row_heading level0 row0\" >0</th>\n",
       "      <td id=\"T_fbdaf_row0_col0\" class=\"data row0 col0\" >duration</td>\n",
       "      <td id=\"T_fbdaf_row0_col1\" class=\"data row0 col1\" >34.017497</td>\n",
       "      <td id=\"T_fbdaf_row0_col2\" class=\"data row0 col2\" >0.374569</td>\n",
       "    </tr>\n",
       "    <tr>\n",
       "      <th id=\"T_fbdaf_level0_row1\" class=\"row_heading level0 row1\" >1</th>\n",
       "      <td id=\"T_fbdaf_row1_col0\" class=\"data row1 col0\" >monthly_charges</td>\n",
       "      <td id=\"T_fbdaf_row1_col1\" class=\"data row1 col1\" >11.790798</td>\n",
       "      <td id=\"T_fbdaf_row1_col2\" class=\"data row1 col2\" >0.225925</td>\n",
       "    </tr>\n",
       "    <tr>\n",
       "      <th id=\"T_fbdaf_level0_row2\" class=\"row_heading level0 row2\" >2</th>\n",
       "      <td id=\"T_fbdaf_row2_col0\" class=\"data row2 col0\" >total_charges</td>\n",
       "      <td id=\"T_fbdaf_row2_col1\" class=\"data row2 col1\" >11.177403</td>\n",
       "      <td id=\"T_fbdaf_row2_col2\" class=\"data row2 col2\" >0.303758</td>\n",
       "    </tr>\n",
       "    <tr>\n",
       "      <th id=\"T_fbdaf_level0_row3\" class=\"row_heading level0 row3\" >3</th>\n",
       "      <td id=\"T_fbdaf_row3_col0\" class=\"data row3 col0\" >type</td>\n",
       "      <td id=\"T_fbdaf_row3_col1\" class=\"data row3 col1\" >8.959917</td>\n",
       "      <td id=\"T_fbdaf_row3_col2\" class=\"data row3 col2\" >0.094015</td>\n",
       "    </tr>\n",
       "    <tr>\n",
       "      <th id=\"T_fbdaf_level0_row4\" class=\"row_heading level0 row4\" >4</th>\n",
       "      <td id=\"T_fbdaf_row4_col0\" class=\"data row4 col0\" >payment_method</td>\n",
       "      <td id=\"T_fbdaf_row4_col1\" class=\"data row4 col1\" >5.442141</td>\n",
       "      <td id=\"T_fbdaf_row4_col2\" class=\"data row4 col2\" >0.214832</td>\n",
       "    </tr>\n",
       "    <tr>\n",
       "      <th id=\"T_fbdaf_level0_row5\" class=\"row_heading level0 row5\" >5</th>\n",
       "      <td id=\"T_fbdaf_row5_col0\" class=\"data row5 col0\" >multiple_lines</td>\n",
       "      <td id=\"T_fbdaf_row5_col1\" class=\"data row5 col1\" >4.839544</td>\n",
       "      <td id=\"T_fbdaf_row5_col2\" class=\"data row5 col2\" >0.283076</td>\n",
       "    </tr>\n",
       "    <tr>\n",
       "      <th id=\"T_fbdaf_level0_row6\" class=\"row_heading level0 row6\" >6</th>\n",
       "      <td id=\"T_fbdaf_row6_col0\" class=\"data row6 col0\" >partner</td>\n",
       "      <td id=\"T_fbdaf_row6_col1\" class=\"data row6 col1\" >3.622293</td>\n",
       "      <td id=\"T_fbdaf_row6_col2\" class=\"data row6 col2\" >0.226688</td>\n",
       "    </tr>\n",
       "    <tr>\n",
       "      <th id=\"T_fbdaf_level0_row7\" class=\"row_heading level0 row7\" >7</th>\n",
       "      <td id=\"T_fbdaf_row7_col0\" class=\"data row7 col0\" >device_protection</td>\n",
       "      <td id=\"T_fbdaf_row7_col1\" class=\"data row7 col1\" >2.892349</td>\n",
       "      <td id=\"T_fbdaf_row7_col2\" class=\"data row7 col2\" >0.205516</td>\n",
       "    </tr>\n",
       "    <tr>\n",
       "      <th id=\"T_fbdaf_level0_row8\" class=\"row_heading level0 row8\" >8</th>\n",
       "      <td id=\"T_fbdaf_row8_col0\" class=\"data row8 col0\" >online_security</td>\n",
       "      <td id=\"T_fbdaf_row8_col1\" class=\"data row8 col1\" >2.814327</td>\n",
       "      <td id=\"T_fbdaf_row8_col2\" class=\"data row8 col2\" >0.107962</td>\n",
       "    </tr>\n",
       "    <tr>\n",
       "      <th id=\"T_fbdaf_level0_row9\" class=\"row_heading level0 row9\" >9</th>\n",
       "      <td id=\"T_fbdaf_row9_col0\" class=\"data row9 col0\" >online_backup</td>\n",
       "      <td id=\"T_fbdaf_row9_col1\" class=\"data row9 col1\" >2.427929</td>\n",
       "      <td id=\"T_fbdaf_row9_col2\" class=\"data row9 col2\" >0.218638</td>\n",
       "    </tr>\n",
       "    <tr>\n",
       "      <th id=\"T_fbdaf_level0_row10\" class=\"row_heading level0 row10\" >10</th>\n",
       "      <td id=\"T_fbdaf_row10_col0\" class=\"data row10 col0\" >tech_support</td>\n",
       "      <td id=\"T_fbdaf_row10_col1\" class=\"data row10 col1\" >1.703526</td>\n",
       "      <td id=\"T_fbdaf_row10_col2\" class=\"data row10 col2\" >0.073561</td>\n",
       "    </tr>\n",
       "    <tr>\n",
       "      <th id=\"T_fbdaf_level0_row11\" class=\"row_heading level0 row11\" >11</th>\n",
       "      <td id=\"T_fbdaf_row11_col0\" class=\"data row11 col0\" >dependents</td>\n",
       "      <td id=\"T_fbdaf_row11_col1\" class=\"data row11 col1\" >1.675377</td>\n",
       "      <td id=\"T_fbdaf_row11_col2\" class=\"data row11 col2\" >0.046871</td>\n",
       "    </tr>\n",
       "    <tr>\n",
       "      <th id=\"T_fbdaf_level0_row12\" class=\"row_heading level0 row12\" >12</th>\n",
       "      <td id=\"T_fbdaf_row12_col0\" class=\"data row12 col0\" >gender</td>\n",
       "      <td id=\"T_fbdaf_row12_col1\" class=\"data row12 col1\" >1.670808</td>\n",
       "      <td id=\"T_fbdaf_row12_col2\" class=\"data row12 col2\" >0.008581</td>\n",
       "    </tr>\n",
       "    <tr>\n",
       "      <th id=\"T_fbdaf_level0_row13\" class=\"row_heading level0 row13\" >13</th>\n",
       "      <td id=\"T_fbdaf_row13_col0\" class=\"data row13 col0\" >streaming_movies</td>\n",
       "      <td id=\"T_fbdaf_row13_col1\" class=\"data row13 col1\" >1.558123</td>\n",
       "      <td id=\"T_fbdaf_row13_col2\" class=\"data row13 col2\" >0.208651</td>\n",
       "    </tr>\n",
       "    <tr>\n",
       "      <th id=\"T_fbdaf_level0_row14\" class=\"row_heading level0 row14\" >14</th>\n",
       "      <td id=\"T_fbdaf_row14_col0\" class=\"data row14 col0\" >streaming_tv</td>\n",
       "      <td id=\"T_fbdaf_row14_col1\" class=\"data row14 col1\" >1.471969</td>\n",
       "      <td id=\"T_fbdaf_row14_col2\" class=\"data row14 col2\" >0.182185</td>\n",
       "    </tr>\n",
       "    <tr>\n",
       "      <th id=\"T_fbdaf_level0_row15\" class=\"row_heading level0 row15\" >15</th>\n",
       "      <td id=\"T_fbdaf_row15_col0\" class=\"data row15 col0\" >paperless_billing</td>\n",
       "      <td id=\"T_fbdaf_row15_col1\" class=\"data row15 col1\" >1.442492</td>\n",
       "      <td id=\"T_fbdaf_row15_col2\" class=\"data row15 col2\" >0.083398</td>\n",
       "    </tr>\n",
       "    <tr>\n",
       "      <th id=\"T_fbdaf_level0_row16\" class=\"row_heading level0 row16\" >16</th>\n",
       "      <td id=\"T_fbdaf_row16_col0\" class=\"data row16 col0\" >internet_service</td>\n",
       "      <td id=\"T_fbdaf_row16_col1\" class=\"data row16 col1\" >1.277226</td>\n",
       "      <td id=\"T_fbdaf_row16_col2\" class=\"data row16 col2\" >0.098956</td>\n",
       "    </tr>\n",
       "    <tr>\n",
       "      <th id=\"T_fbdaf_level0_row17\" class=\"row_heading level0 row17\" >17</th>\n",
       "      <td id=\"T_fbdaf_row17_col0\" class=\"data row17 col0\" >senior_citizen</td>\n",
       "      <td id=\"T_fbdaf_row17_col1\" class=\"data row17 col1\" >1.216282</td>\n",
       "      <td id=\"T_fbdaf_row17_col2\" class=\"data row17 col2\" >0.086159</td>\n",
       "    </tr>\n",
       "  </tbody>\n",
       "</table>\n"
      ],
      "text/plain": [
       "<pandas.io.formats.style.Styler at 0x136167780d0>"
      ]
     },
     "execution_count": 57,
     "metadata": {},
     "output_type": "execute_result"
    }
   ],
   "source": [
    "importances.style.background_gradient(axis=0, cmap='Oranges')"
   ]
  },
  {
   "cell_type": "markdown",
   "id": "7b1783ff",
   "metadata": {},
   "source": [
    "<div class=\"alert alert-info\">\n",
    "<b>Промежуточный вывод</b>\n",
    "\n",
    "Самыми полезными признаками оказались: продолжительность контракта и размеры платежей (в месяц и всего). Сравнивая показатели `feature_importance` и коэффициентами корреляции $\\phi$ можно сделать вывод, что такие признаки как `streaming_tv` и `streaming_movies` оказались не так полезны. И наоборот, тип подписки `type` и метод взаиморасчетов `payment_method` оказались более полезны, чем предполагалось."
   ]
  },
  {
   "cell_type": "code",
   "execution_count": 61,
   "id": "a25ab96b",
   "metadata": {},
   "outputs": [
    {
     "data": {
      "image/png": "[encoded data removed]",
      "text/plain": [
       "<Figure size 800x800 with 1 Axes>"
      ]
     },
     "metadata": {},
     "output_type": "display_data"
    }
   ],
   "source": [
    "# Строим ROC-curve\n",
    "fpr, tpr, thresholds = roc_curve(y_test, predictions_test[:,1])\n",
    "\n",
    "plt.figure(figsize=(8, 8))\n",
    "plt.plot(fpr, tpr, color='darkorange', lw=2, label=f'ROC curve (AUC = {test_score:.2f})')\n",
    "plt.plot([0, 1], [0, 1], color='navy', lw=2, linestyle='--', label='Random')\n",
    "plt.xlabel('False Positive Rate')\n",
    "plt.ylabel('True Positive Rate')\n",
    "plt.title('ROC Curve')\n",
    "plt.legend(loc='lower right')\n",
    "plt.show()"
   ]
  },
  {
   "cell_type": "markdown",
   "id": "6f669999-c0bb-4021-95fa-647e364f934d",
   "metadata": {},
   "source": [
    "## Summary"
   ]
  },
  {
   "cell_type": "markdown",
   "id": "236af841-1117-4785-ac70-01b4fb3fc3f8",
   "metadata": {},
   "source": [
    "<div class=\"alert alert-info\">\n",
    "<b>Вывод</b>\n",
    "\n",
    "1. Были получены данные, состоящие из 4 датасетов: Contract Data, Personal Data, Internet Data и Phone Data.\n",
    "\n",
    "2. Некоторые наблюдения из данных.\n",
    "\n",
    "* Начиная с 2013 года клиентская база растет. Количество приходящих клиентов в год до 2016 года плавно снижалось, но в 2019 году был рост в 118% по сравнению с предыдущим годом. Количество уходящих клиентов тоже растет с ростом клиентской базы.  \n",
    "\n",
    "* Доля клиентов с платежами около $22\\$$: $23\\%$. Остальные платят в среднем $78\\$$  \n",
    "\n",
    "* Больше половины клиентов имеют интернет по оптике. Самые популярные услуги - стриминг ТВ и фльмы.  \n",
    "\n",
    "* Около половины имеют телефон с несколькими линиями. "
   ]
  },
  {
   "cell_type": "markdown",
   "id": "592bd15f",
   "metadata": {},
   "source": [
    "<div class=\"alert alert-info\">\n",
    "\n",
    "3. Про корреляцию\n",
    "\n",
    "* Наибольший коэффициент корреляции фи с таргетом имеют: продолжительность контракта `duration`, общие затраты `total_charges`  и наличие нескольких линий телефона `multiple_lines`.  \n",
    "\n",
    "* В свою очередь, на общие затраты больше всего влияют (логично) - дата заключения контракта и размер ежемесячных платежей, а из подключенных услуг: `multiple_lines`, `streaming_tv`, `streaming_movies`, `online_backup` и `device_protection`.\n",
    "\n",
    "* Для сравнения, с ежемесячные затратами больше всего коррелирует признак `internet_service`, и в меньшей степени - `streaming_tv` и `streaming_movies`.\n",
    "\n",
    "* Также можно заметить, что с таргетом практически не коррелируют: пол `gender`, наличие детей `dependents`, и пенсионный возраст `senior_citizen`.  \n",
    "\n",
    "* В среднем, клиенты, которые находятся в браке, отказываются от услуг чаще.  \n",
    "\n",
    "* По результату EDA можно сделать вывод, что \"средний\" клиент, который хочет расторгнуть договор: пришел в компанию довольно давно и имеет высокие размеры платежей. Из подключенных услуг имеет в первую очередь телефон на несколько линий и стриминговые сервисы."
   ]
  },
  {
   "cell_type": "markdown",
   "id": "87e21fdf-b6c9-4196-a01b-30d4f106a403",
   "metadata": {},
   "source": [
    "<div class=\"alert alert-info\">\n",
    "\n",
    "4. Подготовка данных.  \n",
    "    * Около `20%` пропусков содержали признаки: `internet_service`, `online_security`, `streaming_movies`, `streaming_tv`, `tech_support`, `device_protection`, `online_backup`, около `10%`: `multiple_lines`. Все были заполнены \"заглушками\" `unknown`.\n",
    "    * Для категориальных признаков использовался One Hot Encoder, для числовых - StandardScaler.\n",
    "5. Модели.\n",
    "   * Были использованы модели: Logistic Regression, Ridge Regression, Random Forest и CatBoost.\n",
    "   * Лучший результат на train показал CatBoost: $ROC-AUC=0.91$.\n",
    "6. Результат CatBoost на test: $ROC-AUC=0.92$"
   ]
  },
  {
   "cell_type": "markdown",
   "id": "0e948bfb",
   "metadata": {},
   "source": [
    "<div class=\"alert alert-info\">\n",
    "\n",
    "7. Рекомендации\n",
    "\n",
    "Самыми полезными признаками оказались: продолжительность контракта и размеры платежей (в месяц и всего). Можно порекомендовать предлагать старым клиентам как-то оптимизировать свои расходы, например, путем перехода на новые тарифы или выбора новых услуг вместо неиспользуемых.\n",
    "\n",
    "Также весомыми признаками оказались:\n",
    "* тип подписки `type`: клиенты, которые имеют годовую и двух-годовую подписку, более склонны к оттоку. \n",
    "* и метод взаиморасчетов `payment_method`: клиенты, у которых оформлено автопополнение баланса, также более склонны к оттоку.\n",
    "\n",
    "Можно также порекомендовать \"напоминать\" клиентам ближе к концу оплаченного периода о разных услугах в компании и возможностях оптимизировать свои расходы."
   ]
  },
  {
   "cell_type": "code",
   "execution_count": null,
   "id": "470acd81-5216-4955-b2fa-3c68806ff939",
   "metadata": {},
   "outputs": [],
   "source": []
  }
 ],
 "metadata": {
  "ExecuteTimeLog": [
   {
    "duration": 29781,
    "start_time": "2023-11-30T14:31:27.626Z"
   },
   {
    "duration": 2679,
    "start_time": "2023-11-30T14:32:40.543Z"
   },
   {
    "duration": 2708,
    "start_time": "2023-11-30T14:32:48.552Z"
   },
   {
    "duration": 2531,
    "start_time": "2023-11-30T14:32:57.342Z"
   },
   {
    "duration": 2817,
    "start_time": "2023-11-30T14:33:04.649Z"
   },
   {
    "duration": 7738,
    "start_time": "2023-11-30T14:33:35.936Z"
   },
   {
    "duration": 2975,
    "start_time": "2023-11-30T14:33:43.676Z"
   },
   {
    "duration": 208,
    "start_time": "2023-11-30T14:33:46.652Z"
   },
   {
    "duration": 0,
    "start_time": "2023-11-30T14:33:46.864Z"
   },
   {
    "duration": 0,
    "start_time": "2023-11-30T14:33:46.865Z"
   },
   {
    "duration": 0,
    "start_time": "2023-11-30T14:33:46.866Z"
   },
   {
    "duration": 0,
    "start_time": "2023-11-30T14:33:46.867Z"
   },
   {
    "duration": 0,
    "start_time": "2023-11-30T14:33:46.869Z"
   },
   {
    "duration": 0,
    "start_time": "2023-11-30T14:33:46.870Z"
   },
   {
    "duration": 0,
    "start_time": "2023-11-30T14:33:46.871Z"
   },
   {
    "duration": 0,
    "start_time": "2023-11-30T14:33:46.872Z"
   },
   {
    "duration": 0,
    "start_time": "2023-11-30T14:33:46.873Z"
   },
   {
    "duration": 0,
    "start_time": "2023-11-30T14:33:46.874Z"
   },
   {
    "duration": 0,
    "start_time": "2023-11-30T14:33:46.875Z"
   },
   {
    "duration": 0,
    "start_time": "2023-11-30T14:33:46.876Z"
   },
   {
    "duration": 0,
    "start_time": "2023-11-30T14:33:46.877Z"
   },
   {
    "duration": 0,
    "start_time": "2023-11-30T14:33:46.878Z"
   },
   {
    "duration": 0,
    "start_time": "2023-11-30T14:33:46.879Z"
   },
   {
    "duration": 0,
    "start_time": "2023-11-30T14:33:46.880Z"
   },
   {
    "duration": 0,
    "start_time": "2023-11-30T14:33:46.881Z"
   },
   {
    "duration": 0,
    "start_time": "2023-11-30T14:33:46.882Z"
   },
   {
    "duration": 0,
    "start_time": "2023-11-30T14:33:46.883Z"
   },
   {
    "duration": 0,
    "start_time": "2023-11-30T14:33:46.884Z"
   },
   {
    "duration": 0,
    "start_time": "2023-11-30T14:33:46.922Z"
   },
   {
    "duration": 0,
    "start_time": "2023-11-30T14:33:46.923Z"
   },
   {
    "duration": 0,
    "start_time": "2023-11-30T14:33:46.924Z"
   },
   {
    "duration": 0,
    "start_time": "2023-11-30T14:33:46.925Z"
   },
   {
    "duration": 0,
    "start_time": "2023-11-30T14:33:46.926Z"
   },
   {
    "duration": 0,
    "start_time": "2023-11-30T14:33:46.927Z"
   },
   {
    "duration": 0,
    "start_time": "2023-11-30T14:33:46.928Z"
   },
   {
    "duration": 0,
    "start_time": "2023-11-30T14:33:46.929Z"
   },
   {
    "duration": 0,
    "start_time": "2023-11-30T14:33:46.930Z"
   },
   {
    "duration": 0,
    "start_time": "2023-11-30T14:33:46.931Z"
   },
   {
    "duration": 0,
    "start_time": "2023-11-30T14:33:46.932Z"
   },
   {
    "duration": 0,
    "start_time": "2023-11-30T14:33:46.933Z"
   },
   {
    "duration": 0,
    "start_time": "2023-11-30T14:33:46.935Z"
   },
   {
    "duration": 0,
    "start_time": "2023-11-30T14:33:46.936Z"
   },
   {
    "duration": 0,
    "start_time": "2023-11-30T14:33:46.937Z"
   },
   {
    "duration": 0,
    "start_time": "2023-11-30T14:33:46.938Z"
   },
   {
    "duration": 0,
    "start_time": "2023-11-30T14:33:46.939Z"
   },
   {
    "duration": 0,
    "start_time": "2023-11-30T14:33:46.941Z"
   },
   {
    "duration": 0,
    "start_time": "2023-11-30T14:33:46.942Z"
   },
   {
    "duration": 0,
    "start_time": "2023-11-30T14:33:46.943Z"
   },
   {
    "duration": 0,
    "start_time": "2023-11-30T14:33:46.944Z"
   },
   {
    "duration": 0,
    "start_time": "2023-11-30T14:33:46.945Z"
   },
   {
    "duration": 0,
    "start_time": "2023-11-30T14:33:46.946Z"
   },
   {
    "duration": 0,
    "start_time": "2023-11-30T14:33:46.947Z"
   },
   {
    "duration": 0,
    "start_time": "2023-11-30T14:33:46.948Z"
   },
   {
    "duration": 0,
    "start_time": "2023-11-30T14:33:46.949Z"
   },
   {
    "duration": 0,
    "start_time": "2023-11-30T14:33:46.950Z"
   },
   {
    "duration": 0,
    "start_time": "2023-11-30T14:33:46.951Z"
   },
   {
    "duration": 0,
    "start_time": "2023-11-30T14:33:46.952Z"
   },
   {
    "duration": 0,
    "start_time": "2023-11-30T14:33:46.953Z"
   },
   {
    "duration": 0,
    "start_time": "2023-11-30T14:33:46.954Z"
   },
   {
    "duration": 0,
    "start_time": "2023-11-30T14:33:46.956Z"
   },
   {
    "duration": 0,
    "start_time": "2023-11-30T14:33:47.022Z"
   },
   {
    "duration": 0,
    "start_time": "2023-11-30T14:33:47.023Z"
   },
   {
    "duration": 0,
    "start_time": "2023-11-30T14:33:47.025Z"
   },
   {
    "duration": 0,
    "start_time": "2023-11-30T14:33:47.026Z"
   },
   {
    "duration": 0,
    "start_time": "2023-11-30T14:33:47.027Z"
   },
   {
    "duration": 0,
    "start_time": "2023-11-30T14:33:47.028Z"
   },
   {
    "duration": 0,
    "start_time": "2023-11-30T14:33:47.029Z"
   },
   {
    "duration": 0,
    "start_time": "2023-11-30T14:33:47.030Z"
   },
   {
    "duration": 0,
    "start_time": "2023-11-30T14:33:47.031Z"
   },
   {
    "duration": 0,
    "start_time": "2023-11-30T14:33:47.032Z"
   },
   {
    "duration": 0,
    "start_time": "2023-11-30T14:33:47.033Z"
   },
   {
    "duration": 0,
    "start_time": "2023-11-30T14:33:47.034Z"
   },
   {
    "duration": 0,
    "start_time": "2023-11-30T14:33:47.035Z"
   },
   {
    "duration": 0,
    "start_time": "2023-11-30T14:33:47.036Z"
   },
   {
    "duration": 0,
    "start_time": "2023-11-30T14:33:47.037Z"
   },
   {
    "duration": 0,
    "start_time": "2023-11-30T14:33:47.038Z"
   },
   {
    "duration": 0,
    "start_time": "2023-11-30T14:33:47.039Z"
   },
   {
    "duration": 0,
    "start_time": "2023-11-30T14:33:47.041Z"
   },
   {
    "duration": 0,
    "start_time": "2023-11-30T14:33:47.042Z"
   },
   {
    "duration": 0,
    "start_time": "2023-11-30T14:33:47.042Z"
   },
   {
    "duration": 0,
    "start_time": "2023-11-30T14:33:47.044Z"
   },
   {
    "duration": 0,
    "start_time": "2023-11-30T14:33:47.045Z"
   },
   {
    "duration": 0,
    "start_time": "2023-11-30T14:33:47.046Z"
   },
   {
    "duration": 0,
    "start_time": "2023-11-30T14:33:47.047Z"
   },
   {
    "duration": 0,
    "start_time": "2023-11-30T14:33:47.048Z"
   },
   {
    "duration": 0,
    "start_time": "2023-11-30T14:33:47.049Z"
   },
   {
    "duration": 84,
    "start_time": "2023-11-30T14:36:12.711Z"
   },
   {
    "duration": 8595,
    "start_time": "2023-11-30T14:36:39.115Z"
   },
   {
    "duration": 2579,
    "start_time": "2023-11-30T14:36:47.712Z"
   },
   {
    "duration": 44,
    "start_time": "2023-11-30T14:36:50.292Z"
   },
   {
    "duration": 3,
    "start_time": "2023-11-30T14:36:50.338Z"
   },
   {
    "duration": 18,
    "start_time": "2023-11-30T14:36:50.343Z"
   },
   {
    "duration": 18,
    "start_time": "2023-11-30T14:36:50.363Z"
   },
   {
    "duration": 11,
    "start_time": "2023-11-30T14:36:50.383Z"
   },
   {
    "duration": 27,
    "start_time": "2023-11-30T14:36:50.396Z"
   },
   {
    "duration": 16,
    "start_time": "2023-11-30T14:36:50.424Z"
   },
   {
    "duration": 207,
    "start_time": "2023-11-30T14:36:50.442Z"
   },
   {
    "duration": 4,
    "start_time": "2023-11-30T14:36:50.651Z"
   },
   {
    "duration": 175,
    "start_time": "2023-11-30T14:36:50.657Z"
   },
   {
    "duration": 143,
    "start_time": "2023-11-30T14:36:50.834Z"
   },
   {
    "duration": 7,
    "start_time": "2023-11-30T14:36:50.980Z"
   },
   {
    "duration": 14,
    "start_time": "2023-11-30T14:36:50.989Z"
   },
   {
    "duration": 16,
    "start_time": "2023-11-30T14:36:51.005Z"
   },
   {
    "duration": 146,
    "start_time": "2023-11-30T14:36:51.022Z"
   },
   {
    "duration": 8,
    "start_time": "2023-11-30T14:36:51.170Z"
   },
   {
    "duration": 124,
    "start_time": "2023-11-30T14:36:51.180Z"
   },
   {
    "duration": 103,
    "start_time": "2023-11-30T14:36:51.306Z"
   },
   {
    "duration": 3,
    "start_time": "2023-11-30T14:36:51.411Z"
   },
   {
    "duration": 19,
    "start_time": "2023-11-30T14:36:51.416Z"
   },
   {
    "duration": 12,
    "start_time": "2023-11-30T14:36:51.437Z"
   },
   {
    "duration": 14,
    "start_time": "2023-11-30T14:36:51.451Z"
   },
   {
    "duration": 48,
    "start_time": "2023-11-30T14:36:51.467Z"
   },
   {
    "duration": 58,
    "start_time": "2023-11-30T14:36:51.516Z"
   },
   {
    "duration": 24,
    "start_time": "2023-11-30T14:36:51.576Z"
   },
   {
    "duration": 9,
    "start_time": "2023-11-30T14:36:51.602Z"
   },
   {
    "duration": 98,
    "start_time": "2023-11-30T14:36:51.612Z"
   },
   {
    "duration": 111,
    "start_time": "2023-11-30T14:36:51.711Z"
   },
   {
    "duration": 24,
    "start_time": "2023-11-30T14:36:51.824Z"
   },
   {
    "duration": 7,
    "start_time": "2023-11-30T14:36:51.849Z"
   },
   {
    "duration": 7,
    "start_time": "2023-11-30T14:36:51.857Z"
   },
   {
    "duration": 18,
    "start_time": "2023-11-30T14:36:51.865Z"
   },
   {
    "duration": 9,
    "start_time": "2023-11-30T14:36:51.885Z"
   },
   {
    "duration": 17,
    "start_time": "2023-11-30T14:36:51.895Z"
   },
   {
    "duration": 10,
    "start_time": "2023-11-30T14:36:51.913Z"
   },
   {
    "duration": 46,
    "start_time": "2023-11-30T14:36:51.924Z"
   },
   {
    "duration": 79,
    "start_time": "2023-11-30T14:36:51.972Z"
   },
   {
    "duration": 4,
    "start_time": "2023-11-30T14:36:52.052Z"
   },
   {
    "duration": 15,
    "start_time": "2023-11-30T14:36:52.060Z"
   },
   {
    "duration": 23,
    "start_time": "2023-11-30T14:36:52.077Z"
   },
   {
    "duration": 14,
    "start_time": "2023-11-30T14:36:52.102Z"
   },
   {
    "duration": 80,
    "start_time": "2023-11-30T14:36:52.118Z"
   },
   {
    "duration": 24,
    "start_time": "2023-11-30T14:36:52.199Z"
   },
   {
    "duration": 36,
    "start_time": "2023-11-30T14:36:52.224Z"
   },
   {
    "duration": 22,
    "start_time": "2023-11-30T14:36:52.262Z"
   },
   {
    "duration": 1661,
    "start_time": "2023-11-30T14:36:52.285Z"
   },
   {
    "duration": 80,
    "start_time": "2023-11-30T14:36:53.948Z"
   },
   {
    "duration": 4,
    "start_time": "2023-11-30T14:36:54.030Z"
   },
   {
    "duration": 2118,
    "start_time": "2023-11-30T14:36:54.036Z"
   },
   {
    "duration": 10,
    "start_time": "2023-11-30T14:36:56.156Z"
   },
   {
    "duration": 16,
    "start_time": "2023-11-30T14:36:56.168Z"
   },
   {
    "duration": 24,
    "start_time": "2023-11-30T14:36:56.185Z"
   },
   {
    "duration": 13,
    "start_time": "2023-11-30T14:36:56.210Z"
   },
   {
    "duration": 10,
    "start_time": "2023-11-30T14:36:56.224Z"
   },
   {
    "duration": 34,
    "start_time": "2023-11-30T14:36:56.236Z"
   },
   {
    "duration": 31,
    "start_time": "2023-11-30T14:36:56.271Z"
   },
   {
    "duration": 10,
    "start_time": "2023-11-30T14:36:56.304Z"
   },
   {
    "duration": 9,
    "start_time": "2023-11-30T14:36:56.315Z"
   },
   {
    "duration": 15,
    "start_time": "2023-11-30T14:36:56.326Z"
   },
   {
    "duration": 16,
    "start_time": "2023-11-30T14:36:56.343Z"
   },
   {
    "duration": 11221,
    "start_time": "2023-11-30T14:36:56.361Z"
   },
   {
    "duration": 11,
    "start_time": "2023-11-30T14:37:07.584Z"
   },
   {
    "duration": 31,
    "start_time": "2023-11-30T14:37:07.596Z"
   },
   {
    "duration": 14,
    "start_time": "2023-11-30T14:37:07.629Z"
   },
   {
    "duration": 13,
    "start_time": "2023-11-30T14:37:07.645Z"
   },
   {
    "duration": 26,
    "start_time": "2023-11-30T14:37:07.659Z"
   },
   {
    "duration": 4,
    "start_time": "2023-11-30T14:37:07.687Z"
   },
   {
    "duration": 30,
    "start_time": "2023-11-30T14:37:07.693Z"
   },
   {
    "duration": 3,
    "start_time": "2023-11-30T14:37:07.725Z"
   },
   {
    "duration": 41,
    "start_time": "2023-11-30T14:37:07.730Z"
   },
   {
    "duration": 1158,
    "start_time": "2023-11-30T14:37:07.772Z"
   },
   {
    "duration": 8596,
    "start_time": "2023-11-30T14:37:08.932Z"
   },
   {
    "duration": 10412,
    "start_time": "2023-11-30T14:37:17.532Z"
   },
   {
    "duration": 266284,
    "start_time": "2023-11-30T14:37:27.946Z"
   },
   {
    "duration": 186370,
    "start_time": "2023-11-30T14:41:54.231Z"
   },
   {
    "duration": 11,
    "start_time": "2023-11-30T14:45:00.602Z"
   },
   {
    "duration": 6713,
    "start_time": "2023-11-30T14:45:00.614Z"
   },
   {
    "duration": 21249,
    "start_time": "2023-11-30T14:45:07.329Z"
   },
   {
    "duration": 8173,
    "start_time": "2023-11-30T14:45:28.579Z"
   },
   {
    "duration": 28191,
    "start_time": "2023-12-01T12:57:35.824Z"
   },
   {
    "duration": 5675,
    "start_time": "2023-12-01T12:58:04.017Z"
   },
   {
    "duration": 81,
    "start_time": "2023-12-01T12:58:12.594Z"
   },
   {
    "duration": 3,
    "start_time": "2023-12-01T12:58:13.162Z"
   },
   {
    "duration": 13,
    "start_time": "2023-12-01T12:58:13.657Z"
   },
   {
    "duration": 14,
    "start_time": "2023-12-01T12:58:13.825Z"
   },
   {
    "duration": 12,
    "start_time": "2023-12-01T12:58:13.970Z"
   },
   {
    "duration": 14,
    "start_time": "2023-12-01T12:58:14.114Z"
   },
   {
    "duration": 17,
    "start_time": "2023-12-01T12:58:14.409Z"
   },
   {
    "duration": 147,
    "start_time": "2023-12-01T12:58:14.554Z"
   },
   {
    "duration": 7,
    "start_time": "2023-12-01T12:58:14.704Z"
   },
   {
    "duration": 125,
    "start_time": "2023-12-01T12:58:14.850Z"
   },
   {
    "duration": 226,
    "start_time": "2023-12-01T12:58:14.993Z"
   },
   {
    "duration": 6,
    "start_time": "2023-12-01T12:58:15.425Z"
   },
   {
    "duration": 6,
    "start_time": "2023-12-01T12:58:15.705Z"
   },
   {
    "duration": 6,
    "start_time": "2023-12-01T12:58:16.001Z"
   },
   {
    "duration": 131,
    "start_time": "2023-12-01T12:58:16.138Z"
   },
   {
    "duration": 8,
    "start_time": "2023-12-01T12:58:16.281Z"
   },
   {
    "duration": 104,
    "start_time": "2023-12-01T12:58:16.434Z"
   },
   {
    "duration": 117,
    "start_time": "2023-12-01T12:58:16.721Z"
   },
   {
    "duration": 3,
    "start_time": "2023-12-01T12:58:16.886Z"
   },
   {
    "duration": 8,
    "start_time": "2023-12-01T12:58:17.025Z"
   },
   {
    "duration": 12,
    "start_time": "2023-12-01T12:58:17.170Z"
   },
   {
    "duration": 7,
    "start_time": "2023-12-01T12:58:17.313Z"
   },
   {
    "duration": 6,
    "start_time": "2023-12-01T12:58:17.458Z"
   },
   {
    "duration": 6,
    "start_time": "2023-12-01T12:58:17.745Z"
   },
   {
    "duration": 5,
    "start_time": "2023-12-01T12:58:18.025Z"
   },
   {
    "duration": 7,
    "start_time": "2023-12-01T12:58:18.321Z"
   },
   {
    "duration": 92,
    "start_time": "2023-12-01T12:58:18.785Z"
   },
   {
    "duration": 4,
    "start_time": "2023-12-01T12:58:18.937Z"
   },
   {
    "duration": 9,
    "start_time": "2023-12-01T12:58:19.082Z"
   },
   {
    "duration": 5,
    "start_time": "2023-12-01T12:58:19.234Z"
   },
   {
    "duration": 5,
    "start_time": "2023-12-01T12:58:19.553Z"
   },
   {
    "duration": 5,
    "start_time": "2023-12-01T12:58:19.865Z"
   },
   {
    "duration": 5,
    "start_time": "2023-12-01T12:58:20.010Z"
   },
   {
    "duration": 5,
    "start_time": "2023-12-01T12:58:20.162Z"
   },
   {
    "duration": 5,
    "start_time": "2023-12-01T12:58:20.322Z"
   },
   {
    "duration": 5,
    "start_time": "2023-12-01T12:58:20.466Z"
   },
   {
    "duration": 76,
    "start_time": "2023-12-01T12:58:20.913Z"
   },
   {
    "duration": 3,
    "start_time": "2023-12-01T12:58:21.050Z"
   },
   {
    "duration": 6,
    "start_time": "2023-12-01T12:58:21.194Z"
   },
   {
    "duration": 6,
    "start_time": "2023-12-01T12:58:21.362Z"
   },
   {
    "duration": 3,
    "start_time": "2023-12-01T12:58:22.001Z"
   },
   {
    "duration": 38,
    "start_time": "2023-12-01T12:58:22.321Z"
   },
   {
    "duration": 23,
    "start_time": "2023-12-01T12:58:22.922Z"
   },
   {
    "duration": 20,
    "start_time": "2023-12-01T12:58:23.385Z"
   },
   {
    "duration": 21,
    "start_time": "2023-12-01T12:58:23.841Z"
   },
   {
    "duration": 1335,
    "start_time": "2023-12-01T12:58:24.016Z"
   },
   {
    "duration": 30,
    "start_time": "2023-12-01T12:58:25.353Z"
   },
   {
    "duration": 6,
    "start_time": "2023-12-01T12:58:25.385Z"
   },
   {
    "duration": 1516,
    "start_time": "2023-12-01T12:58:26.233Z"
   },
   {
    "duration": 10,
    "start_time": "2023-12-01T12:58:27.751Z"
   },
   {
    "duration": 9,
    "start_time": "2023-12-01T12:58:27.808Z"
   },
   {
    "duration": 9,
    "start_time": "2023-12-01T12:58:28.105Z"
   },
   {
    "duration": 9,
    "start_time": "2023-12-01T12:58:28.657Z"
   },
   {
    "duration": 9,
    "start_time": "2023-12-01T12:58:29.113Z"
   },
   {
    "duration": 9,
    "start_time": "2023-12-01T12:58:29.442Z"
   },
   {
    "duration": 10,
    "start_time": "2023-12-01T12:58:29.641Z"
   },
   {
    "duration": 10,
    "start_time": "2023-12-01T12:58:29.809Z"
   },
   {
    "duration": 10,
    "start_time": "2023-12-01T12:58:30.217Z"
   },
   {
    "duration": 5,
    "start_time": "2023-12-01T12:58:30.681Z"
   },
   {
    "duration": 12,
    "start_time": "2023-12-01T12:58:31.393Z"
   },
   {
    "duration": 9978,
    "start_time": "2023-12-01T12:58:31.562Z"
   },
   {
    "duration": 45,
    "start_time": "2023-12-02T09:49:23.182Z"
   },
   {
    "duration": 33272,
    "start_time": "2023-12-02T10:00:26.513Z"
   },
   {
    "duration": 2507,
    "start_time": "2023-12-02T10:00:59.787Z"
   },
   {
    "duration": 79,
    "start_time": "2023-12-02T10:01:02.296Z"
   },
   {
    "duration": 4,
    "start_time": "2023-12-02T10:01:02.377Z"
   },
   {
    "duration": 27,
    "start_time": "2023-12-02T10:01:02.382Z"
   },
   {
    "duration": 14,
    "start_time": "2023-12-02T10:01:02.411Z"
   },
   {
    "duration": 19,
    "start_time": "2023-12-02T10:01:02.427Z"
   },
   {
    "duration": 17,
    "start_time": "2023-12-02T10:01:02.447Z"
   },
   {
    "duration": 18,
    "start_time": "2023-12-02T10:01:02.466Z"
   },
   {
    "duration": 153,
    "start_time": "2023-12-02T10:01:02.511Z"
   },
   {
    "duration": 4,
    "start_time": "2023-12-02T10:01:02.666Z"
   },
   {
    "duration": 148,
    "start_time": "2023-12-02T10:01:02.671Z"
   },
   {
    "duration": 223,
    "start_time": "2023-12-02T10:01:02.821Z"
   },
   {
    "duration": 6,
    "start_time": "2023-12-02T10:01:03.046Z"
   },
   {
    "duration": 7,
    "start_time": "2023-12-02T10:01:03.053Z"
   },
   {
    "duration": 6,
    "start_time": "2023-12-02T10:01:03.062Z"
   },
   {
    "duration": 147,
    "start_time": "2023-12-02T10:01:03.070Z"
   },
   {
    "duration": 8,
    "start_time": "2023-12-02T10:01:03.218Z"
   },
   {
    "duration": 116,
    "start_time": "2023-12-02T10:01:03.227Z"
   },
   {
    "duration": 114,
    "start_time": "2023-12-02T10:01:03.345Z"
   },
   {
    "duration": 4,
    "start_time": "2023-12-02T10:01:03.460Z"
   },
   {
    "duration": 11,
    "start_time": "2023-12-02T10:01:03.465Z"
   },
   {
    "duration": 13,
    "start_time": "2023-12-02T10:01:03.477Z"
   },
   {
    "duration": 8,
    "start_time": "2023-12-02T10:01:03.491Z"
   },
   {
    "duration": 13,
    "start_time": "2023-12-02T10:01:03.500Z"
   },
   {
    "duration": 9,
    "start_time": "2023-12-02T10:01:03.515Z"
   },
   {
    "duration": 6,
    "start_time": "2023-12-02T10:01:03.526Z"
   },
   {
    "duration": 6,
    "start_time": "2023-12-02T10:01:03.536Z"
   },
   {
    "duration": 82,
    "start_time": "2023-12-02T10:01:03.543Z"
   },
   {
    "duration": 4,
    "start_time": "2023-12-02T10:01:03.627Z"
   },
   {
    "duration": 11,
    "start_time": "2023-12-02T10:01:03.633Z"
   },
   {
    "duration": 6,
    "start_time": "2023-12-02T10:01:03.645Z"
   },
   {
    "duration": 6,
    "start_time": "2023-12-02T10:01:03.652Z"
   },
   {
    "duration": 23,
    "start_time": "2023-12-02T10:01:03.659Z"
   },
   {
    "duration": 6,
    "start_time": "2023-12-02T10:01:03.684Z"
   },
   {
    "duration": 6,
    "start_time": "2023-12-02T10:01:03.691Z"
   },
   {
    "duration": 6,
    "start_time": "2023-12-02T10:01:03.698Z"
   },
   {
    "duration": 23,
    "start_time": "2023-12-02T10:01:03.710Z"
   },
   {
    "duration": 65,
    "start_time": "2023-12-02T10:01:03.734Z"
   },
   {
    "duration": 3,
    "start_time": "2023-12-02T10:01:03.801Z"
   },
   {
    "duration": 31,
    "start_time": "2023-12-02T10:01:03.805Z"
   },
   {
    "duration": 37,
    "start_time": "2023-12-02T10:01:03.838Z"
   },
   {
    "duration": 12,
    "start_time": "2023-12-02T10:01:03.876Z"
   },
   {
    "duration": 50,
    "start_time": "2023-12-02T10:01:03.889Z"
   },
   {
    "duration": 23,
    "start_time": "2023-12-02T10:01:03.940Z"
   },
   {
    "duration": 18,
    "start_time": "2023-12-02T10:01:03.965Z"
   },
   {
    "duration": 35,
    "start_time": "2023-12-02T10:01:03.985Z"
   },
   {
    "duration": 1301,
    "start_time": "2023-12-02T10:01:04.022Z"
   },
   {
    "duration": 27,
    "start_time": "2023-12-02T10:01:05.325Z"
   },
   {
    "duration": 1909,
    "start_time": "2023-12-02T10:01:05.353Z"
   },
   {
    "duration": 11,
    "start_time": "2023-12-02T10:01:07.264Z"
   },
   {
    "duration": 11,
    "start_time": "2023-12-02T10:01:07.277Z"
   },
   {
    "duration": 28,
    "start_time": "2023-12-02T10:01:07.289Z"
   },
   {
    "duration": 10,
    "start_time": "2023-12-02T10:01:07.318Z"
   },
   {
    "duration": 13,
    "start_time": "2023-12-02T10:01:07.329Z"
   },
   {
    "duration": 10,
    "start_time": "2023-12-02T10:01:07.344Z"
   },
   {
    "duration": 9,
    "start_time": "2023-12-02T10:01:07.356Z"
   },
   {
    "duration": 44,
    "start_time": "2023-12-02T10:01:07.367Z"
   },
   {
    "duration": 9,
    "start_time": "2023-12-02T10:01:07.413Z"
   },
   {
    "duration": 6,
    "start_time": "2023-12-02T10:01:07.423Z"
   },
   {
    "duration": 31,
    "start_time": "2023-12-02T10:01:07.430Z"
   },
   {
    "duration": 10899,
    "start_time": "2023-12-02T10:01:07.462Z"
   },
   {
    "duration": 10,
    "start_time": "2023-12-02T10:01:18.363Z"
   },
   {
    "duration": 14,
    "start_time": "2023-12-02T10:01:18.374Z"
   },
   {
    "duration": 25,
    "start_time": "2023-12-02T10:01:18.389Z"
   },
   {
    "duration": 10,
    "start_time": "2023-12-02T10:01:18.416Z"
   },
   {
    "duration": 12,
    "start_time": "2023-12-02T10:01:18.428Z"
   },
   {
    "duration": 4,
    "start_time": "2023-12-02T10:01:18.441Z"
   },
   {
    "duration": 11,
    "start_time": "2023-12-02T10:01:18.447Z"
   },
   {
    "duration": 3,
    "start_time": "2023-12-02T10:01:18.460Z"
   },
   {
    "duration": 93,
    "start_time": "2023-12-02T10:01:18.465Z"
   },
   {
    "duration": 851,
    "start_time": "2023-12-02T10:01:18.560Z"
   },
   {
    "duration": 5698,
    "start_time": "2023-12-02T10:01:19.413Z"
   },
   {
    "duration": 9312,
    "start_time": "2023-12-02T10:01:25.113Z"
   },
   {
    "duration": 286290,
    "start_time": "2023-12-02T10:01:34.427Z"
   },
   {
    "duration": 180352,
    "start_time": "2023-12-02T10:06:20.718Z"
   },
   {
    "duration": 11,
    "start_time": "2023-12-02T10:09:21.072Z"
   },
   {
    "duration": 4232,
    "start_time": "2023-12-02T10:09:21.085Z"
   },
   {
    "duration": 20236,
    "start_time": "2023-12-02T10:09:25.319Z"
   },
   {
    "duration": 21450,
    "start_time": "2023-12-02T10:09:45.557Z"
   },
   {
    "duration": 4,
    "start_time": "2023-12-02T10:15:01.406Z"
   },
   {
    "duration": 35,
    "start_time": "2023-12-02T10:15:05.069Z"
   },
   {
    "duration": 10860,
    "start_time": "2023-12-02T10:15:18.793Z"
   },
   {
    "duration": 2303,
    "start_time": "2023-12-02T10:15:29.655Z"
   },
   {
    "duration": 43,
    "start_time": "2023-12-02T10:15:31.960Z"
   },
   {
    "duration": 4,
    "start_time": "2023-12-02T10:15:32.005Z"
   },
   {
    "duration": 19,
    "start_time": "2023-12-02T10:15:32.011Z"
   },
   {
    "duration": 24,
    "start_time": "2023-12-02T10:15:32.032Z"
   },
   {
    "duration": 18,
    "start_time": "2023-12-02T10:15:32.058Z"
   },
   {
    "duration": 27,
    "start_time": "2023-12-02T10:15:32.077Z"
   },
   {
    "duration": 17,
    "start_time": "2023-12-02T10:15:32.105Z"
   },
   {
    "duration": 151,
    "start_time": "2023-12-02T10:15:32.124Z"
   },
   {
    "duration": 4,
    "start_time": "2023-12-02T10:15:32.277Z"
   },
   {
    "duration": 139,
    "start_time": "2023-12-02T10:15:32.283Z"
   },
   {
    "duration": 142,
    "start_time": "2023-12-02T10:15:32.424Z"
   },
   {
    "duration": 6,
    "start_time": "2023-12-02T10:15:32.570Z"
   },
   {
    "duration": 14,
    "start_time": "2023-12-02T10:15:32.578Z"
   },
   {
    "duration": 19,
    "start_time": "2023-12-02T10:15:32.593Z"
   },
   {
    "duration": 129,
    "start_time": "2023-12-02T10:15:32.613Z"
   },
   {
    "duration": 8,
    "start_time": "2023-12-02T10:15:32.744Z"
   },
   {
    "duration": 116,
    "start_time": "2023-12-02T10:15:32.754Z"
   },
   {
    "duration": 20,
    "start_time": "2023-12-02T10:15:32.872Z"
   },
   {
    "duration": 3,
    "start_time": "2023-12-02T10:15:32.894Z"
   },
   {
    "duration": 14,
    "start_time": "2023-12-02T10:15:32.898Z"
   },
   {
    "duration": 24,
    "start_time": "2023-12-02T10:15:32.913Z"
   },
   {
    "duration": 12,
    "start_time": "2023-12-02T10:15:32.939Z"
   },
   {
    "duration": 7,
    "start_time": "2023-12-02T10:15:32.952Z"
   },
   {
    "duration": 8,
    "start_time": "2023-12-02T10:15:32.960Z"
   },
   {
    "duration": 7,
    "start_time": "2023-12-02T10:15:32.969Z"
   },
   {
    "duration": 10,
    "start_time": "2023-12-02T10:15:32.977Z"
   },
   {
    "duration": 37,
    "start_time": "2023-12-02T10:15:32.988Z"
   },
   {
    "duration": 114,
    "start_time": "2023-12-02T10:15:33.026Z"
   },
   {
    "duration": 14,
    "start_time": "2023-12-02T10:15:33.142Z"
   },
   {
    "duration": 55,
    "start_time": "2023-12-02T10:15:33.157Z"
   },
   {
    "duration": 6,
    "start_time": "2023-12-02T10:15:33.214Z"
   },
   {
    "duration": 6,
    "start_time": "2023-12-02T10:15:33.221Z"
   },
   {
    "duration": 7,
    "start_time": "2023-12-02T10:15:33.228Z"
   },
   {
    "duration": 6,
    "start_time": "2023-12-02T10:15:33.237Z"
   },
   {
    "duration": 5,
    "start_time": "2023-12-02T10:15:33.244Z"
   },
   {
    "duration": 6,
    "start_time": "2023-12-02T10:15:33.250Z"
   },
   {
    "duration": 61,
    "start_time": "2023-12-02T10:15:33.257Z"
   },
   {
    "duration": 3,
    "start_time": "2023-12-02T10:15:33.319Z"
   },
   {
    "duration": 6,
    "start_time": "2023-12-02T10:15:33.326Z"
   },
   {
    "duration": 7,
    "start_time": "2023-12-02T10:15:33.333Z"
   },
   {
    "duration": 10,
    "start_time": "2023-12-02T10:15:33.342Z"
   },
   {
    "duration": 89,
    "start_time": "2023-12-02T10:15:33.353Z"
   },
   {
    "duration": 74,
    "start_time": "2023-12-02T10:15:33.444Z"
   },
   {
    "duration": 20,
    "start_time": "2023-12-02T10:15:33.520Z"
   },
   {
    "duration": 73,
    "start_time": "2023-12-02T10:15:33.542Z"
   },
   {
    "duration": 1831,
    "start_time": "2023-12-02T10:15:33.616Z"
   },
   {
    "duration": 26,
    "start_time": "2023-12-02T10:15:35.449Z"
   },
   {
    "duration": 1843,
    "start_time": "2023-12-02T10:15:35.477Z"
   },
   {
    "duration": 9,
    "start_time": "2023-12-02T10:15:37.322Z"
   },
   {
    "duration": 17,
    "start_time": "2023-12-02T10:15:37.333Z"
   },
   {
    "duration": 9,
    "start_time": "2023-12-02T10:15:37.352Z"
   },
   {
    "duration": 11,
    "start_time": "2023-12-02T10:15:37.363Z"
   },
   {
    "duration": 8,
    "start_time": "2023-12-02T10:15:37.375Z"
   },
   {
    "duration": 29,
    "start_time": "2023-12-02T10:15:37.385Z"
   },
   {
    "duration": 12,
    "start_time": "2023-12-02T10:15:37.416Z"
   },
   {
    "duration": 8,
    "start_time": "2023-12-02T10:15:37.430Z"
   },
   {
    "duration": 9,
    "start_time": "2023-12-02T10:15:37.439Z"
   },
   {
    "duration": 7,
    "start_time": "2023-12-02T10:15:37.449Z"
   },
   {
    "duration": 19,
    "start_time": "2023-12-02T10:15:37.458Z"
   },
   {
    "duration": 10739,
    "start_time": "2023-12-02T10:15:37.478Z"
   },
   {
    "duration": 9,
    "start_time": "2023-12-02T10:15:48.219Z"
   },
   {
    "duration": 14,
    "start_time": "2023-12-02T10:15:48.230Z"
   },
   {
    "duration": 10,
    "start_time": "2023-12-02T10:15:48.246Z"
   },
   {
    "duration": 53,
    "start_time": "2023-12-02T10:15:48.258Z"
   },
   {
    "duration": 11,
    "start_time": "2023-12-02T10:15:48.313Z"
   },
   {
    "duration": 3,
    "start_time": "2023-12-02T10:15:48.326Z"
   },
   {
    "duration": 10,
    "start_time": "2023-12-02T10:15:48.331Z"
   },
   {
    "duration": 3,
    "start_time": "2023-12-02T10:15:48.342Z"
   },
   {
    "duration": 39,
    "start_time": "2023-12-02T10:15:48.346Z"
   },
   {
    "duration": 5,
    "start_time": "2023-12-02T10:20:22.383Z"
   },
   {
    "duration": 10197,
    "start_time": "2023-12-02T10:21:21.090Z"
   },
   {
    "duration": 2353,
    "start_time": "2023-12-02T10:21:31.289Z"
   },
   {
    "duration": 43,
    "start_time": "2023-12-02T10:21:33.645Z"
   },
   {
    "duration": 4,
    "start_time": "2023-12-02T10:21:33.689Z"
   },
   {
    "duration": 49,
    "start_time": "2023-12-02T10:21:33.694Z"
   },
   {
    "duration": 37,
    "start_time": "2023-12-02T10:21:33.744Z"
   },
   {
    "duration": 42,
    "start_time": "2023-12-02T10:21:33.783Z"
   },
   {
    "duration": 39,
    "start_time": "2023-12-02T10:21:33.827Z"
   },
   {
    "duration": 31,
    "start_time": "2023-12-02T10:21:33.868Z"
   },
   {
    "duration": 171,
    "start_time": "2023-12-02T10:21:33.901Z"
   },
   {
    "duration": 4,
    "start_time": "2023-12-02T10:21:34.073Z"
   },
   {
    "duration": 139,
    "start_time": "2023-12-02T10:21:34.078Z"
   },
   {
    "duration": 134,
    "start_time": "2023-12-02T10:21:34.218Z"
   },
   {
    "duration": 6,
    "start_time": "2023-12-02T10:21:34.354Z"
   },
   {
    "duration": 37,
    "start_time": "2023-12-02T10:21:34.361Z"
   },
   {
    "duration": 37,
    "start_time": "2023-12-02T10:21:34.400Z"
   },
   {
    "duration": 158,
    "start_time": "2023-12-02T10:21:34.438Z"
   },
   {
    "duration": 16,
    "start_time": "2023-12-02T10:21:34.597Z"
   },
   {
    "duration": 134,
    "start_time": "2023-12-02T10:21:34.614Z"
   },
   {
    "duration": 31,
    "start_time": "2023-12-02T10:21:34.749Z"
   },
   {
    "duration": 8,
    "start_time": "2023-12-02T10:21:34.781Z"
   },
   {
    "duration": 37,
    "start_time": "2023-12-02T10:21:34.790Z"
   },
   {
    "duration": 56,
    "start_time": "2023-12-02T10:21:34.828Z"
   },
   {
    "duration": 27,
    "start_time": "2023-12-02T10:21:34.885Z"
   },
   {
    "duration": 41,
    "start_time": "2023-12-02T10:21:34.913Z"
   },
   {
    "duration": 7,
    "start_time": "2023-12-02T10:21:34.955Z"
   },
   {
    "duration": 6,
    "start_time": "2023-12-02T10:21:35.066Z"
   },
   {
    "duration": 26,
    "start_time": "2023-12-02T10:21:35.074Z"
   },
   {
    "duration": 46,
    "start_time": "2023-12-02T10:21:35.101Z"
   },
   {
    "duration": 4,
    "start_time": "2023-12-02T10:21:35.149Z"
   },
   {
    "duration": 29,
    "start_time": "2023-12-02T10:21:35.155Z"
   },
   {
    "duration": 16,
    "start_time": "2023-12-02T10:21:35.185Z"
   },
   {
    "duration": 29,
    "start_time": "2023-12-02T10:21:35.202Z"
   },
   {
    "duration": 9,
    "start_time": "2023-12-02T10:21:35.233Z"
   },
   {
    "duration": 20,
    "start_time": "2023-12-02T10:21:35.243Z"
   },
   {
    "duration": 27,
    "start_time": "2023-12-02T10:21:35.264Z"
   },
   {
    "duration": 27,
    "start_time": "2023-12-02T10:21:35.292Z"
   },
   {
    "duration": 15,
    "start_time": "2023-12-02T10:21:35.321Z"
   },
   {
    "duration": 20,
    "start_time": "2023-12-02T10:21:35.337Z"
   },
   {
    "duration": 3,
    "start_time": "2023-12-02T10:21:35.359Z"
   },
   {
    "duration": 22,
    "start_time": "2023-12-02T10:21:35.364Z"
   },
   {
    "duration": 7,
    "start_time": "2023-12-02T10:21:35.387Z"
   },
   {
    "duration": 6,
    "start_time": "2023-12-02T10:21:35.395Z"
   },
   {
    "duration": 40,
    "start_time": "2023-12-02T10:21:35.402Z"
   },
   {
    "duration": 22,
    "start_time": "2023-12-02T10:21:35.443Z"
   },
   {
    "duration": 21,
    "start_time": "2023-12-02T10:21:35.466Z"
   },
   {
    "duration": 34,
    "start_time": "2023-12-02T10:21:35.488Z"
   },
   {
    "duration": 1321,
    "start_time": "2023-12-02T10:21:35.524Z"
   },
   {
    "duration": 28,
    "start_time": "2023-12-02T10:21:36.847Z"
   },
   {
    "duration": 1852,
    "start_time": "2023-12-02T10:21:36.877Z"
   },
   {
    "duration": 10,
    "start_time": "2023-12-02T10:21:38.731Z"
   },
   {
    "duration": 20,
    "start_time": "2023-12-02T10:21:38.743Z"
   },
   {
    "duration": 12,
    "start_time": "2023-12-02T10:21:38.765Z"
   },
   {
    "duration": 16,
    "start_time": "2023-12-02T10:21:38.778Z"
   },
   {
    "duration": 16,
    "start_time": "2023-12-02T10:21:38.795Z"
   },
   {
    "duration": 9,
    "start_time": "2023-12-02T10:21:38.812Z"
   },
   {
    "duration": 10,
    "start_time": "2023-12-02T10:21:38.822Z"
   },
   {
    "duration": 9,
    "start_time": "2023-12-02T10:21:38.833Z"
   },
   {
    "duration": 9,
    "start_time": "2023-12-02T10:21:38.843Z"
   },
   {
    "duration": 9,
    "start_time": "2023-12-02T10:21:38.853Z"
   },
   {
    "duration": 17,
    "start_time": "2023-12-02T10:21:38.864Z"
   },
   {
    "duration": 11855,
    "start_time": "2023-12-02T10:21:38.882Z"
   },
   {
    "duration": 11,
    "start_time": "2023-12-02T10:21:50.739Z"
   },
   {
    "duration": 23,
    "start_time": "2023-12-02T10:21:50.751Z"
   },
   {
    "duration": 19,
    "start_time": "2023-12-02T10:21:50.775Z"
   },
   {
    "duration": 25,
    "start_time": "2023-12-02T10:21:50.796Z"
   },
   {
    "duration": 15,
    "start_time": "2023-12-02T10:21:50.822Z"
   },
   {
    "duration": 13,
    "start_time": "2023-12-02T10:21:50.839Z"
   },
   {
    "duration": 27,
    "start_time": "2023-12-02T10:21:50.854Z"
   },
   {
    "duration": 7,
    "start_time": "2023-12-02T10:21:50.882Z"
   },
   {
    "duration": 58,
    "start_time": "2023-12-02T10:21:50.891Z"
   },
   {
    "duration": 463,
    "start_time": "2023-12-02T10:21:50.950Z"
   },
   {
    "duration": 3903,
    "start_time": "2023-12-02T10:21:51.414Z"
   },
   {
    "duration": 10125,
    "start_time": "2023-12-02T10:21:55.413Z"
   },
   {
    "duration": 282769,
    "start_time": "2023-12-02T10:22:05.617Z"
   },
   {
    "duration": 8241,
    "start_time": "2023-12-02T10:27:17.695Z"
   },
   {
    "duration": 0,
    "start_time": "2023-12-02T10:27:25.939Z"
   },
   {
    "duration": 0,
    "start_time": "2023-12-02T10:27:25.940Z"
   },
   {
    "duration": 0,
    "start_time": "2023-12-02T10:27:25.942Z"
   },
   {
    "duration": 0,
    "start_time": "2023-12-02T10:27:25.943Z"
   },
   {
    "duration": 0,
    "start_time": "2023-12-02T10:27:25.944Z"
   },
   {
    "duration": 0,
    "start_time": "2023-12-02T10:27:25.945Z"
   },
   {
    "duration": 0,
    "start_time": "2023-12-02T10:27:25.946Z"
   },
   {
    "duration": 0,
    "start_time": "2023-12-02T10:27:25.947Z"
   },
   {
    "duration": 0,
    "start_time": "2023-12-02T10:27:25.948Z"
   },
   {
    "duration": 0,
    "start_time": "2023-12-02T10:27:25.949Z"
   },
   {
    "duration": 0,
    "start_time": "2023-12-02T10:27:25.950Z"
   },
   {
    "duration": 0,
    "start_time": "2023-12-02T10:27:25.951Z"
   },
   {
    "duration": 0,
    "start_time": "2023-12-02T10:27:26.011Z"
   },
   {
    "duration": 0,
    "start_time": "2023-12-02T10:27:26.012Z"
   },
   {
    "duration": 0,
    "start_time": "2023-12-02T10:27:26.013Z"
   },
   {
    "duration": 0,
    "start_time": "2023-12-02T10:27:26.014Z"
   },
   {
    "duration": 0,
    "start_time": "2023-12-02T10:27:26.015Z"
   },
   {
    "duration": 0,
    "start_time": "2023-12-02T10:27:26.016Z"
   },
   {
    "duration": 0,
    "start_time": "2023-12-02T10:27:26.017Z"
   },
   {
    "duration": 0,
    "start_time": "2023-12-02T10:27:26.018Z"
   },
   {
    "duration": 0,
    "start_time": "2023-12-02T10:27:26.019Z"
   },
   {
    "duration": 0,
    "start_time": "2023-12-02T10:27:26.020Z"
   },
   {
    "duration": 0,
    "start_time": "2023-12-02T10:27:26.021Z"
   },
   {
    "duration": 0,
    "start_time": "2023-12-02T10:27:26.022Z"
   },
   {
    "duration": 0,
    "start_time": "2023-12-02T10:27:26.023Z"
   },
   {
    "duration": 0,
    "start_time": "2023-12-02T10:27:26.024Z"
   },
   {
    "duration": 0,
    "start_time": "2023-12-02T10:27:26.025Z"
   },
   {
    "duration": 0,
    "start_time": "2023-12-02T10:27:26.026Z"
   },
   {
    "duration": 0,
    "start_time": "2023-12-02T10:27:26.027Z"
   },
   {
    "duration": 0,
    "start_time": "2023-12-02T10:27:26.028Z"
   },
   {
    "duration": 0,
    "start_time": "2023-12-02T10:27:26.029Z"
   },
   {
    "duration": 0,
    "start_time": "2023-12-02T10:27:26.030Z"
   },
   {
    "duration": 0,
    "start_time": "2023-12-02T10:27:26.031Z"
   },
   {
    "duration": 0,
    "start_time": "2023-12-02T10:27:26.032Z"
   },
   {
    "duration": 0,
    "start_time": "2023-12-02T10:27:26.033Z"
   },
   {
    "duration": 0,
    "start_time": "2023-12-02T10:27:26.034Z"
   },
   {
    "duration": 0,
    "start_time": "2023-12-02T10:27:26.111Z"
   },
   {
    "duration": 0,
    "start_time": "2023-12-02T10:27:26.113Z"
   },
   {
    "duration": 0,
    "start_time": "2023-12-02T10:27:26.114Z"
   },
   {
    "duration": 0,
    "start_time": "2023-12-02T10:27:26.116Z"
   },
   {
    "duration": 0,
    "start_time": "2023-12-02T10:27:26.117Z"
   },
   {
    "duration": 0,
    "start_time": "2023-12-02T10:27:26.119Z"
   },
   {
    "duration": 0,
    "start_time": "2023-12-02T10:27:26.120Z"
   },
   {
    "duration": 0,
    "start_time": "2023-12-02T10:27:26.121Z"
   },
   {
    "duration": 0,
    "start_time": "2023-12-02T10:27:26.122Z"
   },
   {
    "duration": 0,
    "start_time": "2023-12-02T10:27:26.123Z"
   },
   {
    "duration": 0,
    "start_time": "2023-12-02T10:27:26.124Z"
   },
   {
    "duration": 0,
    "start_time": "2023-12-02T10:27:26.126Z"
   },
   {
    "duration": 0,
    "start_time": "2023-12-02T10:27:26.126Z"
   },
   {
    "duration": 0,
    "start_time": "2023-12-02T10:27:26.127Z"
   },
   {
    "duration": 1,
    "start_time": "2023-12-02T10:27:26.128Z"
   },
   {
    "duration": 0,
    "start_time": "2023-12-02T10:27:26.129Z"
   },
   {
    "duration": 0,
    "start_time": "2023-12-02T10:27:26.130Z"
   },
   {
    "duration": 0,
    "start_time": "2023-12-02T10:27:26.131Z"
   },
   {
    "duration": 0,
    "start_time": "2023-12-02T10:27:26.132Z"
   },
   {
    "duration": 0,
    "start_time": "2023-12-02T10:27:26.133Z"
   },
   {
    "duration": 0,
    "start_time": "2023-12-02T10:27:26.134Z"
   },
   {
    "duration": 0,
    "start_time": "2023-12-02T10:27:26.135Z"
   },
   {
    "duration": 0,
    "start_time": "2023-12-02T10:27:26.212Z"
   },
   {
    "duration": 0,
    "start_time": "2023-12-02T10:27:26.213Z"
   },
   {
    "duration": 0,
    "start_time": "2023-12-02T10:27:26.214Z"
   },
   {
    "duration": 0,
    "start_time": "2023-12-02T10:27:26.216Z"
   },
   {
    "duration": 0,
    "start_time": "2023-12-02T10:27:26.217Z"
   },
   {
    "duration": 0,
    "start_time": "2023-12-02T10:27:26.218Z"
   },
   {
    "duration": 0,
    "start_time": "2023-12-02T10:27:26.220Z"
   },
   {
    "duration": 0,
    "start_time": "2023-12-02T10:27:26.222Z"
   },
   {
    "duration": 0,
    "start_time": "2023-12-02T10:27:26.223Z"
   },
   {
    "duration": 0,
    "start_time": "2023-12-02T10:27:26.224Z"
   },
   {
    "duration": 0,
    "start_time": "2023-12-02T10:27:26.226Z"
   },
   {
    "duration": 0,
    "start_time": "2023-12-02T10:27:26.227Z"
   },
   {
    "duration": 0,
    "start_time": "2023-12-02T10:27:26.228Z"
   },
   {
    "duration": 0,
    "start_time": "2023-12-02T10:27:26.230Z"
   },
   {
    "duration": 0,
    "start_time": "2023-12-02T10:27:26.231Z"
   },
   {
    "duration": 0,
    "start_time": "2023-12-02T10:27:26.232Z"
   },
   {
    "duration": 0,
    "start_time": "2023-12-02T10:27:26.233Z"
   },
   {
    "duration": 0,
    "start_time": "2023-12-02T10:27:26.235Z"
   },
   {
    "duration": 10069,
    "start_time": "2023-12-02T10:27:43.240Z"
   },
   {
    "duration": 2289,
    "start_time": "2023-12-02T10:27:53.312Z"
   },
   {
    "duration": 43,
    "start_time": "2023-12-02T10:27:55.603Z"
   },
   {
    "duration": 3,
    "start_time": "2023-12-02T10:27:55.647Z"
   },
   {
    "duration": 15,
    "start_time": "2023-12-02T10:27:55.652Z"
   },
   {
    "duration": 13,
    "start_time": "2023-12-02T10:27:55.669Z"
   },
   {
    "duration": 22,
    "start_time": "2023-12-02T10:27:55.683Z"
   },
   {
    "duration": 15,
    "start_time": "2023-12-02T10:27:55.706Z"
   },
   {
    "duration": 16,
    "start_time": "2023-12-02T10:27:55.723Z"
   },
   {
    "duration": 164,
    "start_time": "2023-12-02T10:27:55.740Z"
   },
   {
    "duration": 7,
    "start_time": "2023-12-02T10:27:55.906Z"
   },
   {
    "duration": 131,
    "start_time": "2023-12-02T10:27:55.914Z"
   },
   {
    "duration": 133,
    "start_time": "2023-12-02T10:27:56.046Z"
   },
   {
    "duration": 6,
    "start_time": "2023-12-02T10:27:56.181Z"
   },
   {
    "duration": 11,
    "start_time": "2023-12-02T10:27:56.188Z"
   },
   {
    "duration": 12,
    "start_time": "2023-12-02T10:27:56.200Z"
   },
   {
    "duration": 141,
    "start_time": "2023-12-02T10:27:56.213Z"
   },
   {
    "duration": 9,
    "start_time": "2023-12-02T10:27:56.356Z"
   },
   {
    "duration": 123,
    "start_time": "2023-12-02T10:27:56.367Z"
   },
   {
    "duration": 22,
    "start_time": "2023-12-02T10:27:56.492Z"
   },
   {
    "duration": 4,
    "start_time": "2023-12-02T10:27:56.515Z"
   },
   {
    "duration": 14,
    "start_time": "2023-12-02T10:27:56.521Z"
   },
   {
    "duration": 31,
    "start_time": "2023-12-02T10:27:56.537Z"
   },
   {
    "duration": 10,
    "start_time": "2023-12-02T10:27:56.570Z"
   },
   {
    "duration": 6,
    "start_time": "2023-12-02T10:27:56.582Z"
   },
   {
    "duration": 22,
    "start_time": "2023-12-02T10:27:56.590Z"
   },
   {
    "duration": 7,
    "start_time": "2023-12-02T10:27:56.613Z"
   },
   {
    "duration": 6,
    "start_time": "2023-12-02T10:27:56.621Z"
   },
   {
    "duration": 41,
    "start_time": "2023-12-02T10:27:56.628Z"
   },
   {
    "duration": 105,
    "start_time": "2023-12-02T10:27:56.671Z"
   },
   {
    "duration": 14,
    "start_time": "2023-12-02T10:27:56.777Z"
   },
   {
    "duration": 5,
    "start_time": "2023-12-02T10:27:56.793Z"
   },
   {
    "duration": 14,
    "start_time": "2023-12-02T10:27:56.799Z"
   },
   {
    "duration": 5,
    "start_time": "2023-12-02T10:27:56.815Z"
   },
   {
    "duration": 9,
    "start_time": "2023-12-02T10:27:56.822Z"
   },
   {
    "duration": 7,
    "start_time": "2023-12-02T10:27:56.832Z"
   },
   {
    "duration": 11,
    "start_time": "2023-12-02T10:27:56.840Z"
   },
   {
    "duration": 6,
    "start_time": "2023-12-02T10:27:56.852Z"
   },
   {
    "duration": 21,
    "start_time": "2023-12-02T10:27:56.860Z"
   },
   {
    "duration": 3,
    "start_time": "2023-12-02T10:27:56.883Z"
   },
   {
    "duration": 23,
    "start_time": "2023-12-02T10:27:56.891Z"
   },
   {
    "duration": 7,
    "start_time": "2023-12-02T10:27:56.916Z"
   },
   {
    "duration": 3,
    "start_time": "2023-12-02T10:27:56.926Z"
   },
   {
    "duration": 36,
    "start_time": "2023-12-02T10:27:56.931Z"
   },
   {
    "duration": 48,
    "start_time": "2023-12-02T10:27:56.968Z"
   },
   {
    "duration": 18,
    "start_time": "2023-12-02T10:27:57.018Z"
   },
   {
    "duration": 20,
    "start_time": "2023-12-02T10:27:57.038Z"
   },
   {
    "duration": 1354,
    "start_time": "2023-12-02T10:27:57.059Z"
   },
   {
    "duration": 28,
    "start_time": "2023-12-02T10:27:58.414Z"
   },
   {
    "duration": 1876,
    "start_time": "2023-12-02T10:27:58.444Z"
   },
   {
    "duration": 10,
    "start_time": "2023-12-02T10:28:00.321Z"
   },
   {
    "duration": 15,
    "start_time": "2023-12-02T10:28:00.333Z"
   },
   {
    "duration": 17,
    "start_time": "2023-12-02T10:28:00.349Z"
   },
   {
    "duration": 8,
    "start_time": "2023-12-02T10:28:00.368Z"
   },
   {
    "duration": 16,
    "start_time": "2023-12-02T10:28:00.378Z"
   },
   {
    "duration": 22,
    "start_time": "2023-12-02T10:28:00.395Z"
   },
   {
    "duration": 19,
    "start_time": "2023-12-02T10:28:00.419Z"
   },
   {
    "duration": 20,
    "start_time": "2023-12-02T10:28:00.440Z"
   },
   {
    "duration": 18,
    "start_time": "2023-12-02T10:28:00.461Z"
   },
   {
    "duration": 21,
    "start_time": "2023-12-02T10:28:00.480Z"
   },
   {
    "duration": 22,
    "start_time": "2023-12-02T10:28:00.503Z"
   },
   {
    "duration": 11215,
    "start_time": "2023-12-02T10:28:00.526Z"
   },
   {
    "duration": 16,
    "start_time": "2023-12-02T10:28:11.743Z"
   },
   {
    "duration": 52,
    "start_time": "2023-12-02T10:28:11.761Z"
   },
   {
    "duration": 9,
    "start_time": "2023-12-02T10:28:11.814Z"
   },
   {
    "duration": 12,
    "start_time": "2023-12-02T10:28:11.825Z"
   },
   {
    "duration": 11,
    "start_time": "2023-12-02T10:28:11.838Z"
   },
   {
    "duration": 9,
    "start_time": "2023-12-02T10:28:11.850Z"
   },
   {
    "duration": 20,
    "start_time": "2023-12-02T10:28:11.860Z"
   },
   {
    "duration": 3,
    "start_time": "2023-12-02T10:28:11.882Z"
   },
   {
    "duration": 38,
    "start_time": "2023-12-02T10:28:11.910Z"
   },
   {
    "duration": 470,
    "start_time": "2023-12-02T10:28:11.949Z"
   },
   {
    "duration": 4208,
    "start_time": "2023-12-02T10:28:12.512Z"
   },
   {
    "duration": 9724,
    "start_time": "2023-12-02T10:28:16.812Z"
   },
   {
    "duration": 297399,
    "start_time": "2023-12-02T10:28:26.538Z"
   },
   {
    "duration": 159919,
    "start_time": "2023-12-02T10:33:23.939Z"
   },
   {
    "duration": 3808,
    "start_time": "2023-12-02T10:36:03.860Z"
   },
   {
    "duration": 4822,
    "start_time": "2023-12-02T10:40:04.705Z"
   },
   {
    "duration": 3840,
    "start_time": "2023-12-02T10:40:20.555Z"
   },
   {
    "duration": 4,
    "start_time": "2023-12-02T10:40:25.191Z"
   },
   {
    "duration": 6,
    "start_time": "2023-12-02T10:40:54.179Z"
   },
   {
    "duration": 12,
    "start_time": "2023-12-02T11:10:02.647Z"
   },
   {
    "duration": 13247,
    "start_time": "2023-12-02T11:17:19.085Z"
   },
   {
    "duration": 2418,
    "start_time": "2023-12-02T11:17:32.334Z"
   },
   {
    "duration": 45,
    "start_time": "2023-12-02T11:17:34.753Z"
   },
   {
    "duration": 4,
    "start_time": "2023-12-02T11:17:34.799Z"
   },
   {
    "duration": 31,
    "start_time": "2023-12-02T11:17:34.804Z"
   },
   {
    "duration": 15,
    "start_time": "2023-12-02T11:17:34.836Z"
   },
   {
    "duration": 11,
    "start_time": "2023-12-02T11:17:34.853Z"
   },
   {
    "duration": 39,
    "start_time": "2023-12-02T11:17:34.866Z"
   },
   {
    "duration": 40,
    "start_time": "2023-12-02T11:17:34.907Z"
   },
   {
    "duration": 182,
    "start_time": "2023-12-02T11:17:34.949Z"
   },
   {
    "duration": 4,
    "start_time": "2023-12-02T11:17:35.133Z"
   },
   {
    "duration": 142,
    "start_time": "2023-12-02T11:17:35.138Z"
   },
   {
    "duration": 175,
    "start_time": "2023-12-02T11:17:35.282Z"
   },
   {
    "duration": 5,
    "start_time": "2023-12-02T11:17:35.459Z"
   },
   {
    "duration": 11,
    "start_time": "2023-12-02T11:17:35.466Z"
   },
   {
    "duration": 15,
    "start_time": "2023-12-02T11:17:35.479Z"
   },
   {
    "duration": 144,
    "start_time": "2023-12-02T11:17:35.495Z"
   },
   {
    "duration": 11,
    "start_time": "2023-12-02T11:17:35.640Z"
   },
   {
    "duration": 134,
    "start_time": "2023-12-02T11:17:35.652Z"
   },
   {
    "duration": 40,
    "start_time": "2023-12-02T11:17:35.788Z"
   },
   {
    "duration": 4,
    "start_time": "2023-12-02T11:17:35.830Z"
   },
   {
    "duration": 21,
    "start_time": "2023-12-02T11:17:35.836Z"
   },
   {
    "duration": 30,
    "start_time": "2023-12-02T11:17:35.858Z"
   },
   {
    "duration": 31,
    "start_time": "2023-12-02T11:17:35.890Z"
   },
   {
    "duration": 9,
    "start_time": "2023-12-02T11:17:35.927Z"
   },
   {
    "duration": 11,
    "start_time": "2023-12-02T11:17:35.937Z"
   },
   {
    "duration": 29,
    "start_time": "2023-12-02T11:17:35.949Z"
   },
   {
    "duration": 6,
    "start_time": "2023-12-02T11:17:36.100Z"
   },
   {
    "duration": 28,
    "start_time": "2023-12-02T11:17:36.111Z"
   },
   {
    "duration": 4,
    "start_time": "2023-12-02T11:17:36.140Z"
   },
   {
    "duration": 32,
    "start_time": "2023-12-02T11:17:36.145Z"
   },
   {
    "duration": 8,
    "start_time": "2023-12-02T11:17:36.179Z"
   },
   {
    "duration": 7,
    "start_time": "2023-12-02T11:17:36.188Z"
   },
   {
    "duration": 5,
    "start_time": "2023-12-02T11:17:36.197Z"
   },
   {
    "duration": 9,
    "start_time": "2023-12-02T11:17:36.203Z"
   },
   {
    "duration": 9,
    "start_time": "2023-12-02T11:17:36.215Z"
   },
   {
    "duration": 8,
    "start_time": "2023-12-02T11:17:36.226Z"
   },
   {
    "duration": 17,
    "start_time": "2023-12-02T11:17:36.235Z"
   },
   {
    "duration": 20,
    "start_time": "2023-12-02T11:17:36.254Z"
   },
   {
    "duration": 3,
    "start_time": "2023-12-02T11:17:36.276Z"
   },
   {
    "duration": 7,
    "start_time": "2023-12-02T11:17:36.281Z"
   },
   {
    "duration": 8,
    "start_time": "2023-12-02T11:17:36.289Z"
   },
   {
    "duration": 27,
    "start_time": "2023-12-02T11:17:36.299Z"
   },
   {
    "duration": 54,
    "start_time": "2023-12-02T11:17:36.327Z"
   },
   {
    "duration": 20,
    "start_time": "2023-12-02T11:17:36.383Z"
   },
   {
    "duration": 24,
    "start_time": "2023-12-02T11:17:36.404Z"
   },
   {
    "duration": 23,
    "start_time": "2023-12-02T11:17:36.430Z"
   },
   {
    "duration": 1444,
    "start_time": "2023-12-02T11:17:36.454Z"
   },
   {
    "duration": 40,
    "start_time": "2023-12-02T11:17:37.899Z"
   },
   {
    "duration": 2049,
    "start_time": "2023-12-02T11:17:37.942Z"
   },
   {
    "duration": 22,
    "start_time": "2023-12-02T11:17:39.993Z"
   },
   {
    "duration": 18,
    "start_time": "2023-12-02T11:17:40.016Z"
   },
   {
    "duration": 20,
    "start_time": "2023-12-02T11:17:40.035Z"
   },
   {
    "duration": 15,
    "start_time": "2023-12-02T11:17:40.056Z"
   },
   {
    "duration": 15,
    "start_time": "2023-12-02T11:17:40.072Z"
   },
   {
    "duration": 11,
    "start_time": "2023-12-02T11:17:40.088Z"
   },
   {
    "duration": 25,
    "start_time": "2023-12-02T11:17:40.100Z"
   },
   {
    "duration": 10,
    "start_time": "2023-12-02T11:17:40.127Z"
   },
   {
    "duration": 10,
    "start_time": "2023-12-02T11:17:40.138Z"
   },
   {
    "duration": 11,
    "start_time": "2023-12-02T11:17:40.149Z"
   },
   {
    "duration": 31,
    "start_time": "2023-12-02T11:17:40.161Z"
   },
   {
    "duration": 11806,
    "start_time": "2023-12-02T11:17:40.194Z"
   },
   {
    "duration": 22,
    "start_time": "2023-12-02T11:17:52.001Z"
   },
   {
    "duration": 31,
    "start_time": "2023-12-02T11:17:52.025Z"
   },
   {
    "duration": 30,
    "start_time": "2023-12-02T11:17:52.058Z"
   },
   {
    "duration": 40,
    "start_time": "2023-12-02T11:17:52.089Z"
   },
   {
    "duration": 13,
    "start_time": "2023-12-02T11:17:52.131Z"
   },
   {
    "duration": 12,
    "start_time": "2023-12-02T11:17:52.146Z"
   },
   {
    "duration": 29,
    "start_time": "2023-12-02T11:17:52.159Z"
   },
   {
    "duration": 7,
    "start_time": "2023-12-02T11:17:52.189Z"
   },
   {
    "duration": 53,
    "start_time": "2023-12-02T11:17:52.197Z"
   },
   {
    "duration": 1083,
    "start_time": "2023-12-02T11:17:52.252Z"
   },
   {
    "duration": 7515,
    "start_time": "2023-12-02T11:17:53.416Z"
   },
   {
    "duration": 9420,
    "start_time": "2023-12-02T11:18:01.026Z"
   },
   {
    "duration": 308751,
    "start_time": "2023-12-02T11:18:10.513Z"
   },
   {
    "duration": 179461,
    "start_time": "2023-12-02T11:23:19.266Z"
   },
   {
    "duration": 4343,
    "start_time": "2023-12-02T11:26:18.729Z"
   },
   {
    "duration": 10,
    "start_time": "2023-12-02T11:26:23.073Z"
   },
   {
    "duration": 182,
    "start_time": "2023-12-02T11:26:23.085Z"
   },
   {
    "duration": 4,
    "start_time": "2023-12-02T11:49:30.298Z"
   },
   {
    "duration": 4,
    "start_time": "2023-12-02T11:50:28.189Z"
   },
   {
    "duration": 3,
    "start_time": "2023-12-02T11:52:02.301Z"
   },
   {
    "duration": 4,
    "start_time": "2023-12-02T11:52:11.159Z"
   },
   {
    "duration": 4,
    "start_time": "2023-12-02T11:52:49.085Z"
   },
   {
    "duration": 4,
    "start_time": "2023-12-02T11:54:02.358Z"
   },
   {
    "duration": 3,
    "start_time": "2023-12-02T11:54:10.120Z"
   },
   {
    "duration": 3847,
    "start_time": "2023-12-02T11:54:52.504Z"
   },
   {
    "duration": 4,
    "start_time": "2023-12-02T11:55:03.444Z"
   },
   {
    "duration": 2,
    "start_time": "2023-12-02T11:55:03.621Z"
   },
   {
    "duration": 2999,
    "start_time": "2023-12-02T11:55:03.863Z"
   },
   {
    "duration": 2719,
    "start_time": "2023-12-02T11:55:29.009Z"
   },
   {
    "duration": 47,
    "start_time": "2023-12-02T11:57:02.934Z"
   },
   {
    "duration": 48,
    "start_time": "2023-12-02T11:58:13.975Z"
   },
   {
    "duration": 3866,
    "start_time": "2023-12-02T11:58:31.538Z"
   },
   {
    "duration": 3764,
    "start_time": "2023-12-02T11:59:11.981Z"
   },
   {
    "duration": 3777,
    "start_time": "2023-12-02T11:59:32.482Z"
   },
   {
    "duration": 14,
    "start_time": "2023-12-02T12:00:44.812Z"
   },
   {
    "duration": 9,
    "start_time": "2023-12-02T12:01:10.701Z"
   },
   {
    "duration": 14767,
    "start_time": "2023-12-02T12:01:57.804Z"
   },
   {
    "duration": 9,
    "start_time": "2023-12-02T12:02:16.882Z"
   },
   {
    "duration": 12,
    "start_time": "2023-12-02T12:02:49.943Z"
   },
   {
    "duration": 10,
    "start_time": "2023-12-02T12:03:40.223Z"
   },
   {
    "duration": 4,
    "start_time": "2023-12-02T12:03:56.436Z"
   },
   {
    "duration": 4,
    "start_time": "2023-12-02T12:07:14.364Z"
   },
   {
    "duration": 3,
    "start_time": "2023-12-02T12:07:29.420Z"
   },
   {
    "duration": 4,
    "start_time": "2023-12-02T12:07:49.529Z"
   },
   {
    "duration": 17,
    "start_time": "2023-12-02T12:09:06.248Z"
   },
   {
    "duration": 18,
    "start_time": "2023-12-02T12:09:11.972Z"
   },
   {
    "duration": 15,
    "start_time": "2023-12-02T12:09:26.185Z"
   },
   {
    "duration": 17,
    "start_time": "2023-12-02T12:09:30.238Z"
   },
   {
    "duration": 8,
    "start_time": "2023-12-02T12:09:48.344Z"
   },
   {
    "duration": 13,
    "start_time": "2023-12-02T12:10:52.459Z"
   },
   {
    "duration": 84,
    "start_time": "2023-12-02T12:11:21.374Z"
   },
   {
    "duration": 4,
    "start_time": "2023-12-02T12:11:31.761Z"
   },
   {
    "duration": 5,
    "start_time": "2023-12-02T12:11:53.242Z"
   },
   {
    "duration": 11,
    "start_time": "2023-12-02T12:12:05.070Z"
   },
   {
    "duration": 11,
    "start_time": "2023-12-02T12:12:08.985Z"
   },
   {
    "duration": 5,
    "start_time": "2023-12-02T12:12:14.569Z"
   },
   {
    "duration": 16,
    "start_time": "2023-12-02T12:13:11.481Z"
   },
   {
    "duration": 8,
    "start_time": "2023-12-02T12:16:38.087Z"
   },
   {
    "duration": 8,
    "start_time": "2023-12-02T12:16:58.396Z"
   },
   {
    "duration": 10,
    "start_time": "2023-12-02T12:17:28.245Z"
   },
   {
    "duration": 18,
    "start_time": "2023-12-02T12:17:58.795Z"
   },
   {
    "duration": 19,
    "start_time": "2023-12-02T12:21:31.644Z"
   },
   {
    "duration": 15,
    "start_time": "2023-12-02T12:22:00.785Z"
   },
   {
    "duration": 17,
    "start_time": "2023-12-02T12:22:08.473Z"
   },
   {
    "duration": 13,
    "start_time": "2023-12-02T12:22:18.750Z"
   },
   {
    "duration": 15,
    "start_time": "2023-12-02T12:22:23.601Z"
   },
   {
    "duration": 14,
    "start_time": "2023-12-02T12:22:31.468Z"
   },
   {
    "duration": 15,
    "start_time": "2023-12-02T12:22:40.685Z"
   },
   {
    "duration": 13,
    "start_time": "2023-12-02T12:22:56.593Z"
   },
   {
    "duration": 15,
    "start_time": "2023-12-02T12:23:04.510Z"
   },
   {
    "duration": 14,
    "start_time": "2023-12-02T12:23:13.713Z"
   },
   {
    "duration": 12,
    "start_time": "2023-12-02T12:23:44.359Z"
   },
   {
    "duration": 13,
    "start_time": "2023-12-02T12:24:51.435Z"
   },
   {
    "duration": 14,
    "start_time": "2023-12-02T12:24:58.694Z"
   },
   {
    "duration": 18,
    "start_time": "2023-12-02T12:25:25.442Z"
   },
   {
    "duration": 4,
    "start_time": "2023-12-02T12:26:15.895Z"
   },
   {
    "duration": 15038,
    "start_time": "2023-12-02T12:26:16.053Z"
   },
   {
    "duration": 20,
    "start_time": "2023-12-02T12:26:31.093Z"
   },
   {
    "duration": 5,
    "start_time": "2023-12-02T12:44:50.575Z"
   },
   {
    "duration": 18,
    "start_time": "2023-12-02T12:45:49.252Z"
   },
   {
    "duration": 153,
    "start_time": "2023-12-02T12:46:06.025Z"
   },
   {
    "duration": 146,
    "start_time": "2023-12-02T12:46:15.275Z"
   },
   {
    "duration": 148,
    "start_time": "2023-12-02T12:46:18.713Z"
   },
   {
    "duration": 6,
    "start_time": "2023-12-02T12:46:39.571Z"
   },
   {
    "duration": 141,
    "start_time": "2023-12-02T12:47:14.126Z"
   },
   {
    "duration": 158,
    "start_time": "2023-12-02T12:47:17.762Z"
   },
   {
    "duration": 4,
    "start_time": "2023-12-02T12:47:32.820Z"
   },
   {
    "duration": 14842,
    "start_time": "2023-12-02T12:48:17.333Z"
   },
   {
    "duration": 156,
    "start_time": "2023-12-02T12:49:06.149Z"
   },
   {
    "duration": 10908,
    "start_time": "2023-12-02T13:00:52.815Z"
   },
   {
    "duration": 2296,
    "start_time": "2023-12-02T13:01:03.725Z"
   },
   {
    "duration": 44,
    "start_time": "2023-12-02T13:01:06.023Z"
   },
   {
    "duration": 4,
    "start_time": "2023-12-02T13:01:06.069Z"
   },
   {
    "duration": 26,
    "start_time": "2023-12-02T13:01:06.075Z"
   },
   {
    "duration": 13,
    "start_time": "2023-12-02T13:01:06.103Z"
   },
   {
    "duration": 13,
    "start_time": "2023-12-02T13:01:06.118Z"
   },
   {
    "duration": 18,
    "start_time": "2023-12-02T13:01:06.133Z"
   },
   {
    "duration": 16,
    "start_time": "2023-12-02T13:01:06.153Z"
   },
   {
    "duration": 178,
    "start_time": "2023-12-02T13:01:06.173Z"
   },
   {
    "duration": 3,
    "start_time": "2023-12-02T13:01:06.353Z"
   },
   {
    "duration": 139,
    "start_time": "2023-12-02T13:01:06.358Z"
   },
   {
    "duration": 132,
    "start_time": "2023-12-02T13:01:06.498Z"
   },
   {
    "duration": 5,
    "start_time": "2023-12-02T13:01:06.632Z"
   },
   {
    "duration": 8,
    "start_time": "2023-12-02T13:01:06.638Z"
   },
   {
    "duration": 9,
    "start_time": "2023-12-02T13:01:06.647Z"
   },
   {
    "duration": 150,
    "start_time": "2023-12-02T13:01:06.657Z"
   },
   {
    "duration": 9,
    "start_time": "2023-12-02T13:01:06.811Z"
   },
   {
    "duration": 114,
    "start_time": "2023-12-02T13:01:06.821Z"
   },
   {
    "duration": 21,
    "start_time": "2023-12-02T13:01:06.937Z"
   },
   {
    "duration": 4,
    "start_time": "2023-12-02T13:01:06.959Z"
   },
   {
    "duration": 12,
    "start_time": "2023-12-02T13:01:06.964Z"
   },
   {
    "duration": 14,
    "start_time": "2023-12-02T13:01:06.977Z"
   },
   {
    "duration": 18,
    "start_time": "2023-12-02T13:01:06.993Z"
   },
   {
    "duration": 11,
    "start_time": "2023-12-02T13:01:07.012Z"
   },
   {
    "duration": 7,
    "start_time": "2023-12-02T13:01:07.024Z"
   },
   {
    "duration": 16,
    "start_time": "2023-12-02T13:01:07.032Z"
   },
   {
    "duration": 7,
    "start_time": "2023-12-02T13:01:07.156Z"
   },
   {
    "duration": 40,
    "start_time": "2023-12-02T13:01:07.164Z"
   },
   {
    "duration": 3,
    "start_time": "2023-12-02T13:01:07.206Z"
   },
   {
    "duration": 13,
    "start_time": "2023-12-02T13:01:07.210Z"
   },
   {
    "duration": 7,
    "start_time": "2023-12-02T13:01:07.224Z"
   },
   {
    "duration": 15,
    "start_time": "2023-12-02T13:01:07.232Z"
   },
   {
    "duration": 6,
    "start_time": "2023-12-02T13:01:07.249Z"
   },
   {
    "duration": 7,
    "start_time": "2023-12-02T13:01:07.256Z"
   },
   {
    "duration": 6,
    "start_time": "2023-12-02T13:01:07.264Z"
   },
   {
    "duration": 17,
    "start_time": "2023-12-02T13:01:07.271Z"
   },
   {
    "duration": 10,
    "start_time": "2023-12-02T13:01:07.289Z"
   },
   {
    "duration": 20,
    "start_time": "2023-12-02T13:01:07.300Z"
   },
   {
    "duration": 3,
    "start_time": "2023-12-02T13:01:07.321Z"
   },
   {
    "duration": 8,
    "start_time": "2023-12-02T13:01:07.325Z"
   },
   {
    "duration": 7,
    "start_time": "2023-12-02T13:01:07.335Z"
   },
   {
    "duration": 14,
    "start_time": "2023-12-02T13:01:07.343Z"
   },
   {
    "duration": 41,
    "start_time": "2023-12-02T13:01:07.358Z"
   },
   {
    "duration": 25,
    "start_time": "2023-12-02T13:01:07.401Z"
   },
   {
    "duration": 19,
    "start_time": "2023-12-02T13:01:07.428Z"
   },
   {
    "duration": 20,
    "start_time": "2023-12-02T13:01:07.449Z"
   },
   {
    "duration": 1360,
    "start_time": "2023-12-02T13:01:07.471Z"
   },
   {
    "duration": 28,
    "start_time": "2023-12-02T13:01:08.832Z"
   },
   {
    "duration": 1900,
    "start_time": "2023-12-02T13:01:08.862Z"
   },
   {
    "duration": 9,
    "start_time": "2023-12-02T13:01:10.764Z"
   },
   {
    "duration": 8,
    "start_time": "2023-12-02T13:01:10.775Z"
   },
   {
    "duration": 9,
    "start_time": "2023-12-02T13:01:10.784Z"
   },
   {
    "duration": 9,
    "start_time": "2023-12-02T13:01:10.811Z"
   },
   {
    "duration": 15,
    "start_time": "2023-12-02T13:01:10.822Z"
   },
   {
    "duration": 9,
    "start_time": "2023-12-02T13:01:10.839Z"
   },
   {
    "duration": 12,
    "start_time": "2023-12-02T13:01:10.849Z"
   },
   {
    "duration": 10,
    "start_time": "2023-12-02T13:01:10.862Z"
   },
   {
    "duration": 8,
    "start_time": "2023-12-02T13:01:10.873Z"
   },
   {
    "duration": 34,
    "start_time": "2023-12-02T13:01:10.882Z"
   },
   {
    "duration": 13,
    "start_time": "2023-12-02T13:01:10.917Z"
   },
   {
    "duration": 11210,
    "start_time": "2023-12-02T13:01:10.931Z"
   },
   {
    "duration": 10,
    "start_time": "2023-12-02T13:01:22.143Z"
   },
   {
    "duration": 13,
    "start_time": "2023-12-02T13:01:22.155Z"
   },
   {
    "duration": 11,
    "start_time": "2023-12-02T13:01:22.169Z"
   },
   {
    "duration": 11,
    "start_time": "2023-12-02T13:01:22.211Z"
   },
   {
    "duration": 11,
    "start_time": "2023-12-02T13:01:22.224Z"
   },
   {
    "duration": 4,
    "start_time": "2023-12-02T13:01:22.236Z"
   },
   {
    "duration": 10,
    "start_time": "2023-12-02T13:01:22.241Z"
   },
   {
    "duration": 3,
    "start_time": "2023-12-02T13:01:22.253Z"
   },
   {
    "duration": 82,
    "start_time": "2023-12-02T13:01:22.257Z"
   },
   {
    "duration": 172,
    "start_time": "2023-12-02T13:01:22.341Z"
   },
   {
    "duration": 0,
    "start_time": "2023-12-02T13:01:22.514Z"
   },
   {
    "duration": 0,
    "start_time": "2023-12-02T13:01:22.516Z"
   },
   {
    "duration": 0,
    "start_time": "2023-12-02T13:01:22.517Z"
   },
   {
    "duration": 0,
    "start_time": "2023-12-02T13:01:22.519Z"
   },
   {
    "duration": 0,
    "start_time": "2023-12-02T13:01:22.520Z"
   },
   {
    "duration": 0,
    "start_time": "2023-12-02T13:01:22.522Z"
   },
   {
    "duration": 0,
    "start_time": "2023-12-02T13:01:22.523Z"
   },
   {
    "duration": 0,
    "start_time": "2023-12-02T13:01:22.525Z"
   },
   {
    "duration": 0,
    "start_time": "2023-12-02T13:01:22.527Z"
   },
   {
    "duration": 10130,
    "start_time": "2023-12-02T13:01:52.998Z"
   },
   {
    "duration": 2271,
    "start_time": "2023-12-02T13:02:03.129Z"
   },
   {
    "duration": 42,
    "start_time": "2023-12-02T13:02:05.401Z"
   },
   {
    "duration": 4,
    "start_time": "2023-12-02T13:02:05.445Z"
   },
   {
    "duration": 19,
    "start_time": "2023-12-02T13:02:05.452Z"
   },
   {
    "duration": 28,
    "start_time": "2023-12-02T13:02:05.473Z"
   },
   {
    "duration": 15,
    "start_time": "2023-12-02T13:02:05.502Z"
   },
   {
    "duration": 16,
    "start_time": "2023-12-02T13:02:05.518Z"
   },
   {
    "duration": 15,
    "start_time": "2023-12-02T13:02:05.535Z"
   },
   {
    "duration": 165,
    "start_time": "2023-12-02T13:02:05.552Z"
   },
   {
    "duration": 4,
    "start_time": "2023-12-02T13:02:05.718Z"
   },
   {
    "duration": 145,
    "start_time": "2023-12-02T13:02:05.723Z"
   },
   {
    "duration": 138,
    "start_time": "2023-12-02T13:02:05.869Z"
   },
   {
    "duration": 5,
    "start_time": "2023-12-02T13:02:06.010Z"
   },
   {
    "duration": 12,
    "start_time": "2023-12-02T13:02:06.017Z"
   },
   {
    "duration": 16,
    "start_time": "2023-12-02T13:02:06.030Z"
   },
   {
    "duration": 142,
    "start_time": "2023-12-02T13:02:06.047Z"
   },
   {
    "duration": 8,
    "start_time": "2023-12-02T13:02:06.190Z"
   },
   {
    "duration": 144,
    "start_time": "2023-12-02T13:02:06.200Z"
   },
   {
    "duration": 20,
    "start_time": "2023-12-02T13:02:06.346Z"
   },
   {
    "duration": 3,
    "start_time": "2023-12-02T13:02:06.368Z"
   },
   {
    "duration": 15,
    "start_time": "2023-12-02T13:02:06.373Z"
   },
   {
    "duration": 27,
    "start_time": "2023-12-02T13:02:06.389Z"
   },
   {
    "duration": 13,
    "start_time": "2023-12-02T13:02:06.418Z"
   },
   {
    "duration": 13,
    "start_time": "2023-12-02T13:02:06.433Z"
   },
   {
    "duration": 8,
    "start_time": "2023-12-02T13:02:06.448Z"
   },
   {
    "duration": 6,
    "start_time": "2023-12-02T13:02:06.458Z"
   },
   {
    "duration": 7,
    "start_time": "2023-12-02T13:02:06.465Z"
   },
   {
    "duration": 37,
    "start_time": "2023-12-02T13:02:06.474Z"
   },
   {
    "duration": 112,
    "start_time": "2023-12-02T13:02:06.513Z"
   },
   {
    "duration": 15,
    "start_time": "2023-12-02T13:02:06.627Z"
   },
   {
    "duration": 8,
    "start_time": "2023-12-02T13:02:06.643Z"
   },
   {
    "duration": 9,
    "start_time": "2023-12-02T13:02:06.652Z"
   },
   {
    "duration": 7,
    "start_time": "2023-12-02T13:02:06.662Z"
   },
   {
    "duration": 18,
    "start_time": "2023-12-02T13:02:06.671Z"
   },
   {
    "duration": 21,
    "start_time": "2023-12-02T13:02:06.691Z"
   },
   {
    "duration": 6,
    "start_time": "2023-12-02T13:02:06.713Z"
   },
   {
    "duration": 7,
    "start_time": "2023-12-02T13:02:06.721Z"
   },
   {
    "duration": 20,
    "start_time": "2023-12-02T13:02:06.729Z"
   },
   {
    "duration": 3,
    "start_time": "2023-12-02T13:02:06.751Z"
   },
   {
    "duration": 6,
    "start_time": "2023-12-02T13:02:06.758Z"
   },
   {
    "duration": 6,
    "start_time": "2023-12-02T13:02:06.765Z"
   },
   {
    "duration": 4,
    "start_time": "2023-12-02T13:02:06.772Z"
   },
   {
    "duration": 68,
    "start_time": "2023-12-02T13:02:06.777Z"
   },
   {
    "duration": 26,
    "start_time": "2023-12-02T13:02:06.847Z"
   },
   {
    "duration": 36,
    "start_time": "2023-12-02T13:02:06.875Z"
   },
   {
    "duration": 21,
    "start_time": "2023-12-02T13:02:06.912Z"
   },
   {
    "duration": 1329,
    "start_time": "2023-12-02T13:02:06.934Z"
   },
   {
    "duration": 29,
    "start_time": "2023-12-02T13:02:08.264Z"
   },
   {
    "duration": 1830,
    "start_time": "2023-12-02T13:02:08.295Z"
   },
   {
    "duration": 11,
    "start_time": "2023-12-02T13:02:10.127Z"
   },
   {
    "duration": 10,
    "start_time": "2023-12-02T13:02:10.140Z"
   },
   {
    "duration": 9,
    "start_time": "2023-12-02T13:02:10.152Z"
   },
   {
    "duration": 8,
    "start_time": "2023-12-02T13:02:10.163Z"
   },
   {
    "duration": 41,
    "start_time": "2023-12-02T13:02:10.173Z"
   },
   {
    "duration": 11,
    "start_time": "2023-12-02T13:02:10.216Z"
   },
   {
    "duration": 10,
    "start_time": "2023-12-02T13:02:10.229Z"
   },
   {
    "duration": 12,
    "start_time": "2023-12-02T13:02:10.241Z"
   },
   {
    "duration": 11,
    "start_time": "2023-12-02T13:02:10.255Z"
   },
   {
    "duration": 47,
    "start_time": "2023-12-02T13:02:10.267Z"
   },
   {
    "duration": 16,
    "start_time": "2023-12-02T13:02:10.316Z"
   },
   {
    "duration": 10880,
    "start_time": "2023-12-02T13:02:10.333Z"
   },
   {
    "duration": 10,
    "start_time": "2023-12-02T13:02:21.215Z"
   },
   {
    "duration": 20,
    "start_time": "2023-12-02T13:02:21.226Z"
   },
   {
    "duration": 10,
    "start_time": "2023-12-02T13:02:21.248Z"
   },
   {
    "duration": 52,
    "start_time": "2023-12-02T13:02:21.259Z"
   },
   {
    "duration": 12,
    "start_time": "2023-12-02T13:02:21.313Z"
   },
   {
    "duration": 5,
    "start_time": "2023-12-02T13:02:21.326Z"
   },
   {
    "duration": 13,
    "start_time": "2023-12-02T13:02:21.332Z"
   },
   {
    "duration": 3,
    "start_time": "2023-12-02T13:02:21.346Z"
   },
   {
    "duration": 73,
    "start_time": "2023-12-02T13:02:21.350Z"
   },
   {
    "duration": 396,
    "start_time": "2023-12-02T13:02:21.424Z"
   },
   {
    "duration": 4000,
    "start_time": "2023-12-02T13:02:21.912Z"
   },
   {
    "duration": 9525,
    "start_time": "2023-12-02T13:02:25.914Z"
   },
   {
    "duration": 291959,
    "start_time": "2023-12-02T13:02:35.441Z"
   },
   {
    "duration": 163088,
    "start_time": "2023-12-02T13:07:27.402Z"
   },
   {
    "duration": 4,
    "start_time": "2023-12-02T13:10:10.492Z"
   },
   {
    "duration": 14632,
    "start_time": "2023-12-02T13:10:10.498Z"
   },
   {
    "duration": 18,
    "start_time": "2023-12-02T13:10:25.132Z"
   },
   {
    "duration": 182,
    "start_time": "2023-12-02T13:10:25.152Z"
   },
   {
    "duration": 0,
    "start_time": "2023-12-02T13:10:25.335Z"
   },
   {
    "duration": 151,
    "start_time": "2023-12-02T13:10:35.315Z"
   },
   {
    "duration": 12,
    "start_time": "2023-12-02T13:13:06.179Z"
   },
   {
    "duration": 10,
    "start_time": "2023-12-02T13:13:56.160Z"
   },
   {
    "duration": 16,
    "start_time": "2023-12-02T13:14:12.186Z"
   },
   {
    "duration": 10,
    "start_time": "2023-12-02T13:14:21.186Z"
   },
   {
    "duration": 7,
    "start_time": "2023-12-02T13:14:27.155Z"
   },
   {
    "duration": 12,
    "start_time": "2023-12-02T13:16:05.038Z"
   },
   {
    "duration": 12,
    "start_time": "2023-12-02T13:16:11.186Z"
   },
   {
    "duration": 13,
    "start_time": "2023-12-02T13:16:54.274Z"
   },
   {
    "duration": 17,
    "start_time": "2023-12-02T13:17:06.480Z"
   },
   {
    "duration": 12,
    "start_time": "2023-12-02T13:17:07.323Z"
   },
   {
    "duration": 12,
    "start_time": "2023-12-02T13:17:16.344Z"
   },
   {
    "duration": 4,
    "start_time": "2023-12-02T13:17:30.684Z"
   },
   {
    "duration": 19,
    "start_time": "2023-12-02T13:17:53.635Z"
   },
   {
    "duration": 15,
    "start_time": "2023-12-02T13:21:24.710Z"
   },
   {
    "duration": 19,
    "start_time": "2023-12-02T13:22:56.462Z"
   },
   {
    "duration": 14,
    "start_time": "2023-12-02T13:23:19.683Z"
   },
   {
    "duration": 17,
    "start_time": "2023-12-02T13:23:54.973Z"
   },
   {
    "duration": 18,
    "start_time": "2023-12-02T13:25:23.579Z"
   },
   {
    "duration": 17,
    "start_time": "2023-12-02T13:25:38.707Z"
   },
   {
    "duration": 19,
    "start_time": "2023-12-02T13:26:11.993Z"
   },
   {
    "duration": 20,
    "start_time": "2023-12-02T13:26:23.355Z"
   },
   {
    "duration": 12,
    "start_time": "2023-12-02T13:26:35.256Z"
   },
   {
    "duration": 14,
    "start_time": "2023-12-02T13:26:43.592Z"
   },
   {
    "duration": 4,
    "start_time": "2023-12-02T13:27:21.680Z"
   },
   {
    "duration": 15,
    "start_time": "2023-12-02T13:27:22.308Z"
   },
   {
    "duration": 17,
    "start_time": "2023-12-02T13:27:30.695Z"
   },
   {
    "duration": 13,
    "start_time": "2023-12-02T13:27:30.714Z"
   },
   {
    "duration": 18,
    "start_time": "2023-12-02T13:28:45.140Z"
   },
   {
    "duration": 14,
    "start_time": "2023-12-02T13:28:46.536Z"
   },
   {
    "duration": 12,
    "start_time": "2023-12-02T13:29:02.276Z"
   },
   {
    "duration": 14,
    "start_time": "2023-12-02T13:29:02.908Z"
   },
   {
    "duration": 12,
    "start_time": "2023-12-02T13:29:10.091Z"
   },
   {
    "duration": 15,
    "start_time": "2023-12-02T13:29:10.311Z"
   },
   {
    "duration": 13,
    "start_time": "2023-12-02T13:29:54.424Z"
   },
   {
    "duration": 13,
    "start_time": "2023-12-02T13:29:54.624Z"
   },
   {
    "duration": 11,
    "start_time": "2023-12-02T13:41:42.820Z"
   },
   {
    "duration": 9,
    "start_time": "2023-12-02T13:42:26.190Z"
   },
   {
    "duration": 10208,
    "start_time": "2023-12-02T14:15:48.515Z"
   },
   {
    "duration": 2323,
    "start_time": "2023-12-02T14:15:58.725Z"
   },
   {
    "duration": 44,
    "start_time": "2023-12-02T14:16:01.050Z"
   },
   {
    "duration": 4,
    "start_time": "2023-12-02T14:16:01.096Z"
   },
   {
    "duration": 39,
    "start_time": "2023-12-02T14:16:01.101Z"
   },
   {
    "duration": 31,
    "start_time": "2023-12-02T14:16:01.142Z"
   },
   {
    "duration": 29,
    "start_time": "2023-12-02T14:16:01.175Z"
   },
   {
    "duration": 28,
    "start_time": "2023-12-02T14:16:01.205Z"
   },
   {
    "duration": 46,
    "start_time": "2023-12-02T14:16:01.234Z"
   },
   {
    "duration": 147,
    "start_time": "2023-12-02T14:16:01.281Z"
   },
   {
    "duration": 4,
    "start_time": "2023-12-02T14:16:01.429Z"
   },
   {
    "duration": 153,
    "start_time": "2023-12-02T14:16:01.434Z"
   },
   {
    "duration": 148,
    "start_time": "2023-12-02T14:16:01.589Z"
   },
   {
    "duration": 6,
    "start_time": "2023-12-02T14:16:01.741Z"
   },
   {
    "duration": 24,
    "start_time": "2023-12-02T14:16:01.749Z"
   },
   {
    "duration": 49,
    "start_time": "2023-12-02T14:16:01.774Z"
   },
   {
    "duration": 207,
    "start_time": "2023-12-02T14:16:01.825Z"
   },
   {
    "duration": 10,
    "start_time": "2023-12-02T14:16:02.033Z"
   },
   {
    "duration": 130,
    "start_time": "2023-12-02T14:16:02.044Z"
   },
   {
    "duration": 33,
    "start_time": "2023-12-02T14:16:02.175Z"
   },
   {
    "duration": 3,
    "start_time": "2023-12-02T14:16:02.210Z"
   },
   {
    "duration": 45,
    "start_time": "2023-12-02T14:16:02.215Z"
   },
   {
    "duration": 41,
    "start_time": "2023-12-02T14:16:02.262Z"
   },
   {
    "duration": 24,
    "start_time": "2023-12-02T14:16:02.305Z"
   },
   {
    "duration": 30,
    "start_time": "2023-12-02T14:16:02.331Z"
   },
   {
    "duration": 27,
    "start_time": "2023-12-02T14:16:02.363Z"
   },
   {
    "duration": 24,
    "start_time": "2023-12-02T14:16:02.392Z"
   },
   {
    "duration": 29,
    "start_time": "2023-12-02T14:16:02.417Z"
   },
   {
    "duration": 45,
    "start_time": "2023-12-02T14:16:02.447Z"
   },
   {
    "duration": 111,
    "start_time": "2023-12-02T14:16:02.493Z"
   },
   {
    "duration": 35,
    "start_time": "2023-12-02T14:16:02.610Z"
   },
   {
    "duration": 41,
    "start_time": "2023-12-02T14:16:02.646Z"
   },
   {
    "duration": 20,
    "start_time": "2023-12-02T14:16:02.689Z"
   },
   {
    "duration": 23,
    "start_time": "2023-12-02T14:16:02.710Z"
   },
   {
    "duration": 28,
    "start_time": "2023-12-02T14:16:02.734Z"
   },
   {
    "duration": 19,
    "start_time": "2023-12-02T14:16:02.764Z"
   },
   {
    "duration": 13,
    "start_time": "2023-12-02T14:16:02.785Z"
   },
   {
    "duration": 9,
    "start_time": "2023-12-02T14:16:02.800Z"
   },
   {
    "duration": 35,
    "start_time": "2023-12-02T14:16:02.810Z"
   },
   {
    "duration": 3,
    "start_time": "2023-12-02T14:16:02.846Z"
   },
   {
    "duration": 6,
    "start_time": "2023-12-02T14:16:02.853Z"
   },
   {
    "duration": 5,
    "start_time": "2023-12-02T14:16:02.860Z"
   },
   {
    "duration": 7,
    "start_time": "2023-12-02T14:16:02.867Z"
   },
   {
    "duration": 38,
    "start_time": "2023-12-02T14:16:02.875Z"
   },
   {
    "duration": 20,
    "start_time": "2023-12-02T14:16:02.915Z"
   },
   {
    "duration": 17,
    "start_time": "2023-12-02T14:16:02.936Z"
   },
   {
    "duration": 21,
    "start_time": "2023-12-02T14:16:02.954Z"
   },
   {
    "duration": 1303,
    "start_time": "2023-12-02T14:16:02.976Z"
   },
   {
    "duration": 34,
    "start_time": "2023-12-02T14:16:04.281Z"
   },
   {
    "duration": 1762,
    "start_time": "2023-12-02T14:16:04.316Z"
   },
   {
    "duration": 10,
    "start_time": "2023-12-02T14:16:06.079Z"
   },
   {
    "duration": 21,
    "start_time": "2023-12-02T14:16:06.090Z"
   },
   {
    "duration": 23,
    "start_time": "2023-12-02T14:16:06.112Z"
   },
   {
    "duration": 21,
    "start_time": "2023-12-02T14:16:06.136Z"
   },
   {
    "duration": 9,
    "start_time": "2023-12-02T14:16:06.159Z"
   },
   {
    "duration": 15,
    "start_time": "2023-12-02T14:16:06.170Z"
   },
   {
    "duration": 9,
    "start_time": "2023-12-02T14:16:06.186Z"
   },
   {
    "duration": 9,
    "start_time": "2023-12-02T14:16:06.196Z"
   },
   {
    "duration": 12,
    "start_time": "2023-12-02T14:16:06.212Z"
   },
   {
    "duration": 8,
    "start_time": "2023-12-02T14:16:06.226Z"
   },
   {
    "duration": 17,
    "start_time": "2023-12-02T14:16:06.236Z"
   },
   {
    "duration": 10639,
    "start_time": "2023-12-02T14:16:06.254Z"
   },
   {
    "duration": 18,
    "start_time": "2023-12-02T14:16:16.895Z"
   },
   {
    "duration": 11,
    "start_time": "2023-12-02T14:16:16.915Z"
   },
   {
    "duration": 10,
    "start_time": "2023-12-02T14:16:16.927Z"
   },
   {
    "duration": 16,
    "start_time": "2023-12-02T14:16:16.938Z"
   },
   {
    "duration": 13,
    "start_time": "2023-12-02T14:16:16.955Z"
   },
   {
    "duration": 4,
    "start_time": "2023-12-02T14:16:17.011Z"
   },
   {
    "duration": 11,
    "start_time": "2023-12-02T14:16:17.017Z"
   },
   {
    "duration": 4,
    "start_time": "2023-12-02T14:16:17.029Z"
   },
   {
    "duration": 53,
    "start_time": "2023-12-02T14:16:17.034Z"
   },
   {
    "duration": 426,
    "start_time": "2023-12-02T14:16:17.089Z"
   },
   {
    "duration": 4099,
    "start_time": "2023-12-02T14:16:17.518Z"
   },
   {
    "duration": 10018,
    "start_time": "2023-12-02T14:16:21.619Z"
   },
   {
    "duration": 290768,
    "start_time": "2023-12-02T14:16:31.639Z"
   },
   {
    "duration": 163541,
    "start_time": "2023-12-02T14:21:22.411Z"
   },
   {
    "duration": 4,
    "start_time": "2023-12-02T14:24:05.953Z"
   },
   {
    "duration": 15510,
    "start_time": "2023-12-02T14:24:05.959Z"
   },
   {
    "duration": 13,
    "start_time": "2023-12-02T14:24:21.470Z"
   },
   {
    "duration": 15,
    "start_time": "2023-12-02T14:24:21.484Z"
   },
   {
    "duration": 15,
    "start_time": "2023-12-02T14:24:21.500Z"
   },
   {
    "duration": 13,
    "start_time": "2023-12-02T14:24:21.516Z"
   },
   {
    "duration": 172,
    "start_time": "2023-12-02T14:24:21.530Z"
   },
   {
    "duration": 11,
    "start_time": "2023-12-02T14:26:24.837Z"
   }
  ],
  "kernelspec": {
   "display_name": "Python 3 (ipykernel)",
   "language": "python",
   "name": "python3"
  },
  "language_info": {
   "codemirror_mode": {
    "name": "ipython",
    "version": 3
   },
   "file_extension": ".py",
   "mimetype": "text/x-python",
   "name": "python",
   "nbconvert_exporter": "python",
   "pygments_lexer": "ipython3",
   "version": "3.11.7"
  },
  "toc": {
   "base_numbering": 1,
   "nav_menu": {},
   "number_sections": true,
   "sideBar": true,
   "skip_h1_title": true,
   "title_cell": "Table of Contents",
   "title_sidebar": "Contents",
   "toc_cell": false,
   "toc_position": {
    "height": "calc(100% - 180px)",
    "left": "10px",
    "top": "150px",
    "width": "221px"
   },
   "toc_section_display": true,
   "toc_window_display": true
  },
  "widgets": {
   "application/vnd.jupyter.widget-state+json": {
    "state": {},
    "version_major": 2,
    "version_minor": 0
   }
  }
 },
 "nbformat": 4,
 "nbformat_minor": 5
}
